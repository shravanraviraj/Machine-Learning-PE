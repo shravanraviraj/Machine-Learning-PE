{
 "cells": [
  {
   "cell_type": "markdown",
   "id": "frank-statistics",
   "metadata": {
    "id": "frank-statistics"
   },
   "source": [
    "### Task 2"
   ]
  },
  {
   "cell_type": "code",
   "execution_count": 1,
   "id": "hundred-making",
   "metadata": {
    "id": "hundred-making"
   },
   "outputs": [],
   "source": [
    "import numpy as np\n",
    "import re"
   ]
  },
  {
   "cell_type": "code",
   "execution_count": 2,
   "id": "orange-restriction",
   "metadata": {
    "colab": {
     "base_uri": "https://localhost:8080/"
    },
    "id": "orange-restriction",
    "outputId": "269dea67-3c36-4677-8613-55416a830ce9"
   },
   "outputs": [
    {
     "name": "stdout",
     "output_type": "stream",
     "text": [
      "['Food was damn good!:)', 'good food. recommended', 'YOU PEOPLE ARE THE BEST!!!', 'It tasted very bad..... too bad service as well']\n"
     ]
    }
   ],
   "source": [
    "sample_listofreview=['Food was damn good!:)','good food. recommended','YOU PEOPLE ARE THE BEST!!!','It tasted very bad..... too bad service as well']\n",
    "print(sample_listofreview)"
   ]
  },
  {
   "cell_type": "code",
   "execution_count": 3,
   "id": "refined-diving",
   "metadata": {
    "id": "refined-diving"
   },
   "outputs": [
    {
     "name": "stdout",
     "output_type": "stream",
     "text": [
      "YOU PEOPLE ARE THE BEST\n",
      "\n",
      "\n",
      "you people are the best\n"
     ]
    }
   ],
   "source": [
    "sample=sample_listofreview[2]\n",
    "sample=re.sub('[!@#$%.^&*()_+}{\":?><\"}]','',sample)\n",
    "print(sample)\n",
    "sample=sample.lower()\n",
    "print('\\n')\n",
    "print(sample)"
   ]
  },
  {
   "cell_type": "markdown",
   "id": "appointed-consciousness",
   "metadata": {
    "id": "appointed-consciousness"
   },
   "source": [
    "#### Preprocessing the data"
   ]
  },
  {
   "cell_type": "code",
   "execution_count": 4,
   "id": "former-fifteen",
   "metadata": {
    "id": "former-fifteen"
   },
   "outputs": [
    {
     "name": "stdout",
     "output_type": "stream",
     "text": [
      "['food was damn good', 'good food recommended', 'you people are the best', 'it tasted very bad too bad service as well']\n"
     ]
    }
   ],
   "source": [
    "processed_reviews=[]\n",
    "for review in sample_listofreview:\n",
    "    for words in review:\n",
    "        review=re.sub('[!@#$%^&*.()_+}{\":?><\"}]','',review)\n",
    "        review=review.lower()\n",
    "    processed_reviews.append(review)\n",
    "    \n",
    "print(processed_reviews)"
   ]
  },
  {
   "cell_type": "markdown",
   "id": "bored-match",
   "metadata": {
    "id": "bored-match"
   },
   "source": [
    "#### Collecting the uniques words"
   ]
  },
  {
   "cell_type": "code",
   "execution_count": 5,
   "id": "quarterly-bride",
   "metadata": {
    "id": "quarterly-bride"
   },
   "outputs": [
    {
     "name": "stdout",
     "output_type": "stream",
     "text": [
      "list of unique words ['food', 'was', 'damn', 'good', 'recommended', 'you', 'people', 'are', 'the', 'best', 'it', 'tasted', 'very', 'bad', 'too', 'service', 'as', 'well']\n"
     ]
    }
   ],
   "source": [
    "unique_words=[]\n",
    "for review in processed_reviews:\n",
    "    for word in review.split():\n",
    "        if word not in unique_words:\n",
    "            unique_words.append(word)\n",
    "\n",
    "print('list of unique words',unique_words)"
   ]
  },
  {
   "cell_type": "code",
   "execution_count": 8,
   "id": "lovely-being",
   "metadata": {
    "id": "lovely-being"
   },
   "outputs": [
    {
     "data": {
      "text/plain": [
       "array([[1., 1., 1., 1., 0., 0., 0., 0., 0., 0., 0., 0., 0., 0., 0., 0.,\n",
       "        0., 0.],\n",
       "       [1., 0., 0., 1., 1., 0., 0., 0., 0., 0., 0., 0., 0., 0., 0., 0.,\n",
       "        0., 0.],\n",
       "       [0., 0., 0., 0., 0., 1., 1., 1., 1., 1., 0., 0., 0., 0., 0., 0.,\n",
       "        0., 0.],\n",
       "       [0., 0., 0., 0., 0., 0., 0., 0., 0., 0., 1., 1., 1., 2., 1., 1.,\n",
       "        2., 1.]])"
      ]
     },
     "execution_count": 8,
     "metadata": {},
     "output_type": "execute_result"
    }
   ],
   "source": [
    "feature_matrix=np.zeros((len(processed_reviews),len(unique_words)))\n",
    "for n,review in enumerate(processed_reviews):\n",
    "    for word in review.split():\n",
    "        feature_matrix[n][unique_words.index(word)]=review.count(word)\n",
    "        \n",
    "feature_matrix"
   ]
  },
  {
   "cell_type": "markdown",
   "id": "involved-integrity",
   "metadata": {
    "id": "involved-integrity"
   },
   "source": [
    "#### Assignment task\n",
    "<pre>\n",
    "Download data from <a href='https://tinyurl.com/47rx5cce'>link</a>\n",
    "\n",
    "1. process the data \n",
    "1a. remove special characters\n",
    "1b. remove non english words\n",
    "1c. remove numerical values\n",
    "1d. all words in lower case\n",
    "1e. remove punctuation\n",
    "1f. Featurize using Bag of Words technique\n",
    "\n",
    "2. Fit the Naive Bayes Classifier\n",
    "3. Report the Accuracy\n",
    "4. Compare the Results from other Variants of NB Models \n",
    "5. Write your own observations\n",
    "\n",
    "</pre>\n"
   ]
  },
  {
   "cell_type": "code",
   "execution_count": 10,
   "id": "measured-logistics",
   "metadata": {
    "id": "measured-logistics"
   },
   "outputs": [],
   "source": [
    "import pandas as pd\n",
    "import numpy as np\n",
    "import re\n",
    "\n",
    "df = pd.read_csv(\"/home/shravan/Desktop/Tweets.csv\")"
   ]
  },
  {
   "cell_type": "code",
   "execution_count": 11,
   "id": "determined-titanium",
   "metadata": {},
   "outputs": [
    {
     "data": {
      "text/html": [
       "<div>\n",
       "<style scoped>\n",
       "    .dataframe tbody tr th:only-of-type {\n",
       "        vertical-align: middle;\n",
       "    }\n",
       "\n",
       "    .dataframe tbody tr th {\n",
       "        vertical-align: top;\n",
       "    }\n",
       "\n",
       "    .dataframe thead th {\n",
       "        text-align: right;\n",
       "    }\n",
       "</style>\n",
       "<table border=\"1\" class=\"dataframe\">\n",
       "  <thead>\n",
       "    <tr style=\"text-align: right;\">\n",
       "      <th></th>\n",
       "      <th>tweet_id</th>\n",
       "      <th>airline_sentiment</th>\n",
       "      <th>text</th>\n",
       "      <th>tweet_created</th>\n",
       "    </tr>\n",
       "  </thead>\n",
       "  <tbody>\n",
       "    <tr>\n",
       "      <th>0</th>\n",
       "      <td>5.703060e+17</td>\n",
       "      <td>neutral</td>\n",
       "      <td>@VirginAmerica What @dhepburn said.</td>\n",
       "      <td>24-02-2015 11:35</td>\n",
       "    </tr>\n",
       "    <tr>\n",
       "      <th>1</th>\n",
       "      <td>5.703010e+17</td>\n",
       "      <td>positive</td>\n",
       "      <td>@VirginAmerica plus you've added commercials t...</td>\n",
       "      <td>24-02-2015 11:15</td>\n",
       "    </tr>\n",
       "    <tr>\n",
       "      <th>2</th>\n",
       "      <td>5.703010e+17</td>\n",
       "      <td>neutral</td>\n",
       "      <td>@VirginAmerica I didn't today... Must mean I n...</td>\n",
       "      <td>24-02-2015 11:15</td>\n",
       "    </tr>\n",
       "    <tr>\n",
       "      <th>3</th>\n",
       "      <td>5.703010e+17</td>\n",
       "      <td>negative</td>\n",
       "      <td>@VirginAmerica it's really aggressive to blast...</td>\n",
       "      <td>24-02-2015 11:15</td>\n",
       "    </tr>\n",
       "    <tr>\n",
       "      <th>4</th>\n",
       "      <td>5.703010e+17</td>\n",
       "      <td>negative</td>\n",
       "      <td>@VirginAmerica and it's a really big bad thing...</td>\n",
       "      <td>24-02-2015 11:14</td>\n",
       "    </tr>\n",
       "    <tr>\n",
       "      <th>...</th>\n",
       "      <td>...</td>\n",
       "      <td>...</td>\n",
       "      <td>...</td>\n",
       "      <td>...</td>\n",
       "    </tr>\n",
       "    <tr>\n",
       "      <th>14635</th>\n",
       "      <td>5.695880e+17</td>\n",
       "      <td>positive</td>\n",
       "      <td>@AmericanAir thank you we got on a different f...</td>\n",
       "      <td>22-02-2015 12:01</td>\n",
       "    </tr>\n",
       "    <tr>\n",
       "      <th>14636</th>\n",
       "      <td>5.695870e+17</td>\n",
       "      <td>negative</td>\n",
       "      <td>@AmericanAir leaving over 20 minutes Late Flig...</td>\n",
       "      <td>22-02-2015 11:59</td>\n",
       "    </tr>\n",
       "    <tr>\n",
       "      <th>14637</th>\n",
       "      <td>5.695870e+17</td>\n",
       "      <td>neutral</td>\n",
       "      <td>@AmericanAir Please bring American Airlines to...</td>\n",
       "      <td>22-02-2015 11:59</td>\n",
       "    </tr>\n",
       "    <tr>\n",
       "      <th>14638</th>\n",
       "      <td>5.695870e+17</td>\n",
       "      <td>negative</td>\n",
       "      <td>@AmericanAir you have my money, you change my ...</td>\n",
       "      <td>22-02-2015 11:59</td>\n",
       "    </tr>\n",
       "    <tr>\n",
       "      <th>14639</th>\n",
       "      <td>5.695870e+17</td>\n",
       "      <td>neutral</td>\n",
       "      <td>@AmericanAir we have 8 ppl so we need 2 know h...</td>\n",
       "      <td>22-02-2015 11:58</td>\n",
       "    </tr>\n",
       "  </tbody>\n",
       "</table>\n",
       "<p>14640 rows × 4 columns</p>\n",
       "</div>"
      ],
      "text/plain": [
       "           tweet_id airline_sentiment  \\\n",
       "0      5.703060e+17           neutral   \n",
       "1      5.703010e+17          positive   \n",
       "2      5.703010e+17           neutral   \n",
       "3      5.703010e+17          negative   \n",
       "4      5.703010e+17          negative   \n",
       "...             ...               ...   \n",
       "14635  5.695880e+17          positive   \n",
       "14636  5.695870e+17          negative   \n",
       "14637  5.695870e+17           neutral   \n",
       "14638  5.695870e+17          negative   \n",
       "14639  5.695870e+17           neutral   \n",
       "\n",
       "                                                    text     tweet_created  \n",
       "0                    @VirginAmerica What @dhepburn said.  24-02-2015 11:35  \n",
       "1      @VirginAmerica plus you've added commercials t...  24-02-2015 11:15  \n",
       "2      @VirginAmerica I didn't today... Must mean I n...  24-02-2015 11:15  \n",
       "3      @VirginAmerica it's really aggressive to blast...  24-02-2015 11:15  \n",
       "4      @VirginAmerica and it's a really big bad thing...  24-02-2015 11:14  \n",
       "...                                                  ...               ...  \n",
       "14635  @AmericanAir thank you we got on a different f...  22-02-2015 12:01  \n",
       "14636  @AmericanAir leaving over 20 minutes Late Flig...  22-02-2015 11:59  \n",
       "14637  @AmericanAir Please bring American Airlines to...  22-02-2015 11:59  \n",
       "14638  @AmericanAir you have my money, you change my ...  22-02-2015 11:59  \n",
       "14639  @AmericanAir we have 8 ppl so we need 2 know h...  22-02-2015 11:58  \n",
       "\n",
       "[14640 rows x 4 columns]"
      ]
     },
     "execution_count": 11,
     "metadata": {},
     "output_type": "execute_result"
    }
   ],
   "source": [
    "df"
   ]
  },
  {
   "cell_type": "code",
   "execution_count": 12,
   "id": "senior-tackle",
   "metadata": {},
   "outputs": [
    {
     "data": {
      "text/plain": [
       "0                      @VirginAmerica What @dhepburn said.\n",
       "1        @VirginAmerica plus you've added commercials t...\n",
       "2        @VirginAmerica I didn't today... Must mean I n...\n",
       "3        @VirginAmerica it's really aggressive to blast...\n",
       "4        @VirginAmerica and it's a really big bad thing...\n",
       "                               ...                        \n",
       "14635    @AmericanAir thank you we got on a different f...\n",
       "14636    @AmericanAir leaving over 20 minutes Late Flig...\n",
       "14637    @AmericanAir Please bring American Airlines to...\n",
       "14638    @AmericanAir you have my money, you change my ...\n",
       "14639    @AmericanAir we have 8 ppl so we need 2 know h...\n",
       "Name: text, Length: 14640, dtype: object"
      ]
     },
     "execution_count": 12,
     "metadata": {},
     "output_type": "execute_result"
    }
   ],
   "source": [
    "df[\"text\"]"
   ]
  },
  {
   "cell_type": "code",
   "execution_count": 13,
   "id": "applicable-princess",
   "metadata": {},
   "outputs": [
    {
     "name": "stderr",
     "output_type": "stream",
     "text": [
      "/home/shravan/anaconda3/lib/python3.7/site-packages/ipykernel_launcher.py:6: SettingWithCopyWarning: \n",
      "A value is trying to be set on a copy of a slice from a DataFrame\n",
      "\n",
      "See the caveats in the documentation: https://pandas.pydata.org/pandas-docs/stable/user_guide/indexing.html#returning-a-view-versus-a-copy\n",
      "  \n"
     ]
    },
    {
     "data": {
      "text/html": [
       "<div>\n",
       "<style scoped>\n",
       "    .dataframe tbody tr th:only-of-type {\n",
       "        vertical-align: middle;\n",
       "    }\n",
       "\n",
       "    .dataframe tbody tr th {\n",
       "        vertical-align: top;\n",
       "    }\n",
       "\n",
       "    .dataframe thead th {\n",
       "        text-align: right;\n",
       "    }\n",
       "</style>\n",
       "<table border=\"1\" class=\"dataframe\">\n",
       "  <thead>\n",
       "    <tr style=\"text-align: right;\">\n",
       "      <th></th>\n",
       "      <th>tweet_id</th>\n",
       "      <th>airline_sentiment</th>\n",
       "      <th>text</th>\n",
       "      <th>tweet_created</th>\n",
       "    </tr>\n",
       "  </thead>\n",
       "  <tbody>\n",
       "    <tr>\n",
       "      <th>0</th>\n",
       "      <td>5.703060e+17</td>\n",
       "      <td>neutral</td>\n",
       "      <td>virginamerica what dhepburn said</td>\n",
       "      <td>24-02-2015 11:35</td>\n",
       "    </tr>\n",
       "    <tr>\n",
       "      <th>1</th>\n",
       "      <td>5.703010e+17</td>\n",
       "      <td>positive</td>\n",
       "      <td>virginamerica plus you've added commercials to...</td>\n",
       "      <td>24-02-2015 11:15</td>\n",
       "    </tr>\n",
       "    <tr>\n",
       "      <th>2</th>\n",
       "      <td>5.703010e+17</td>\n",
       "      <td>neutral</td>\n",
       "      <td>virginamerica i didn't today must mean i need ...</td>\n",
       "      <td>24-02-2015 11:15</td>\n",
       "    </tr>\n",
       "    <tr>\n",
       "      <th>3</th>\n",
       "      <td>5.703010e+17</td>\n",
       "      <td>negative</td>\n",
       "      <td>virginamerica it's really aggressive to blast ...</td>\n",
       "      <td>24-02-2015 11:15</td>\n",
       "    </tr>\n",
       "    <tr>\n",
       "      <th>4</th>\n",
       "      <td>5.703010e+17</td>\n",
       "      <td>negative</td>\n",
       "      <td>virginamerica and it's a really big bad thing ...</td>\n",
       "      <td>24-02-2015 11:14</td>\n",
       "    </tr>\n",
       "    <tr>\n",
       "      <th>...</th>\n",
       "      <td>...</td>\n",
       "      <td>...</td>\n",
       "      <td>...</td>\n",
       "      <td>...</td>\n",
       "    </tr>\n",
       "    <tr>\n",
       "      <th>14635</th>\n",
       "      <td>5.695880e+17</td>\n",
       "      <td>positive</td>\n",
       "      <td>americanair thank you we got on a different fl...</td>\n",
       "      <td>22-02-2015 12:01</td>\n",
       "    </tr>\n",
       "    <tr>\n",
       "      <th>14636</th>\n",
       "      <td>5.695870e+17</td>\n",
       "      <td>negative</td>\n",
       "      <td>americanair leaving over 20 minutes late fligh...</td>\n",
       "      <td>22-02-2015 11:59</td>\n",
       "    </tr>\n",
       "    <tr>\n",
       "      <th>14637</th>\n",
       "      <td>5.695870e+17</td>\n",
       "      <td>neutral</td>\n",
       "      <td>americanair please bring american airlines to ...</td>\n",
       "      <td>22-02-2015 11:59</td>\n",
       "    </tr>\n",
       "    <tr>\n",
       "      <th>14638</th>\n",
       "      <td>5.695870e+17</td>\n",
       "      <td>negative</td>\n",
       "      <td>americanair you have my money, you change my f...</td>\n",
       "      <td>22-02-2015 11:59</td>\n",
       "    </tr>\n",
       "    <tr>\n",
       "      <th>14639</th>\n",
       "      <td>5.695870e+17</td>\n",
       "      <td>neutral</td>\n",
       "      <td>americanair we have 8 ppl so we need 2 know ho...</td>\n",
       "      <td>22-02-2015 11:58</td>\n",
       "    </tr>\n",
       "  </tbody>\n",
       "</table>\n",
       "<p>14640 rows × 4 columns</p>\n",
       "</div>"
      ],
      "text/plain": [
       "           tweet_id airline_sentiment  \\\n",
       "0      5.703060e+17           neutral   \n",
       "1      5.703010e+17          positive   \n",
       "2      5.703010e+17           neutral   \n",
       "3      5.703010e+17          negative   \n",
       "4      5.703010e+17          negative   \n",
       "...             ...               ...   \n",
       "14635  5.695880e+17          positive   \n",
       "14636  5.695870e+17          negative   \n",
       "14637  5.695870e+17           neutral   \n",
       "14638  5.695870e+17          negative   \n",
       "14639  5.695870e+17           neutral   \n",
       "\n",
       "                                                    text     tweet_created  \n",
       "0                       virginamerica what dhepburn said  24-02-2015 11:35  \n",
       "1      virginamerica plus you've added commercials to...  24-02-2015 11:15  \n",
       "2      virginamerica i didn't today must mean i need ...  24-02-2015 11:15  \n",
       "3      virginamerica it's really aggressive to blast ...  24-02-2015 11:15  \n",
       "4      virginamerica and it's a really big bad thing ...  24-02-2015 11:14  \n",
       "...                                                  ...               ...  \n",
       "14635  americanair thank you we got on a different fl...  22-02-2015 12:01  \n",
       "14636  americanair leaving over 20 minutes late fligh...  22-02-2015 11:59  \n",
       "14637  americanair please bring american airlines to ...  22-02-2015 11:59  \n",
       "14638  americanair you have my money, you change my f...  22-02-2015 11:59  \n",
       "14639  americanair we have 8 ppl so we need 2 know ho...  22-02-2015 11:58  \n",
       "\n",
       "[14640 rows x 4 columns]"
      ]
     },
     "execution_count": 13,
     "metadata": {},
     "output_type": "execute_result"
    }
   ],
   "source": [
    "for i in range(len(df)):\n",
    "    sample= df[\"text\"][i]\n",
    "    sample=re.sub('[!@#$%.^&*()_+}{\":?><\"}]','',sample)\n",
    "    #print(sample)\n",
    "    sample=sample.lower()\n",
    "    df[\"text\"][i] = sample\n",
    "\n",
    "df"
   ]
  },
  {
   "cell_type": "code",
   "execution_count": 14,
   "id": "verbal-there",
   "metadata": {},
   "outputs": [
    {
     "name": "stderr",
     "output_type": "stream",
     "text": [
      "/home/shravan/anaconda3/lib/python3.7/site-packages/ipykernel_launcher.py:4: SettingWithCopyWarning: \n",
      "A value is trying to be set on a copy of a slice from a DataFrame\n",
      "\n",
      "See the caveats in the documentation: https://pandas.pydata.org/pandas-docs/stable/user_guide/indexing.html#returning-a-view-versus-a-copy\n",
      "  after removing the cwd from sys.path.\n"
     ]
    }
   ],
   "source": [
    "\n",
    "for i in range(len(df)):\n",
    "    res = list(filter(lambda ele: re.search(\"[a-zA-Z\\s]+\", ele) is not None, df[\"text\"][i]))\n",
    "    #df[\"text\"][i] = list_to_str(res)\n",
    "    df[\"text\"][i] = ''.join([str(elem) for elem in res])"
   ]
  },
  {
   "cell_type": "code",
   "execution_count": 15,
   "id": "coated-apparatus",
   "metadata": {},
   "outputs": [
    {
     "data": {
      "text/html": [
       "<div>\n",
       "<style scoped>\n",
       "    .dataframe tbody tr th:only-of-type {\n",
       "        vertical-align: middle;\n",
       "    }\n",
       "\n",
       "    .dataframe tbody tr th {\n",
       "        vertical-align: top;\n",
       "    }\n",
       "\n",
       "    .dataframe thead th {\n",
       "        text-align: right;\n",
       "    }\n",
       "</style>\n",
       "<table border=\"1\" class=\"dataframe\">\n",
       "  <thead>\n",
       "    <tr style=\"text-align: right;\">\n",
       "      <th></th>\n",
       "      <th>tweet_id</th>\n",
       "      <th>airline_sentiment</th>\n",
       "      <th>text</th>\n",
       "      <th>tweet_created</th>\n",
       "    </tr>\n",
       "  </thead>\n",
       "  <tbody>\n",
       "    <tr>\n",
       "      <th>0</th>\n",
       "      <td>5.703060e+17</td>\n",
       "      <td>neutral</td>\n",
       "      <td>virginamerica what dhepburn said</td>\n",
       "      <td>24-02-2015 11:35</td>\n",
       "    </tr>\n",
       "    <tr>\n",
       "      <th>1</th>\n",
       "      <td>5.703010e+17</td>\n",
       "      <td>positive</td>\n",
       "      <td>virginamerica plus youve added commercials to ...</td>\n",
       "      <td>24-02-2015 11:15</td>\n",
       "    </tr>\n",
       "    <tr>\n",
       "      <th>2</th>\n",
       "      <td>5.703010e+17</td>\n",
       "      <td>neutral</td>\n",
       "      <td>virginamerica i didnt today must mean i need t...</td>\n",
       "      <td>24-02-2015 11:15</td>\n",
       "    </tr>\n",
       "    <tr>\n",
       "      <th>3</th>\n",
       "      <td>5.703010e+17</td>\n",
       "      <td>negative</td>\n",
       "      <td>virginamerica its really aggressive to blast o...</td>\n",
       "      <td>24-02-2015 11:15</td>\n",
       "    </tr>\n",
       "    <tr>\n",
       "      <th>4</th>\n",
       "      <td>5.703010e+17</td>\n",
       "      <td>negative</td>\n",
       "      <td>virginamerica and its a really big bad thing a...</td>\n",
       "      <td>24-02-2015 11:14</td>\n",
       "    </tr>\n",
       "    <tr>\n",
       "      <th>...</th>\n",
       "      <td>...</td>\n",
       "      <td>...</td>\n",
       "      <td>...</td>\n",
       "      <td>...</td>\n",
       "    </tr>\n",
       "    <tr>\n",
       "      <th>14635</th>\n",
       "      <td>5.695880e+17</td>\n",
       "      <td>positive</td>\n",
       "      <td>americanair thank you we got on a different fl...</td>\n",
       "      <td>22-02-2015 12:01</td>\n",
       "    </tr>\n",
       "    <tr>\n",
       "      <th>14636</th>\n",
       "      <td>5.695870e+17</td>\n",
       "      <td>negative</td>\n",
       "      <td>americanair leaving over  minutes late flight ...</td>\n",
       "      <td>22-02-2015 11:59</td>\n",
       "    </tr>\n",
       "    <tr>\n",
       "      <th>14637</th>\n",
       "      <td>5.695870e+17</td>\n",
       "      <td>neutral</td>\n",
       "      <td>americanair please bring american airlines to ...</td>\n",
       "      <td>22-02-2015 11:59</td>\n",
       "    </tr>\n",
       "    <tr>\n",
       "      <th>14638</th>\n",
       "      <td>5.695870e+17</td>\n",
       "      <td>negative</td>\n",
       "      <td>americanair you have my money you change my fl...</td>\n",
       "      <td>22-02-2015 11:59</td>\n",
       "    </tr>\n",
       "    <tr>\n",
       "      <th>14639</th>\n",
       "      <td>5.695870e+17</td>\n",
       "      <td>neutral</td>\n",
       "      <td>americanair we have  ppl so we need  know how ...</td>\n",
       "      <td>22-02-2015 11:58</td>\n",
       "    </tr>\n",
       "  </tbody>\n",
       "</table>\n",
       "<p>14640 rows × 4 columns</p>\n",
       "</div>"
      ],
      "text/plain": [
       "           tweet_id airline_sentiment  \\\n",
       "0      5.703060e+17           neutral   \n",
       "1      5.703010e+17          positive   \n",
       "2      5.703010e+17           neutral   \n",
       "3      5.703010e+17          negative   \n",
       "4      5.703010e+17          negative   \n",
       "...             ...               ...   \n",
       "14635  5.695880e+17          positive   \n",
       "14636  5.695870e+17          negative   \n",
       "14637  5.695870e+17           neutral   \n",
       "14638  5.695870e+17          negative   \n",
       "14639  5.695870e+17           neutral   \n",
       "\n",
       "                                                    text     tweet_created  \n",
       "0                       virginamerica what dhepburn said  24-02-2015 11:35  \n",
       "1      virginamerica plus youve added commercials to ...  24-02-2015 11:15  \n",
       "2      virginamerica i didnt today must mean i need t...  24-02-2015 11:15  \n",
       "3      virginamerica its really aggressive to blast o...  24-02-2015 11:15  \n",
       "4      virginamerica and its a really big bad thing a...  24-02-2015 11:14  \n",
       "...                                                  ...               ...  \n",
       "14635  americanair thank you we got on a different fl...  22-02-2015 12:01  \n",
       "14636  americanair leaving over  minutes late flight ...  22-02-2015 11:59  \n",
       "14637  americanair please bring american airlines to ...  22-02-2015 11:59  \n",
       "14638  americanair you have my money you change my fl...  22-02-2015 11:59  \n",
       "14639  americanair we have  ppl so we need  know how ...  22-02-2015 11:58  \n",
       "\n",
       "[14640 rows x 4 columns]"
      ]
     },
     "execution_count": 15,
     "metadata": {},
     "output_type": "execute_result"
    }
   ],
   "source": [
    "df"
   ]
  },
  {
   "cell_type": "code",
   "execution_count": 16,
   "id": "hearing-treat",
   "metadata": {},
   "outputs": [
    {
     "name": "stdout",
     "output_type": "stream",
     "text": [
      "list of unique words ['virginamerica', 'what', 'dhepburn', 'said', 'plus', 'youve', 'added', 'commercials', 'to', 'the', 'experience', 'tacky', 'i', 'didnt', 'today', 'must', 'mean', 'need', 'take', 'another', 'trip', 'its', 'really', 'aggressive', 'blast', 'obnoxious', 'entertainment', 'in', 'your', 'guests', 'faces', 'amp', 'they', 'have', 'little', 'recourse', 'and', 'a', 'big', 'bad', 'thing', 'about', 'it', 'seriously', 'would', 'pay', 'flight', 'for', 'seats', 'that', 'this', 'playing', 'only', 'flying', 'va', 'yes', 'nearly', 'every', 'time', 'fly', 'vx', 'ear', 'worm', 'wont', 'go', 'away', 'missed', 'prime', 'opportunity', 'men', 'without', 'hats', 'parody', 'there', 'httpstcomwpggrezp', 'well', 'didntbut', 'now', 'do', 'd', 'was', 'amazing', 'arrived', 'an', 'hour', 'early', 'youre', 'too', 'good', 'me', 'did', 'you', 'know', 'suicide', 'is', 'second', 'leading', 'cause', 'of', 'death', 'among', 'teens', 'lt', 'pretty', 'graphics', 'so', 'much', 'better', 'than', 'minimal', 'iconography', 'such', 'great', 'deal', 'already', 'thinking', 'my', 'nd', 'australia', 'havent', 'even', 'gone', 'on', 'st', 'yet', 'p', 'virginmedia', 'im', 'fabulous', 'seductive', 'skies', 'again', 'u', 'all', 'stress', 'from', 'travel', 'httptcoahlxhhkiyn', 'thanks', 'sfopdx', 'schedule', 'still', 'mia', 'excited', 'first', 'cross', 'country', 'lax', 'mco', 'ive', 'heard', 'nothing', 'but', 'things', 'virgin', 'america', 'daystogo', 'flew', 'nyc', 'sfo', 'last', 'week', 'couldnt', 'fully', 'sit', 'seat', 'due', 'two', 'large', 'gentleman', 'either', 'side', 'help', 'be', 'amazingly', 'awesome', 'bosfll', 'please', 'want', 'with', 'why', 'are', 'fares', 'may', 'over', 'three', 'times', 'more', 'other', 'carriers', 'when', 'available', 'select', 'love', 'graphic', 'httptcoutgrrwaaa', 'hipster', 'innovation', 'feel', 'brand', 'will', 'making', 'bosgtlas', 'non', 'stop', 'permanently', 'anytime', 'soon', 'guys', 'messed', 'up', 'seating', 'reserved', 'friends', 'gave', 'free', 'internet', 'status', 'match', 'program', 'applied', 'been', 'weeks', 'called', 'emailed', 'no', 'response', 'happened', 'ur', 'vegan', 'food', 'options', 'at', 'least', 'say', 'site', 'able', 'eat', 'anything', 'next', 'hrs', 'fail', 'miss', 'dont', 'worry', 'together', 'very', 'we', 'cant', 'get', 'any', 'cold', 'air', 'vents', 'noair', 'worstflightever', 'roasted', 'sfotobos', 'ewr', 'middle', 'red', 'eye', 'noob', 'maneuver', 'sendambien', 'andchexmix', 'hi', 'just', 'bked', 'cool', 'birthday', 'add', 'elevate', 'entered', 'name', 'during', 'booking', 'problems', 'hours', 'operation', 'club', 'posted', 'online', 'current', 'left', 'expensive', 'headphones', 'iad', 'one', 'answering', 'lampf', 'number', 'awaiting', 'return', 'phone', 'call', 'prefer', 'use', 'selfservice', 'option', 'news', 'could', 'start', 'flights', 'hawaii', 'by', 'end', 'year', 'httptcorpzyfe', 'via', 'pacificbiznews', 'nice', 'rt', 'vibe', 'moodlight', 'takeoff', 'touchdown', 'moodlitmonday', 'sciencebehindtheexperience', 'httptcoyounxtqp', 'moodlighting', 'way', 'best', 'ever', 'calming', 'freddieawards', 'done', 'airline', 'around', 'hands', 'down', 'can', 'book', 'chat', 'support', 'not', 'working', 'httptcovhpgtdwpk', 'view', 'downtown', 'los', 'angeles', 'hollywood', 'sign', 'beyond', 'rain', 'mountains', 'httptcodwnfibtr', 'hey', 'flyer', 'having', 'hard', 'getting', 'account', 'plz', 'win', 'bid', 'upgrade', 'laxgtsea', 'unused', 'ticket', 'moved', 'new', 'city', 'where', 'how', 'before', 'expires', 'travelhelp', 'leaving', 'dallas', 'seattle', 'feb', 'elevategold', 'reason', 'rock', 'dream', 'httptcooadrfaoq', 'httptcolwwdackhx', 'wow', 'blew', 'mind', 'ladygaga', 'carrieunderwood', 'after', 'night', 'tribute', 'soundofmusic', 'oscars', 'think', 'agree', 'were', 'entertaining', 'supposed', 'off', 'minutes', 'ago', 'website', 'shows', 'julie', 'andrews', 'though', 'impressive', 'wish', 'out', 'atlanta', 'la', 'february', 'th', 'lgagtdal', 'trying', 'since', 'page', 'never', 'loads', 'thx', 'spotify', 'stat', 'guiltypleasures', 'lady', 'gaga', 'she', 'carrie', 'marketing', 'song', 'httpstcoflfulcbq', 'let', 'us', 'wowd', 'meh', 'adding', 'elevatethey', 'shown', 'uphelp', 'sorry', 'mary', 'martin', 'had', 'beat', 'classics', 'dal', 'dca', 'pm', 'tried', 'check', 'heyyyy', 'guyyyys', 'through', 'someone', 'hold', 'earlier', 'tonight', 'congrats', 'winning', 'travelzoo', 'award', 'deals', 'httptcokjiljaebv', 'everything', 'fine', 'until', 'lost', 'bag', 'change', 'reservation', 'credit', 'card', 'modify', 'waive', 'fee', 'or', 'customer', 'service', 'team', 'if', 'tracking', 'booked', 'baggage', 'loft', 'needs', 'step', 'game', 'dirty', 'tables', 'floors', 'httptcohyvrfhjht', 'worried', 'ride', 'plane', 'crew', 'airlines', 'should', 'like', 'yall', 'sat', 'morning', 'correct', 'bill', 'watch', 'some', 'student', 'films', 'feet', 'cmfatfeet', 'httptcokekpdmgif', 'different', 'ratepolicy', 'media', 'bags', 'going', 'anyway', 'speak', 'human', 'asap', 'thank', 'doom', 'supp', 'biz', 'traveler', 'southwestair', 'jetblue', 'neverflyvirginforbusiness', 'then', 'once', 'member', 'inflight', 'teamim', 'interested', 'flightattendant', 'dreampath', 'g', 'whenever', 'begrudgingly', 'delayed', 'late', 'interesting', 'cancelled', 'four', 'plannedneverflyvirginforbusiness', 'disappointing', 'which', 'shared', 'business', 'meet', 'neverflyvirgin', 'trouble', 'wife', 'httptcopxhqoksr', 'bring', 'using', 'code', 'random', 'q', 'whats', 'distribution', 'avatars', 'bet', 'kitty', 'has', 'disproportionate', 'share', 'httptcoaptzpurop', 'life', 'happens', 'am', 'jperhi', 'helpva', 'home', 'back', 'rnp', 'yeah', 'points', 'most', 'recent', 'tv', 'video', 'disappointed', 'flightled', 'went', 'jfk', 'saturday', 'landed', 'here', 'friendly', 'nomorevirgin', 'redirected', 'btw', 'isnt', 'user', 'redesign', 'both', 'desktop', 'mobile', 'httptcoavyqdmpiy', 'scanned', 'passengers', 'leave', 'told', 'remove', 'their', 'class', 'bin', 'uncomfortable', 'find', 'who', 'anyone', 'doing', 'useless', 'boy', 'prince', 'ressie', 'sf', 'thursday', 'httptcogsbjcgm', 'appointments', 'sfolax', 'music', 'httptcomarcnocwzn', 'hows', 'direct', 'fllgtsfo', 'unexpected', 'layover', 'vegas', 'fuel', 'peeps', 'bought', 'sneaky', 'apt', 'people', 'same', 'exp', 'raeann', 'shes', 'customerservice', 'line', 'hung', 'sarcasm', 'tripping', 'plain', 'text', 'version', 'reluctant', 'enter', 'info', 'scheduled', 'changed', 'weather', 'looks', 'getaway', 'oneway', 'lots', 'cities', 'httptcotzzjhuibch', 'cheapflights', 'farecompare', 'httptcorpdbpxwnd', 'httptcobxiygt', 'httptcoqdljhsloi', 'come', 'phl', 'horrible', 'pleasecomeback', 'httptcoglxfwpnqh', 'concerned', 'tech', 'flown', 'oneasy', 'reservationhelpful', 'representatives', 'comfortable', 'rep', 'kicked', 'butt', 'naelah', 'represents', 'beautifully', 'beautiful', 'frontend', 'design', 'right', 'bc', 'backend', 'secure', 'running', 'gate', 'e', 'las', 'waited', 'kept', 'browser', 'reputation', 'built', 'doesnt', 'crossbrowser', 'compatible', 'totally', 'folks', 'problem', 'min', 'delay', 'connecting', 'seems', 'long', 'outstanding', 'nycjfk', 'san', 'francisco', 'absolute', 'delighted', 'provide', 'complimentary', 'upgrades', 'thats', 'wait', 'calling', 'intern', 'completely', 'month', 'boslas', 'nonstop', 'depart', 'vabeatsjblue', 'jfkgtsfo', 'failing', 'customers', 'because', 'process', 'does', 'link', 'tsa', 'precheck', 'fidifamilies', 'terrible', 'hotel', 'hotline', 'cabo', 'lucas', 'chrysichrysic', 'assistance', 'yesterday', 'our', 'give', 'shame', 'likingyoulessandless', 'register', 'dog', 'gt', 'dulles', 'queue', 'longer', 'pls', 'advise', 'redcarpet', 'reallytallchris', 'dropped', 'track', 'httpstcozvpttrk', 'always', 'xoxo', 'buy', 'them', 'creates', 'anxiety', 'frustrated', 'youd', 'paying', 'extra', 'bucks', 'luggage', 'might', 'afford', 'hiring', 'hand', 'lame', 'world', 'irmafromdallas', 'takes', 'cake', 'flt', 'sooner', 'midnight', 'monday', 'imagine', 'as', 'web', 'indicates', 'dude', 'andor', 'staff', 'super', 'helpful', 'ran', 'waltdisneyworld', 'princesshalf', 'spoiled', 'comfort', 'paid', 'premium', 'across', 'offer', 'sad', 'face', 'question', 'possible', 'infant', 'under', 'giving', 'him', 'welcome', 'jessicajaymes', 'dc', 'sunset', 'globe', 'backtowinter', 'work', 'refreshed', 'httptcovxvbctdlf', 'understand', 'dm', 'answer', 'damaged', 'policy', 'destroyed', 'special', 'alone', 'w', 'kids', 'priority', 'boarding', 'checking', 'tickets', 'purchased', 'happy', 'coming', 'field', 'definitely', 'lga', 'dfw', 'drivers', 'license', 'expired', 'friday', 'keeps', 'error', 'contact', 'minute', 'reschedule', 'button', 'greyed', 'rang', 'vendor', 'fix', 'got', 'todaychecked', 'email', 'tomorrow', 'unacceptable', 'into', 'flighted', 'stuck', 'pairings', 'include', 'wine', 'white', 'offered', 'redwineisbetter', 'wonked', 'look', 'browsers', 'css', 'httptcoqsqmmkf', 'agent', 'designated', 'silver', 'dullesairport', 'closed', 'assist', 'pasengers', 'plans', 'austin', 'route', 'topnews', 'arab', 'emirates', 'httptcoaqzwecokk', 'normal', 'receive', 'reply', 'central', 'baggageissues', 'smh', 'logan', 'airport', 'waiting', 'checkin', 'desk', 'open', 'jump', 'dallasaustin', 'market', 'dallasnews', 'httptcoewwgigdx', 'beats', 'eps', 'views', 'luv', 'investors', 'daily', 'httptcoflwmgdahxu', 'lister', 'show', 'begin', 'april', 'ketr', 'httptcossuvwwkyhh', 'fuck', 'united', 'fl', 'sfoewr', 'clincher', 'id', 'follow', 'many', 'apologies', 'r', 'worse', 'respond', 'cudtomers', 'spend', 'money', 'stranded', 'landing', 'reimburse', 'ttinac', 'sjc', 'choice', 'southwest', 'days', 'confirmation', 'inquired', 'claim', 'bos', 'notification', 'rebook', 'met', 'restr', 'httptcorhkamxvf', 'httptcopyalebgkjt', 'gold', 'cmh', 'lot', 'being', 'thrown', 'seevery', 'worst', 'stuff', 'wrong', 'issue', 'finding', 'missing', 'item', 'headed', 'americanairlines', 'virginamericayouve', 'matchgot', 'httptcohrdktqy', 'asarcoesar', 'lose', 'suck', 'dmd', 'persisting', 'recd', 'flightlation', 'notice', 'ps', 'driving', 'mon', 'boston', 'stink', 'psp', 'ability', 'expected', 'dancing', 'high', 'school', 'dance', 'revue', 'quick', 'apparently', 'faster', 'sitting', 'nervous', 'sent', 'picture', 'wing', 'httptcobagfdc', 'keep', 'goodness', 'pressure', 'texas', 'beatstheothers', 'crisis', 'ny', 'pilots', 'job', 'snow', 'york', 'area', 'afternoon', 'row', 'recline', 'mention', 'soreback', 'mechanical', 'handle', 'pros', 'tossed', 'drink', 'precipitation', 'scared', 'twitter', 'killed', 'rescheduling', 'charged', 'refusing', 'refund', 'access', 'safari', 'iphone', 'mac', 'ipad', 'passbook', 'clicking', 'received', 'broken', 'headerelevateusernumofpointsavailable', 'looking', 'forward', 'rescheduled', 'diehardvirgin', 'sec', 'flightledgonna', 'land', 'cost', 'ugh', 'along', 'subsequent', 'putting', 'pdx', 'httptcoeniqgbuzj', 'gonna', 'bug', 'report', 'center', 'bit', 'httptcovpqemxuq', 'attendant', 'httptcopxdelnql', 'nominated', 'meetthefleet', 'httptcodnstitrzwy', 'reset', 'password', 'arrives', 'based', 'silicon', 'valley', 'disruption', 'fcmostinnovative', 'incubator', 'fastcompanys', 'httptcowulbcncr', 'nicely', 'watching', 'something', 'bubbly', 'departure', 'todays', 'palm', 'springs', 'ca', 'hahaha', 'sounds', 'fun', 'updates', 'spruce', 'moose', 'unusable', 'checked', 'count', 'somehow', 'classiq', 'greetingz', 'continues', 'helping', 'sorted', 'sweet', 'rockies', 'airplanemodewason', 's', 'blasting', 'while', 'sanfrancisco', 'iced', 'coffee', 'passenger', 'assaulted', 'shouldnt', 'trust', 'hes', 'banned', 'filed', 'faanews', 'selecting', 'destination', 'httptcosllyibevq', 'severely', 'dentedmissing', 'wheel', 'miranda', 'wasnt', 'easy', 'itinerary', 'shift', 'impending', 'painless', 'see', 'girls', 'inspired', 'become', 'woaw', 'event', 'march', 'abq', 'httptcorfxlvkgdh', 'vodkatonics', 'entire', 'flightsfo', 'expectations', 'shares', 'santa', 'cruz', 'sentinel', 'httptcoqmdqbaig', 'lovegratitudempower', 'httptcoagrkncpf', 'werin', 'vipswagbags', 'avalonhollywood', 'httptcoybmbgsdhn', 'luxuriesaesthetics', 'improve', 'requested', 'window', 'confirmed', 'treat', 'grand', 'budapest', 'oscarscountdown', 'newsvp', 'wtf', 'purpose', 'exhausted', 'frequent', 'flier', 'inconvenience', 'full', 'dfwlax', 'x', 'boo', 'refunding', 'place', 'rise', 'financial', 'results', 'usa', 'httptcolfspefey', 'adds', 'pillows', 'instead', 'lieflat', 'arms', 'race', 'httptcorgywjbbhm', 'advantage', 'mayweatherpacquiao', 'fight', 'makes', 'cutest', 'salt', 'pepper', 'shaker', 'httptcovckeulgj', 'cabin', 'behind', 'selected', 'iol', 'httptcoxzqegnef', 'fav', 'hot', 'female', 'pilot', 'paris', 'lizautter', 'surgery', 'tell', 'doctor', 'contacted', 'renttherunway', 'charging', 'dress', 'suitcase', 'errors', 'past', 'callah', 'order', 'kciairport', 'regulation', 'virginatlantic', 'atlantic', 'benefits', 'husband', 'ordered', 'drinks', 'screen', 'came', 'soooo', 'seatbelt', 'light', 'barely', 'turbulence', 'posts', 'consecutive', 'fullyear', 'net', 'profit', 'atwonline', 'httptcotvbzbzvhg', 'funny', 'story', 'javascript', 'stylesheets', 'dislike', 'gopro', 'handily', 'exceed', 'forecasts', 'nytimes', 'httptcogonmrwemi', 'position', 'flylaxairport', 'wondering', 'application', 'achieves', 'profitability', 'despite', 'revenue', 'capaaviation', 'httptcozsuztnaijq', 'gives', 'positive', 'outlook', 'sees', 'increased', 'competition', 'reuters', 'httptcojeuodeyj', 'ct', 'tmm', 'sort', 'caching', 'sos', 'delays', 'few', 'madbee', 'links', 'emails', 'httptconpxbobmr', 'says', 'expect', 'choppy', 'gusty', 'winds', 'wa', 'temperature', 'degrees', 'wthe', 'windchill', 'loved', 'mondays', 'mostly', 'safety', 'sorrynotsorry', 'day', 'responseplease', 'section', 'chrome', 'wanna', 'wanted', 'routes', 'planned', 'newark', 'hope', 'probably', 'inappropriate', 'board', 'lets', 'saving', 'sanity', 'httptcoeltboljul', 'standby', 'understanding', 'helped', 'comps', 'brought', 'httptcotkauygcpms', 'absolutely', 'assets', 'httpstcooardjjgrrd', 'ready', 'noooo', 'manage', 'httpstcopujvcelng', 'httptcokacyawdbw', 'freyabevanfund', 'urgent', 'treatment', 'iny', 'old', 'battling', 'cancer', 'freyasfund', 'httptcoyponyprzl', 'biztravel', 'less', 'half', 'price', 'round', 'fare', 'stunned', 'httptcoukdjjijrow', 'happening', 'dtw', 'sold', 'promo', 'ssal', 'momma', 'made', 'portfolio', 'tonite', 'returned', 'jkf', 'c', 'shrinerack', 'bound', 'wifey', 'duffle', 'vday', 'keeper', 'holla', 'httptcojloiblnair', 'paperwork', 'promised', 'callemail', 'resolution', 'debbie', 'baldwin', 'rockstar', 'performance', 'demo', 'evening', 'lassfo', 'bestcrew', 'sherocks', 'taking', 'care', 'suuperg', 'her', 'rockstars', 'lovely', 'soft', 'httptcocnctlgef', 'mileage', 'challenge', 'several', 'facing', 'styling', 'ill', 'ourprincess', 'bandie', 'httptcoujfszikd', 'lofty', 'silverstatus', 'httptcoftpdawbd', 'ball', 'flightly', 'gma', 'americanair', 'httptcoaztdaer', 'adore', 'glad', 'mentioned', 'took', 'years', 'transformative', 'uphold', 'taxes', 'earned', 'statusmatch', 'checkinbut', 'spending', 'daldca', 'couple', 'messages', 'provided', 'avail', 'try', 'cheers', 'smooth', 'easily', 'sfofll', 'purchase', 'hoping', 'ws', 'forced', 'small', 'carry', 'empty', 'space', 'wjere', 'slow', 'httptcoszrpioa', 'spoke', 'representative', 'solution', 'loyal', 'flies', 'deeply', 'mere', 'dontdothistome', 'blazer', 'kooples', 'jacket', 'rd', 't', 'partners', 'visa', 'checkout', 'payment', 'method', 'boost', 'conversion', 'rates', 'etailwest', 'payments', 'promoting', 'product', 'recommend', 'noneother', 'httptcotfanxbhcf', 'aus', 'bruh', 'giannilee', 'turn', 'vxsafetydance', 'course', 'obsessed', 'family', 'ok', 'digging', 'swanky', 'pink', 'mood', 'lighting', 'cabaret', 'singer', 'receipt', 'embossed', 'badges', 'patches', 'superior', 'ones', 'currently', 'httptcofqxelbon', 'standards', 'dirtiest', 'squared', 'picked', 'tweeted', 'avis', 'rental', 'continue', 'car', 'sucks', 'cust', 'lap', 'child', 'httptcosfjduahxz', 'skift', 'karinslee', 'celebrating', 'chinese', 'chance', 'gift', 'comenity', 'bank', 'joke', 'constant', 'also', 'grandma', 'ellas', 'bday', 'greeting', 'stewardess', 'eastern', 'tix', 'atx', 'yr', 'transactional', 'sugafly', 'moment', 'gesture', 'send', 'submitted', 'request', 'accelerate', 'httptcocqmmnuem', 'livewelltraveled', 'sytycd', 'fat', 'yummy', 'ceo', 'strayed', 'low', 'model', 'httptcosctomh', 'brilliant', 'brisk', 'cue', 'httptcormznivgmg', 'ploughs', 'lone', 'furrow', 'middleeast', 'httptcofvudmhpf', 'thenationaluae', 'httptcodcoboknee', 'httptcovwpttlh', 'omg', 'planes', 'thought', 'pulling', 'hair', 'ipaddont', 'computer', 'incident', 'httptconbvztyzi', 'cannot', 'laptop', 'starting', 'those', 'guess', 'road', 'needing', 'make', 'trips', 'announced', 'wfares', 'httptcogapbamuc', 'sprint', 'kewl', 'dollar', 'laxlas', 'deserved', 'fyi', 'infovirginamericacom', 'address', 'exist', 'bounce', 'newsflt', 'towards', 'requirement', 'svc', 'donkey', 'dicks', 'develop', 'app', 'favorite', 'crap', 'channels', 'uk', 'set', 'channel', 'mexico', 'integrate', 'giants', 'heaven', 'nwkgtsf', 'boom', 'waste', 'paper', 'system', 'accept', 'cards', 'apostrophe', 'surname', 'apostrophefail', 'slots', 'likely', 'tinder', 'tindertips', 'tinderchamp', 'httptcojbmvvhaa', 'y', 'charge', 'herbal', 'tea', 'black', 'caffeine', 'drinker', 'expansion', 'destinations', 'spread', 'wings', 'announces', 'austinairport', 'dallaslovefield', 'intro', 'httptcoqxnoaqtyn', 'httptcojkqmdfqgf', 'austindallas', 'httptcoxwjolflh', 'httptcoyaormfkac', 'learn', 'returns', 'tweet', 'flightchng', 'affiliates', 'afiliates', 'incredible', 'experienced', 'refreshing', 'philadelphia', 'dreaming', 'between', 'houston', 'finally', 'xweekly', 'apr', 'avgeek', 'expanding', 'forget', 'sandiego', 'kinda', 'sucked', 'earphone', 'jack', 'future', 'poor', 'malfunction', 'meeting', 'diego', 'battle', 'dallaslovefieldaustinairport', 'httptcorlzebkx', 'usatoday', 'thankyou', 'dalaus', 'each', 'httpstcoxcvqxykg', 'nerdbird', 'jose', 'backyard', 'consumers', 'competes', 'excellent', 'nerd', 'frequency', 'portland', 'additional', 'k', 'thurs', 'extortion', 'items', 'worrying', 'carryon', 'brokenstolen', 'lock', 'group', 'room', 'bins', 'nightmare', 'forcing', 'artisanal', 'cheese', 'pairing', 'classy', 'sure', 'jfklhr', 'mph', 'strong', 'tailwind', 'tminus', 'opens', 'freeneversucks', 'save', 'shit', 'jezziegoldz', 'bumping', 'httptcohaqcgdgc', 'rough', 'luckily', 'thestarter', 'minneapolis', 'paul', 'bff', 'perfect', 'sun', 'visors', 'stay', 'raise', 'man', 'steel', 'wifi', 'saying', 'httptcofgrbpazsix', 'richard', 'beans', 'ios', 'saw', 'thoughand', 'sharing', 'httptcotsvibtvth', 'point', 'he', 'hotspot', 'plate', 'dad', 'segway', 'part', 'whole', 'infographic', 'short', 'haul', 'europe', 'defiantly', 'abc', 'network', 'started', 'scolding', 'overhead', 'person', 'seated', 'calls', 'ask', 'myvxexperience', 'werent', 'flighting', 'luck', 'dear', 'accommodate', 'commercial', 'lol', 'httptcopxexilsjbs', 'grouping', 'others', 'exposed', 'actual', 'cus', 'serv', 'travelers', 'affected', 'storm', 'shocked', 'virgins', 'complete', 'apathy', 'toward', 'umm', 'definitive', 'advance', 'priortried', 'fees', 'pa', 'cut', 'philly', 'main', 'penalty', 'wervirgin', 'industry', 'months', 'fargo', 'fargoairport', 'amazings', 'reclining', 'kickin', 'update', 'waived', 'reps', 'bonuses', 'enroll', 'letsgohome', 'regarding', 'starryeyesdev', 'recieved', 'potentially', 'movie', 'lineup', 'actually', 'town', 'httptcoxrdtovnl', 'httptcoybyackc', 'jenniferdawnpro', 'mr', 'word', 'resolve', 'assistants', 'lack', 'theres', 'deicing', 'filled', 'common', 'eriord', 'express', 'connections', 'hugely', 'popular', 'eriewr', 'hop', 'international', 'glasgow', 'orlando', 'mins', 'boarded', 'au', 'tough', 'wo', 'serious', 'risk', 'accident', 'steep', 'hooked', 'alternate', 'prevent', 'issues', 'glamco', 'domestic', 'ta', 'law', 'nonrefundable', 'oh', 'globalfc', 'auto', 'selects', 'economy', 'wupgrade', 'cheertymedad', 'transfer', 'flawed', 'security', 'logic', 'unrealistic', 'childridiculous', 'beautifull', 'pair', 'shoes', 'necessity', 'david', 'allan', 'kmmvlkm', 'case', 'highbuddyyy', 'cousin', 'worked', 'wonderful', 'rosetta', 'dan', 'ase', 'wasappreciated', 'voucher', 'january', 'beginning', 'mail', 'tiredofwaiting', 'emailing', 'executives', 'company', 'maybe', 'timely', 'manner', 'chase', 'pass', 'son', 'suppose', 'weak', 'ya', 'given', 'miami', 'aeroport', 'jan', 'awards', 'september', 'aegeanairlines', 'availab', 'drive', 'total', 'own', 'explain', 'debacle', 'wants', 'talk', 'gee', 'almost', 'caring', 'ppl', 'int', 'trusted', 'adult', 'daughter', 'repeatedly', 'flightr', 'defibrillator', 'preferred', 'anymore', 'pull', 'silverairways', 'partner', 'platinum', 'newarkliberty', 'indicate', 'gates', 'terminals', 'aampc', 'flyingainteasy', 'newly', 'married', 'preexisting', 'refuse', 'reissue', 'mechanics', 'badcustomerservice', 'run', 'instructed', 'shattered', 'httptcooaflfrwxb', 'weve', 'agents', 'rude', 'thankfully', 'ladan', 'overnight', 'clients', 'hr', 'iah', 'recheck', 'taken', 'loaner', 'used', 'illegal', 'according', 'regulations', 'dmed', 'details', 'charlotte', 'latrice', 'h', 'existent', 'ignored', 'inappropriately', 'touched', 'inop', 'abbreve', 'helpgot', 'austrian', 'awhile', 'uctraveladvisor', 'form', 'vouchers', 'expense', 'inconvenient', 'daysits', 'anywhere', 'concern', 'upon', 'ground', 'gateagain', 'tiredofthis', 'removal', 'cessnas', 'httptcovtmusjvu', 'else', 'moving', 'measly', 'ecertificate', 'appreciate', 'tarmac', 'ua', 'addressusername', 'signon', 'interim', 'expenses', 'codeshare', 'incls', 'outside', 'truly', 'breaks', 'guitars', 'unitedbreaksguitars', 'wantmymoneyback', 'telaviv', 'third', 'besides', 'impolite', 'colo', 'disabled', 'search', 'unfamiliar', 'outcome', 'flex', 'rules', 'neurosurgery', 'icu', 'enough', 'denver', 'training', 'put', 'mistakes', 'ord', 'found', 'avoided', 'plague', 'supervisor', 'zccu', 'connect', 'gf', 'addition', 'arriving', 'kcthanks', 'announcement', 'pre', 'addresses', 'mobility', 'disability', 'requires', 'preboard', 'thru', 'dept', 'okc', 'willing', 'connection', 'v', 'upset', 'services', 'employees', 'carrying', 'medical', 'equipment', 'thnx', 'intl', 'grp', 'considerable', 'accompany', 'whos', 'active', 'military', 'mom', 'emergency', 'brain', 'getmeontop', 'miles', 'mileageplus', 'starbucks', 'handed', 'improvement', 'complained', 'guy', 'throwing', 'unfortunate', 'coincidence', 'roger', 'mclarrensp', 'apps', 'construction', 'os', 'category', 'american', 'wc', 'coach', 'bird', 'ahead', 'controlled', 'rather', 'verizonwireless', 'telling', 'break', 'sincerely', 'silly', 'delta', 'attendants', 'surly', 'unhelpful', 'seem', 'bothered', 'pesky', 'folk', 'buddies', 'negligence', 'attempt', 'believe', 'screening', 'fll', 'disappeared', 'standing', 'hmm', 'record', 'rozana', 'choosekind', 'nights', 'ordlga', 'these', 'nuts', 'eager', 'vision', 'ccicanine', 'guide', 'asking', 'servicedog', 'read', 'continued', 'bogota', 'everyone', 'worstunitedflightsever', 'wtfodds', 'informative', 'outbound', 'switched', 'aircraft', 'crashed', 'knew', 'winter', 'httptcoaqjnhwnac', 'negotiate', 'resolutions', 'gong', 'enforcement', 'coats', 'blackmailed', 'nullified', 'scam', 'reach', 'honor', 'elsewhere', 'hear', 'quite', 'pathetic', 'booted', 'umpteen', 'unavailable', 'ways', 'unaccompanied', 'minor', 'simonroesner', 'youll', 'concrete', 'bench', 'baby', 'hannah', 'surgeries', 'requiresshe', 'helppls', 'donatert', 'httptcokqnrrpa', 'honour', 'mine', 'ey', 'scheduling', 'huh', 'remorse', 'simple', 'apology', 'goes', 'hollow', 'obvious', 'wellbeing', 'shocking', 'pattern', 'repeated', 'neglect', 'disrespect', 'fingers', 'crossed', 'intact', 'enjoyed', 'incredibly', 'zone', 'ours', 'july', 'zero', 'excuses', 'outofdate', 'causes', 'members', 'october', 'december', 'talking', 'sna', 'weekend', 'asked', 'legitimate', 'systemwide', 'vs', 'localized', 'unrelate', 'flightd', 'copypaste', 'skis', 'faith', 'continually', 'fails', 'held', 'accountable', 'tourist', 'wonder', 'tides', 'tide', 'century', 'french', 'coasts', 'httptcogxdqortss', 'bbbnesdksia', 'whoever', 'listens', 'caused', 'fb', 'insta', 'produce', 'characters', 'limits', 'negligent', 'resent', 'appear', 'pop', 'dmcome', 'coupon', 'ridiculousness', 'learncustomerservice', 'drop', 'cheaper', 'airfare', 'property', 'heathrow', 'message', 'twitterliterate', 'unhappy', 'complaint', 'ref', 'awful', 'private', 'jet', 'travelbank', 'recouping', 'funds', 'flightsand', 'meetings', 'choosechicago', 'yulord', 'yep', 'matter', 'atl', 'grounded', 'montreal', 'louis', 'helpdo', 'difficult', 'prepares', 'reduce', 'distress', 'traveling', 'stressful', 'severe', 'seeking', 'client', 'confident', 'works', 'indication', 'bot', 'attained', 'worth', 'unrivalled', 'california', 'airports', 'onestop', 'yearround', 'thaiairways', 'seeing', 'conf', 'thai', 'communication', 'atlord', 'far', 'horrid', 'note', 'fiance', 'pennypincher', 'top', 'unitedairlines', 'kudos', 'flightling', 'usually', 'panic', 'youcouldntmakethis', 'brokenwheel', 'ontime', 'advisory', 'quoted', 'httptcomjkpgvxmpc', 'delayedno', 'remembered', 'heat', 'ordseriously', 'extremely', 'captain', 'steve', 'connolly', 'real', 'resolved', 'politely', 'efficiently', 'hadnt', 'disputed', 'hence', 'clothes', 'curious', 'saipan', 'guam', 'adventure', 'capeairs', 'operational', 'washington', 'convenient', 'lostluggage', 'leg', 'chicago', 'china', 'lounge', 'dms', 'owed', 'file', 'okay', 'properly', 'train', 'transferred', 'dead', 'remembering', 'load', 'onto', 'forgot', 'iceland', 'platter', 'abundance', 'atrocious', 'disrupted', 'impossible', 'terminal', 'esp', 'recommended', 'getmartyhome', 'responded', 'various', 'requests', 'numbers', 'lusaka', 'transatlantic', 'lhr', 'arrival', 'shower', 'planning', 'finalizing', 'information', 'confirm', 'completed', 'doubt', 'vacation', 'responsibility', 'compliment', 'thanx', 'followed', 'remember', 'ewrsti', 'season', 'pays', 'nope', 'sleep', 'assured', 'updated', 'jburg', 'holiday', 'ruined', 'compensation', 'his', 'original', 'frankly', 'happen', 'defines', 'valid', 'strange', 'inbound', 'canned', 'unforeseeable', 'lands', 'delivered', 'arrive', 'delivery', 'hotels', 'hostage', 'passes', 'lbs', 'returning', 'writing', 'machine', 'required', 'lindaswc', 'wour', 'httptcohiscndmgz', 'flightn', 'fend', 'ourselves', 'runaround', 'employee', 'blaming', 'previous', 'local', 'malaysia', 'kuala', 'lumpur', 'kul', 'asem', 'wdelays', 'eserviceunitedcom', 'bgkwm', 'narayanan', 'tel', 'aviv', 'knows', 'melaniespring', 'kn', 'answers', 'feedback', 'taxis', 'offering', 'rooms', 'tired', 'action', 'solving', 'skiing', 'bright', 'keeping', 'promise', 'comment', 'clt', 'move', 'idea', 'neveragain', 'responding', 'inquiries', 'within', 'bergstrom', 'cancun', 'frustrating', 'continental', 'equals', 'deep', 'vein', 'thrombosis', 'figure', 'pack', 'screws', 'connectns', 'claims', 'hotl', 'fran', 'pax', 'hou', 'httptcozfqmpgxvs', 'pos', 'theyd', 'theyre', 'waking', 'counter', 'nobody', 'unfortunately', 'flyohare', 'flypdx', 'gonnabealongnight', 'darquenloveli', 'regret', 'manchester', 'doors', 'premier', 'briefings', 'annoyed', 'yea', 'phoenix', 'bullshit', 'consolation', 'stellar', 'encountered', 'b', 'ray', 'tumitravel', 'xmas', 'razor', 'ripped', 'front', 'pocket', 'delhi', 'centers', 'thin', 'stressed', 'mistake', 'absurd', 'fact', 'inconveniently', 'constantly', 'challenges', 'charges', 'dvt', 'addtl', 'httptcoxcjqrb', 'sarcastically', 'walked', 'happily', 'publicly', 'strangers', 'lukemcintosh', 'nah', 'wouldnt', 'needed', 'split', 'wks', 'vacations', 'phn', 'means', 'wed', 'bwi', 'mammoth', 'appropriate', 'reviewed', 'nada', 'fixed', 'tweeting', 'bs', 'questions', 'stall', 'yo', 'helpimstuck', 'highly', 'unprofessional', 'overbook', 'ampfeel', 'rearrange', 'mismanagement', 'considering', 'claimed', 'unable', 'corp', 'jp', 'sabe', 'ice', 'flightations', 'courtesy', 'diff', 'tag', 'decorum', 'consider', 'revisiting', 'certificate', 'bar', 'post', 'disappointment', 'apple', 'spoil', 'bunch', 'impress', 'httptcocihqnllcm', 'phones', 'twitteremailweb', 'ethiopia', 'adopting', 'existing', 'questionare', 'onboad', 'volt', 'outlets', 'deserves', 'html', 'ftw', 'effing', 'holidays', 'teams', 'incompetence', 'flyyow', 'letting', 'helps', 'finishes', 'walks', 'exact', 'ridiculous', 'encouraged', 'cpap', 'carousel', 'stopped', 'sched', 'monitor', 'patterns', 'jobslose', 'statusand', 'transition', 'easier', 'dencle', 'manually', 'tags', 'ker', 'friendlyskies', 'spare', 'unless', 'zambia', 'newarklets', 'disaster', 'period', 'reimbursement', 'ordlhr', 'loaded', 'frigid', 'feels', 'falling', 'apart', 'fleet', 'served', 'beverage', 'notcool', 'balancing', 'major', 'impact', 'cyberattack', 'unscheduled', 'refueling', 'n', 'ward', 'bed', 'pbampj', 'sandwich', 'spent', 'hundreds', 'rectify', 'situation', 'quiet', 'sked', 'computers', 'clue', 'ends', 'traveled', 'literally', 'list', 'statusmatchpaidoff', 'httptcoatfrkpgoy', 'refunded', 'dia', 'reminder', 'httptcoppvarchf', 'looked', 'device', 'devices', 'scan', 'inside', 'changes', 'thinks', 'wasted', 'failures', 'assume', 'norm', 'terrific', 'vancouver', 'resulted', 'suspect', 'investigatedmy', 'requesting', 'efforts', 'corrective', 'final', 'finest', 'prevented', 'advising', 'madrid', 'mass', 'confusion', 'fro', 'maryjo', 'failure', 'trend', 'software', 'projects', 'airplane', 'reports', 'delaying', 'ogg', 'rebooting', 'dispatch', 'pivotalcf', 'shaky', 'touch', 'httptcohjkqchn', 'however', 'controlthe', 'displayed', 'closest', 'clothing', 'comically', 'adjacent', 'clear', 'grkm', 'reference', 'wouldhow', 'discuss', 'experiences', 'shot', 'pacific', 'rim', 'date', 'randomly', 'spot', 'repeatably', 'generic', 'kindle', 'burgundy', 'unnecessary', 'carseat', 'loner', 'decisions', 'mandarinjourney', 'httptcoxbqqqbrgvf', 'kp', 'momsgoodeats', 'amenity', 'kits', 'pjs', 'included', 'aa', 'thehipmunk', 'showed', 'siteits', 'ensure', 'correctness', 'lie', 'flat', 'stl', 'itll', 'mllovelace', 'httptcouduwmde', 'membership', 'catch', 'wastedtime', 'karen', 'salisbury', 'daughters', 'tells', 'renoairport', 'reno', 'continentals', 'chicken', 'feat', 'fairs', 'contacting', 'den', 'caught', 'ohare', 'whitterbug', 'reservations', 'theyve', 'reinstated', 'behalf', 'office', 'laughedhard', 'funnycaptain', 'referencing', 'photo', 'attached', 'jac', 'httptcopnbajfkmhg', 'christmas', 'vacatinn', 'devalue', 'secured', 'dorns', 'thanked', 'goodenoughmother', 'wheres', 'damn', 'greetings', 'canada', 'yvr', 'diverted', 'msy', 'cared', 'male', 'agnt', 'threatens', 'canadian', 'pic', 'announce', 'apollochplayers', 'reserv', 'wout', 'permission', 'phrps', 'overwhelmed', 'delyd', 'lasden', 'yelling', 'tho', 'frm', 'gjt', 'sea', 'reflight', 'goodenufmother', 'connector', 'cozy', 'floor', 'gross', 'helpmeplease', 'anyonethere', 'statement', 'vice', 'directly', 'example', 'vaileagle', 'dealing', 'otherwise', 'httptcohpsqvrjk', 'businesstravel', 'proper', 'stood', 'inline', 'bagdisgutedindenver', 'upload', 'ondemand', 'listing', 'inadequate', 'reebok', 'rockinwellness', 'httpstcotkvmhbkec', 'quickly', 'tool', 'dustyob', 'httptcozcbjyolsn', 'unfriendlyskies', 'httptcoquzvmkrtr', 'empathizes', 'stclass', 'wnonworking', 'entertainmnt', 'httptcoloecogmvd', 'seen', 'mcdonnell', 'douglas', 'goodnight', 'searched', 'bom', 'single', 'saver', 'play', 'earn', 'promises', 'location', 'girl', 'gotta', 'ex', 'boyfriend', 'signed', 'notifications', 'shall', 'wallet', 'stolen', 'til', 'flysaa', 'cs', 'repair', 'damage', 'tuesday', 'opened', 'responses', 'overbooked', 'fit', 'nonsense', 'lifestop', 'httptcoqdebyahqfm', 'incur', 'mysterious', 'costs', 'abt', 'httpstcolarkcvcs', 'denied', 'prove', 'fits', 'rookie', 'bio', 'exactly', 'yrs', 'placing', 'blame', 'assuming', 'etc', 'fucked', 'voided', 'svcs', 'kevin', 'investigated', 'baggages', 'argument', 'sell', 'httptcoonhxhcobk', 'demoted', 'cuz', 'hubby', 'pqd', 'enuf', 'goldsspousaldiscriminationangry', 'belfast', 'resume', 'httptcovgnxckg', 'appears', 'raising', 'power', 'reveal', 'bettween', 'droppeditoffyet', 'rarely', 'ceases', 'amazefor', 'icloud', 'absurdly', 'httptcozjvilw', 'albanyairport', 'claiming', 'walk', 'spaces', 'poorcustomerservice', 'dfpietra', 'shaking', 'head', 'forth', 'tsk', 'betterfrom', 'rtb', 'multiple', 'wayway', 'avoid', 'correctly', 'management', 'waives', 'jana', 'acosta', 'lake', 'refuses', 'angry', 'consistent', 'alwaysdelayedonunited', 'branson', 'committed', 'continentalairlines', 'merger', 'communicationfail', 'glitch', 'notfair', 'poornoncommunication', 'unaccounted', 'flyers', 'states', 'maintenance', 'truth', 'unfriendly', 'someones', 'personal', 'possessions', 'departing', 'killing', 'uniteds', 'levels', 'reaches', 'etihad', 'realistically', 'lufthansa', 'sick', 'replacement', 'theworst', 'typical', 'jh', 'prompt', 'responsesme', 'simply', 'unpleased', 'nonenglish', 'speaking', 'friend', 'twice', 'hates', 'isis', 'orf', 'panicked', 'driven', 'frustration', 'cluecould', 'effort', 'clearing', 'rollerboards', 'art', 'iove', 'pleased', 'campilley', 'planehow', 'miscalculation', 'choosing', 'difference', 'reuniting', 'aging', 'poorservice', 'general', 'enquires', 'attention', 'lit', 'aspenbaggagefail', 'aspen', 'understatement', 'placed', 'truutall', 'certainly', 'recovering', 'condo', 'florida', 'noanswer', 'buying', 'legs', 'allowed', 'wmom', 'listening', 'gthr', 'overweight', 'measure', 'woman', 'counting', 'max', 'epicfailunited', 'dedication', 'nor', 'miserable', 'mos', 'blocked', 'dming', 'complain', 'public', 'forum', 'ms', 'winston', 'assisting', 'mile', 'article', 'tom', 'redeem', 'cc', 'ton', 'pedophile', 'myself', 'rows', 'gains', 'wiped', 'musicians', 'bass', 'rebooked', 'httptcobbdtldx', 'flyeia', 'whose', 'deserve', 'holder', 'cleveland', 'sunday', 'tuned', 'blog', 'httptcovdfdodqvgx', 'imranr', 'basically', 'assigned', 'pairs', 'sense', 'strand', 'cnxns', 'heads', 'arent', 'peoples', 'httptcodplqmhqgd', 'drone', 'keambleam', 'seconds', 'thrilled', 'english', 'deaf', 'slowly', 'hassle', 'terribly', 'hate', 'control', 'robin', 'premiere', 'huge', 'accommodations', 'originally', 'jimmy', 'samartzis', 'president', 'activate', 'surf', 'ac', 'mojave', 'desert', 'pressurecooker', 'heattrap', 'badservice', 'jon', 'httptcotutglid', 'whatever', 'steps', 'remedy', 'screw', 'descending', 'farce', 'dublin', 'london', 'shambles', 'stillnobags', 'writers', 'hosting', 'cute', 'confidence', 'ambut', 'loading', 'httptconfaqhhrj', 'pt', 'stndby', 'missedwork', 'clientnothappy', 'httptcosuprlfoit', 'kindness', 'above', 'justifiable', 'conveniently', 'woke', 'hopefully', 'result', 'complaints', 'beauty', 'httptcomvyoizrpde', 'fill', 'duped', 'httptcotmccexyaaq', 'suffer', 'speed', 'extent', 'coworker', 'urgency', 'focused', 'partial', 'heres', 'gcvwj', 'kailua', 'hell', 'bulkhead', 'reserve', 'ohead', 'impressed', 'refresh', 'including', 'flightst', 'mandatory', 'greatly', 'replies', 'settled', 'rdu', 'medal', 'saga', 'melissaafrancis', 'reunion', 'shopping', 'onboard', 'reasonable', 'preboarding', 'unnecessarily', 'pts', 'overselling', 'kick', 'classed', 'compliant', 'screwed', 'mex', 'nrt', 'dates', 'tbd', 'usd', 'quotations', 'compared', 'bkk', 'saves', 'fwa', 'boards', 'ten', 'nowhereland', 'answered', 'usairways', 'usairwaysfail', 'practical', 'adapted', 'cushion', 'noooooooooooooooooooooope', 'occurs', 'consistently', 'yyj', 'jms', 'outsource', 'airlinesyour', 'loving', 'sfolaxsalclo', 'hm', 'collect', 'av', 'suggest', 'senior', 'manager', 'retrain', 'faundation', 'judeo', 'cristiannot', 'ideologias', 'httptcomwbkka', 'supporting', 'workersinstead', 'puts', 'timco', 'outsourced', 'knack', 'substandard', 'formally', 'handler', 'misconnected', 'bridge', 'freezing', 'temps', 'iadsat', 'outdoor', 'clesfo', 'wifiand', 'unwind', 'linesforever', 'pointless', 'shoe', 'ampsock', 'foot', 'httptcovpymmv', 'plundering', 'hardearned', 'dollars', 'retailbagholder', 'sfoyyj', 'bother', 'door', 'broke', 'global', 'unsafe', 'stunning', 'reimbursed', 'flightation', 're', 'jurassic', 'dinosaurplane', 'yyz', 'eticket', 'piss', 'farelock', 'fake', 'shanghai', 'engine', 'sfosea', 'confusing', 'laissez', 'faire', 'fritz', 'pick', 'released', 'wothers', 'deplaning', 'peopleon', 'httptcohfofiyhi', 'extend', 'advertise', 'crewtells', 'aircanada', 'lesson', 'verbal', 'written', 'confirmations', 'ticketed', 'electronic', 'precioustime', 'confirming', 'shameful', 'httptcokqlhvapg', 'moms', 'pray', 'fyvrfn', 'tickt', 'chair', 'helpbeen', 'forces', 'complains', 'meals', 'unreal', 'issued', 'fixing', 'lr', 'taiwan', 'sukhdeep', 'excuse', 'understaffed', 'costumer', 'departed', 'averted', 'beers', 'youdo', 'prize', 'sba', 'waitingonapilot', 'siouxfalls', 'whyairtravelsucks', 'understood', 'reaching', 'oops', 'discomfort', 'crazy', 'frustratingly', 'mpagent', 'seanmfmadden', 'peterstraubmma', 'jmercadomma', 'tonysimsmma', 'stretching', 'exhausting', 'ha', 'robbing', 'megzezzo', 'injured', 'ty', 'roadwarrior', 'travelled', 'scl', 'iha', 'l', 'fa', 'worthless', 'shut', 'scotthroth', 'scott', 'suggestion', 'stand', 'police', 'msg', 'invoice', 'dry', 'cleaning', 'wet', 'print', 'piece', 'mci', 'del', 'preferably', 'airways', 'ewrbrudel', 'segment', 'assign', 'deliver', 'slightly', 'searching', 'altitude', 'sharp', 'drops', 'transaction', 'pqms', 'pqds', 'showing', 'acct', 'policies', 'makechange', 'eta', 'communicationdetails', 'rights', 'btv', 'nite', 'cun', 'worstcustomerservice', 'rerouted', 'intended', 'solved', 'flierfriendly', 'doctors', 'notes', 'garbage', 'cry', 'supplies', 'limited', 'epic', 'reagan', 'jetway', 'brussels', 'operated', 'ber', 'zurich', 'zrhairport', 'replacing', 'maysep', 'till', 'oct', 'venezuela', 'servicehaving', 'milan', 'malpensa', 'mar', 'frankfurt', 'airportfra', 'jul', 'fan', 'badbusiness', 'double', 'lisa', 'j', 'breakfast', 'rachelle', 'irritated', 'gets', 'jj', 'joking', 'humor', 'seatback', 'childs', 'birthdate', 'copy', 'paste', 'failed', 'ual', 'hanger', 'laxewr', 'sdf', 'tampa', 'robotic', 'deck', 'dismissed', 'dr', 'write', 'bounces', 'worstservice', 'clowns', 'yearold', 'terribleservice', 'noservice', 'campus', 'visit', 'wearing', 'grr', 'recognize', 'terri', 'raleigh', 'freq', 'treated', 'poorly', 'servicefail', 'rsw', 'theyll', 'homeintentional', 'companys', 'lousy', 'reissued', 'fault', 'blatant', 'jersey', 'jxst', 'honeymoon', 'damper', 'iy', 'upgraded', 'httptcodajwzhlvyu', 'sti', 'building', 'gotten', 'orddca', 'newarkbrussels', 'eu', 'agreement', 'certain', 'epicfail', 'cx', 'aware', 'httptcotmrjywi', 'hilarious', 'hahahahaha', 'ktn', 'applying', 'picking', 'begging', 'stamp', 'yourself', 'wreck', 'httptcoprgysvurm', 'sending', 'officially', 'displaced', 'deltaassist', 'pleasant', 'timeliness', 'm', 'switching', 'bouncer', 'httptcomhhsruplv', 'showexpert', 'fraction', 'ons', 'acknowledge', 'affiliate', 'losing', 'dot', 'straightend', 'brother', 'victoria', 'condescending', 'house', 'sombrons', 'michelle', 'pleasure', 'bdl', 'pssngrs', 'chkpreboardnotcomingback', 'groups', 'explorer', 'facebook', 'fuckinlame', 'naiamiaa', 'befor', 'lastflightwithyouever', 'efficient', 'layout', 'kiosksbag', 'lines', 'definition', 'barbara', 'httptcokmqulyge', 'sleepbut', 'wake', 'bausa', 'cmhiad', 'bagcould', 'bf', 'further', 'ciscojimfrench', 'cobedien', 'hopeless', 'tues', 'encourage', 'reinterview', 'sole', 'buf', 'blatantly', 'stable', 'nashville', 'downgraded', 'superfast', 'cgjase', 'responsedisappointed', 'surprised', 'mktg', 'branding', 'ads', 'savings', 'cxp', 'dcam', 'solutions', 'freaked', 'limbo', 'denairport', 'snowy', 'httptcowaakjumxa', 'inefficiency', 'attempted', 'httptcopvkchnr', 'interior', 'salvaged', 'tiny', 'lifevests', 'dozen', 'csr', 'kiosks', 'rebecca', 'levi', 'aaaand', 'catching', 'amstuck', 'snowstorm', 'hotelhows', 'patience', 'delongerry', 'peace', 'uggh', 'bus', 'wmass', 'changing', 'annoying', 'uplink', 'prob', 'compensate', 'hearing', 'jacked', 'cousins', 'deice', 'disgraceful', 'httptcohkowohd', 'filling', 'hit', 'httptcojbdkxdefz', 'forever', 'workers', 'refused', 'tone', 'language', 'managed', 'lazy', 'reasons', 'watched', 'frozen', 'metal', 'walkway', 'jobs', 'inept', 'truck', 'value', 'airlinesecurity', 'fampampcking', 'httptcoqfochqez', 'fast', 'reconsider', 'attitude', 'level', 'respect', 'expects', 'ph', 'pat', 'disgusting', 'restore', 'surprise', 'nogate', 'fucken', 'worstairlineever', 'belabor', 'pointbut', 'rollers', 'maybemange', 'alittlebetter', 'howisthatpossible', 'wu', 'valuable', 'removed', 'parked', 'desperately', 'girlfriend', 'flightleddelayed', 'chances', 'coat', 'frontrunner', 'fampking', 'woeful', 'sponsor', 'charm', 'welldone', 'goodflight', 'friendlysky', 'pretzels', 'frauds', 'lowered', 'gottogetbetter', 'talked', 'caned', 'crappy', 'performing', 'placedranked', 'legal', 'hanging', 'intentionally', 'higher', 'felt', 'bait', 'switch', 'tactic', 'stayed', 'iahmnl', 'advertised', 'bookable', 'clicked', 'httptconosjza', 'advertising', 'mi', 'connected', 'resourcesratings', 'quality', 'httptcodewithpew', 'regards', 'bounced', 'httptcodqjlvzh', 'spanish', 'mech', 'sincere', 'sunglasses', 'retrieve', 'reccewife', 'exception', 'heh', 'contract', 'pvd', 'upcoming', 'singapore', 'cover', 'dumb', 'programs', 'hurt', 'won', 'taxi', 'bull', 'courrier', 'memories', 'avalible', 'comes', 'hotelliving', 'crying', 'ski', 'prolly', 'tryna', 'fulfill', 'dreams', 'attempting', 'locate', 'worker', 'thailand', 'toronto', 'seriousness', 'circumstances', 'disconnect', 'pr', 'strategy', 'liars', 'segments', 'sfonew', 'badmaybe', 'maui', 'disservice', 'flightfail', 'hourdelay', 'reliable', 'happycustomer', 'shits', 'none', 'tweets', 'travelling', 'melbourne', 'colombia', 'relatives', 'myyb', 'clarita', 'jaramillo', 'mejia', 'doorstep', 'act', 'unitedrebooked', 'oma', 'spotty', 'stressors', 'quote', 'httptcogguigtz', 'vague', 'organization', 'timing', 'otis', 'bay', 'pissed', 'important', 'strandusindenver', 'hourandtenminutedelay', 'kidding', 'bagage', 'trace', 'multipledooropeningandclosing', 'dangerofgettingsnowedin', 'dissapointment', 'fucking', 'sanm', 'thanking', 'braving', 'amongst', 'flightlations', 'madeit', 'httptcoxatoxbnsfa', 'describe', 'per', 'flightaware', 'tail', 'probs', 'vacate', 'findanothergate', 'dinner', 'acc', 'honest', 'solve', 'excellence', 'efficiency', 'httptcoxltvzst', 'kansas', 'kci', 'except', 'irresponsible', 'fedup', 'disastrous', 'capt', 'sympathetic', 'unanswered', 'explanation', 'paulo', 'relative', 'availability', 'intent', 'cab', 'pit', 'baftz', 'rcvd', 'extended', 'deliveredhotel', 'httptcoiskihge', 'cheap', 'cooker', 'worstairline', 'sundays', 'travels', 'misses', 'horrific', 'comedy', 'incompetent', 'ideas', 'aint', 'bummer', 'clothessuit', 'realize', 'contents', 'suitshirts', 'cleaned', 'mtgs', 'knowing', 'discover', 'fueled', 'voicemail', 'riot', 'inaccurate', 'resolving', 'reboot', 'attentiveness', 'bhm', 'fernheinig', 'accountability', 'httptconytuxfqf', 'sardine', 'belief', 'ewrfll', 'compare', 'god', 'safer', 'jeanette', 'educate', 'bohol', 'wall', 'volunteer', 'albuquerque', 'nm', 'cebu', 'philippines', 'providing', 'educational', 'drunk', 'uncle', 'aisle', 'httptcocdzhtydak', 'thoughtful', 'cos', 'appreciated', 'mechanic', 'fax', 'log', 'faxlike', 'clutch', 'hang', 'strikes', 'gnvltltltfsd', 'ktm', 'mike', 'mcogtiad', 'social', 'oscarnight', 'maintenece', 'intention', 'pales', 'comparison', 'wages', 'plan', 'nowhere', 'heading', 'improper', 'packing', 'gills', 'expecting', 'comp', 'houstonbush', 'possibly', 'planet', 'deceptive', 'practices', 'retain', 'granting', 'neverflyunited', 'haydensteamboat', 'hdn', 'shuttle', 'concourse', 'honestly', 'handled', 'dark', 'tries', 'following', 'claudia', 'known', 'mdtmy', 'origin', 'sjo', 'explore', 'meseems', 'ongoing', 'cdglas', 'flythefriendlyskies', 'trapped', 'sight', 'unitedworstever', 'trappedhouston', 'numerous', 'slept', 'ensuring', 'httptcontuixdbyr', 'winterstorm', 'whichisworsedenordfw', 'official', 'prior', 'gettin', 'sunrise', 'laxjfk', 'steamboat', 'describing', 'decline', 'arrogant', 'handlers', 'lungs', 'runway', 'false', 'welcomed', 'ana', 'holders', 'grumpykim', 'unbalanced', 'idiots', 'httptcoavrtowtyzk', 'ers', 'curtesy', 'inpolite', 'updating', 'nippon', 'replace', 'subtlety', 'relationship', 'thus', 'spots', 'rikrik', 'inconvience', 'convince', 'hasnt', 'itself', 'responseservice', 'alwayslate', 'everytime', 'bumped', 'fewer', 'awfulness', 'green', 'present', 'named', 'lpdstock', 'bots', 'obviously', 'pgh', 'overflight', 'fixes', 'breaking', 'attitudycustomer', 'jeffsmisek', 'robertfor', 'fiorettindward', 'garciachicago', 'faa', 'invest', 'near', 'wkhttptcojvjzzaa', 'shirts', 'suit', 'viable', 'elite', 'pres', 'eqms', 'centricity', 'astounding', 'httptcouygewnosr', 'staralliance', 'pqm', 'wampb', 'httptconsacfqcdq', 'snobby', 'remarks', 'poker', 'sisters', 'click', 'true', 'erieairport', 'logs', 'seg', 'siting', 'coastcoast', 'nomorecheckedbags', 'live', 'denewr', 'shv', 'exceptional', 'givethoseladiesraise', 'unsure', 'comethis', 'pushing', 'five', 'ass', 'extraordinaire', 'seau', 'fong', 'boise', 'sometime', 'stt', 'separated', 'atc', 'listen', 'radioi', 'often', 'didinteresting', 'tcmparty', 'cek', 'daysofoscar', 'kiosk', 'bw', 'smallest', 'bathroom', 'ad', 'disspointed', 'premierk', 'credits', 'unitedsucks', 'continuous', 'dunno', 'ap', 'fe', 'ashley', 'americanisbetter', 'volkswagen', 'disgruntled', 'whatacluster', 'enjoy', 'screaming', 'toddlers', 'choose', 'competitor', 'fransico', 'evacuated', 'jackson', 'wyoming', 'toilets', 'deplaned', 'ndary', 'pending', 'misfortune', 'countries', 'outrageous', 'causing', 'flydeltanexttime', 'talks', 'govt', 'chi', 'eri', 'agoyet', 'unitedairlinessux', 'safe', 'sound', 'state', 'ans', 'sleeping', 'copilot', 'lied', 'proof', 'ouch', 'fair', 'synonymous', 'unfair', 'stingiest', 'ptfo', 'bastards', 'stingy', 'delayedagainevery', 'automatically', 'fete', 'catering', 'unitedexcited', 'barrel', 'sky', 'tvs', 'vouchermiles', 'outfitted', 'rubbish', 'meaningful', 'uniteddo', 'tire', 'clehelp', 'httptcovbfieoqjc', 'miscounting', 'processed', 'busy', 'httptcokpyhckal', 'rayja', 'reading', 'oversized', 'carryons', 'enforce', 'mqxc', 'mpwnc', 'lsusoftball', 'lsuquinlanduhon', 'pitiad', 'limit', 'deplane', 'crashing', 'texts', 'minsits', 'defend', 'strongly', 'worded', 'funited', 'hire', 'norfolk', 'renting', 'historically', 'lifeline', 'worldhungry', 'moderate', 'maine', 'sector', 'whereby', 'bagsno', 'allowance', 'phlsfo', 'cluster', 'reroute', 'geography', 'downmy', 'flyingwithus', 'lostacustomer', 'stranding', 'disgusted', 'conference', 'continuing', 'memphis', 'notify', 'smoothest', 'tomorrows', 'allow', 'httptcokcvubuyexc', 'yxe', 'affect', 'httptcojdvktcqx', 'bereavement', 'discount', 'grandfather', 'passed', 'attend', 'funeral', 'notified', 'violation', 'aerocivilcol', 'maintained', 'aircrafts', 'safely', 'flightledflight', 'lmuschel', 'sep', 'fkxb', 'unitedthats', 'ml', 'meant', 'ewrord', 'ordywg', 'connex', 'reseated', 'itineraries', 'tucson', 'volunteers', 'bringbackrealstaff', 'earnings', 'dishonoring', 'notifying', 'gay', 'emailscalls', 'smoothie', 'passport', 'recovered', 'httptcotfjfmshak', 'tick', 'tock', 'rapidly', 'approaching', 'fantasy', 'hiccups', 'communicate', 'pants', 'smelled', 'empathy', 'japan', 'uh', 'appalled', 'journey', 'explained', 'self', 'swipe', 'improvetheprocess', 'spelled', 'consistency', 'citing', 'timeswitch', 'calendar', 'inquiry', 'universally', 'adopted', 'occur', 'todaywhats', 'shouldve', 'perhaps', 'retook', 'goosebayairport', 'goose', 'labrador', 'httptcokixrnk', 'czamkoff', 'greed', 'ahold', 'delete', 'characterize', 'tiffanyandco', 'ntrustopen', 'ah', 'hep', 'notch', 'jockeying', 'happier', 'departures', 'logged', 'redeemed', 'priceless', 'httptcothsldya', 'cvg', 'thread', 'twtr', 'eco', 'occurred', 'purchasing', 'honalulu', 'delayua', 'kauai', 'screwing', 'cae', 'theairhelper', 'below', 'skilled', 'deleted', 'norway', 'shoulder', 'shrugging', 'dependable', 'western', 'hemisphere', 'belong', 'star', 'alliance', 'skyteam', 'staffed', 'hospitality', 'helpfulness', 'anthony', 'lastella', 'def', 'buzzkill', 'bogothouston', 'enjoying', 'holdover', 'httptcovnckgzxl', 'snowboard', 'boot', 'standard', 'emptied', 'nightyour', 'pressurization', 'juan', 'personnel', 'honolulu', 'particularly', 'distressed', 'pointed', 'startling', 'cnx', 'geiger', 'burst', 'crewe', 'earliest', 'runners', 'fam', 'miscnx', 'checkpoint', 'authors', 'fiction', 'radio', 'httptcotkabtwf', 'realise', 'pricey', 'stinks', 'feeling', 'stuckon', 'unitedfail', 'leadership', 'counts', 'nightdeplaned', 'inexcusable', 'employeefaceless', 'throw', 'starts', 'million', 'miler', 'pulled', 'departs', 'httptcoikbpgxwi', 'phantom', 'apeared', 'immediate', 'visible', 'weight', 'hopped', 'winwin', 'mbr', 'assurance', 'russell', 'daiber', 'sacramento', 'curiosity', 'arranged', 'announcements', 'providence', 'handling', 'httptcoubcoasyws', 'conditions', 'induce', 'accepting', 'immediately', 'involuntarily', 'guarantee', 'guidelines', 'acceptable', 'ruining', 'newest', 'httptcoftlzwtvo', 'pin', 'badbadbad', 'iep', 'nicole', 'quito', 'professionalnice', 'taxing', 'makestoomuchsense', 'shouldhaveflowndelta', 'deiced', 'albany', 'unitedk', 'peanuts', 'layovers', 'laxiad', 'trained', 'arose', 'noticing', 'icing', 'midtravel', 'lies', 'httptcobeqotlnugc', 'washingtondc', 'edinburgh', 'httptcozgqebfk', 'dkyde', 'gtgt', 'helpunitedsucks', 'quicker', 'sits', 'clarify', 'auciello', 'transpired', 'belongings', 'unitedhatesusall', 'hdndl', 'loses', 'disappears', 'nh', 'wasting', 'englishspanish', 'unknown', 'courier', 'trashy', 'conversations', 'mislead', 'operate', 'ramp', 'iahwowjust', 'sends', 'outrage', 'httptcokkwiwia', 'ots', 'cranky', 'checkins', 'flightstart', 'treating', 'noenertainmentonhourflights', 'hello', 'httptcohiboavxy', 'mths', 'relations', 'humans', 'clean', 'ramps', 'danger', 'wamo', 'leaves', 'sister', 'bil', 'detroit', 'fifty', 'ea', 'bk', 'asia', 'korea', 'easiest', 'engineer', 'designed', 'frame', 'bush', 'nt', 'unitedagainstunited', 'httptcogsaozgtv', 'httptcombbjwgoap', 'delayconsequence', 'mess', 'httptcotlpbaupik', 'onboardalerted', 'socketyou', 'vouchersno', 'flip', 'beta', 'tks', 'restriction', 'routing', 'nj', 'bish', 'begins', 'scream', 'border', 'indm', 'suntoshi', 'ticketh', 'trvlno', 'wifimissed', 'con', 'fltnext', 'onehmissed', 'voucherhotel', 'chkoutfltno', 'wifihotel', 'european', 'fabrice', 'ggqzqd', 'eg', 'muc', 'accidentally', 'populate', 'newamericanstinks', 'aircrft', 'build', 'cle', 'ottawa', 'ending', 'httptcotrqlpeinzw', 'concerns', 'addressed', 'duh', 'whereabouts', 'greeeaat', 'ruin', 'unitedairlinessucks', 'alright', 'especially', 'shitty', 'maxabrahms', 'scooby', 'doo', 'tour', 'finds', 'feces', 'sprinkled', 'manilla', 'unconscionable', 'hepl', 'thisiscoach', 'robotweeting', 'disrespectfully', 'strive', 'matters', 'tremendous', 'amount', 'actively', 'monitoring', 'serve', 'averaging', 'unbelievably', 'abysmal', 'submit', 'deciding', 'published', 'mark', 'tonights', 'redeye', 'avoidable', 'nonweather', 'appreciation', 'goldentickets', 'flysfo', 'httptcoxzbajmiekx', 'figured', 'againto', 'families', 'children', 'goal', 'draw', 'roundtrip', 'loyalty', 'bangkok', 'accommodation', 'hardly', 'cutting', 'edge', 'perk', 'acknowledgment', 'download', 'jeokoo', 'routinely', 'solo', 'traveller', 'scary', 'foreign', 'airborne', 'hacks', 'jokers', 'impacts', 'hnl', 'hangs', 'disconnected', 'mis', 'hahnot', 'weasel', 'httptcoflcnnnusd', 'httptcokpmrf', 'operator', 'nit', 'tryn', 'comping', 'cxl', 'httptcoouxcbo', 'freakin', 'abcwtvd', 'continentalunited', 'exclusively', 'flsfoewr', 'getmeoffrhisfuckinplane', 'rdui', 'progressed', 'badly', 'age', 'fiasco', 'outward', 'qantas', 'laxsyd', 'ff', 'callback', 'connectfor', 'rent', 'nolo', 'corporate', 'rage', 'created', 'relaxing', 'httpstcojcjlrfd', 'httptcodtlguqkak', 'sadly', 'mother', 'nature', 'investigate', 'cruel', 'virtually', 'rentals', 'flattering', 'proud', 'httptcobrtqcxk', 'parachuteguy', 'aggiemensgolf', 'thman', 'httptcogdkaedhf', 'water', 'costumerservice', 'legit', 'jk', 'increase', 'legroom', 'httptcodiufepnq', 'cnnmoney', 'segs', 'tagged', 'ladies', 'closet', 'unitedlies', 'threw', 'rest', 'refueled', 'hurry', 'retards', 'orig', 'snit', 'stepped', 'compensates', 'httptcoaprqan', 'cookies', 'young', 'chose', 'swapped', 'zrh', 'tmrw', 'ewrpdx', 'gpu', 'weird', 'cases', 'define', 'lagging', 'stream', 'rate', 'travelocity', 'threehourslate', 'prescreen', 'decent', 'makessense', 'stated', 'suffering', 'immensely', 'merge', 'airlinegave', 'pounding', 'sandra', 'offensive', 'commented', 'legally', 'blind', 'operators', 'speaks', 'fire', 'handedly', 'blow', 'hook', 'httptcozhxokaqa', 'invoices', 'approx', 'allowing', 'buddy', 'turns', 'unitedsucksdick', 'rated', 'calgary', 'sides', 'eventually', 'extreme', 'unplanned', 'pain', 'regardless', 'hoursat', 'foxnews', 'cnn', 'msnbc', 'approve', 'ship', 'flts', 'skin', 'teeth', 'failurethen', 'similar', 'peer', 'beer', 'liesstill', 'inch', 'httptcolulgnweffh', 'copay', 'restrm', 'myselfothers', 'wno', 'restating', 'south', 'additionally', 'halfway', 'horribleservice', 'degree', 'yow', 'yxu', 'six', 'prepaid', 'directtv', 'firstworldproblems', 'everyones', 'peanutsnuts', 'contradictory', 'advice', 'anaphylaxiswill', 'refrain', 'closer', 'texted', 'traffic', 'houstonjust', 'needtobehonest', 'cnxn', 'strike', 'belize', 'unitedunimpressed', 'f', 'transit', 'unlikely', 'overheating', 'hourslove', 'congratulations', 'electrical', 'airbus', 'interiors', 'whyjeff', 'preflight', 'wbroken', 'dreamliner', 'witness', 'mental', 'breakdown', 'walls', 'remind', 'activities', 'fred', 'flintstone', 'httptcogkgkzlawpr', 'regrading', 'ehsanismpowered', 'lmfao', 'culture', 'blamed', 'shout', 'diligent', 'assignment', 'httptcoxbodakak', 'events', 'millions', 'ranked', 'somewhat', 'egregious', 'sam', 'adams', 'draft', 'usurious', 'explaining', 'capabilities', 'context', 'stevelord', 'flightua', 'prison', 'reminded', 'carrier', 'arvls', 'custs', 'wcancelled', 'connects', 'irrops', 'americanone', 'mga', 'uncontrollably', 'livid', 'disregard', 'operations', 'opal', 'dragon', 'ali', 'woven', 'murdering', 'httptconfvelcygz', 'httptcopnwjfps', 'pens', 'collection', 'pen', 'backup', 'kurt', 'sons', 'remains', 'jax', 'bna', 'internationally', 'mild', 'poisoning', 'lhriah', 'responds', 'flightedstill', 'voucherwhatajoke', 'formal', 'ages', 'spamjunk', 'casenothing', 'sloppy', 'raised', 'tagging', 'led', 'backing', 'offenders', 'conversational', 'blocking', 'exiting', 'block', 'exit', 'wheelchairs', 'commitment', 'turnaround', 'mgr', 'counted', 'individual', 'httptcotsvgbrlf', 'observe', 'crews', 'compensating', 'deodorant', 'shampoo', 'toothpaste', 'oz', 'rollaboard', 'plenty', 'httptcoxvnnmltiw', 'concept', 'zones', 'yaayy', 'yay', 'prom', 'httptcodxicoyioxf', 'awaynow', 'econ', 'loudspeaker', 'yepused', 'againget', 'submitting', 'hmmmseems', 'flyerfriendly', 'looong', 'fra', 'satisfactory', 'disappoint', 'normally', 'plowing', 'dies', 'ebola', 'httptcohxvvisvww', 'rhonda', 'straightened', 'kind', 'robbedexplain', 'gig', 'carried', 'movement', 'minwow', 'competent', 'rivals', 'filthy', 'disinfectant', 'wipe', 'trash', 'wipes', 'stains', 'aboard', 'cldnt', 'plastic', 'pins', 'httptcocbvfkbkx', 'ordewr', 'meal', 'catered', 'stock', 'buybacks', 'executive', 'roc', 'useful', 'substitutes', 'developers', 'morn', 'munich', 'nathankillam', 'orleans', 'huston', 'cowardly', 'eyes', 'preference', 'troubling', 'httptconmbhngnmki', 'phenomenal', 'apply', 'ticketeven', 'hops', 'freaking', 'map', 'httpstcoagpbvwt', 'values', 'lostmybusiness', 'insulted', 'disrespected', 'operating', 'appropriately', 'royally', 'fakesincerity', 'boots', 'happyflight', 'angriest', 'angstiest', 'tasha', 'dadoralive', 'doubtful', 'sales', 'covering', 'north', 'threatened', 'nonservice', 'mpls', 'mid', 'deployment', 'vital', 'tkt', 'smile', 'humour', 'httptcojnqnbkhut', 'tropic', 'pedro', 'elected', 'appointed', 'httptcokkedjnrtwo', 'mistaken', 'scarf', 'assure', 'vp', 'custexp', 'surveyemail', 'httptcootfzcyguq', 'guessing', 'overcharging', 'messing', 'httptcooktukjyo', 'ind', 'roads', 'interviewed', 'recruiter', 'interview', 'timezones', 'accuratetraveltimes', 'rdtimethishashappened', 'httptcoecbicf', 'bums', 'biggest', 'comcast', 'xfinity', 'cableinternet', 'httptcoqpawnlip', 'decision', 'skills', 'ops', 'pushed', 'meanwhile', 'festivities', 'swing', 'fairway', 'overlooking', 'hole', 'prices', 'unbelievable', 'ripoffs', 'pricediscrimination', 'although', 'crackerjack', 'difficulty', 'bagswhich', 'makeup', 'nothappy', 'bullying', 'workforce', 'against', 'hilo', 'hrmin', 'nothin', 'ba', 'httptcobnflhpxtmw', 'httptcoxaizwisml', 'celebrate', 'slc', 'denphx', 'laxsna', 'ampwebsite', 'geneva', 'spaghetti', 'nonempty', 'nonupgrade', 'argueing', 'continentalair', 'wakes', 'bshave', 'supply', 'images', 'names', 'astounds', 'history', 'pssgrs', 'psngrs', 'overall', 'npbhd', 'httptcoewxwxidtfx', 'httptcoscqujbvsta', 'contains', 'poles', 'relate', 'dtwase', 'router', 'fuselage', 'sfogtaus', 'isjx', 'mite', 'recently', 'bites', 'mites', 'reopen', 'growing', 'backlog', 'expedia', 'document', 'technical', 'difficulties', 'airnzusa', 'httptcohjucpl', 'upgrading', 'earning', 'outsourcing', 'advised', 'downhill', 'fliers', 'holdguess', 'accounts', 'login', 'username', 'incentive', 'orbitz', 'puj', 'newarklondon', 'panynj', 'boeingairplanes', 'froschtravel', 'httptcordjmwflg', 'baldordash', 'rebookedarrived', 'bahamas', 'cruise', 'nola', 'errored', 'adam', 'horrendous', 'sms', 'frequentflyer', 'disgrace', 'jimtrotternfl', 'listened', 'diverged', 'burlington', 'vermont', 'inefficient', 'procedure', 'dubjac', 'jaclax', 'laxdub', 'taxies', 'bhxofficial', 'liberty', 'httptcoialicehft', 'afraid', 'unhappyspend', 'bd', 'party', 'wproj', 'cond', 'promising', 'favor', 'inevitable', 'cramped', 'yuck', 'issuecould', 'cell', 'conversed', 'wireless', 'greedy', 'piggy', 'inspected', 'routine', 'nyt', 'httptcobngplijt', 'airserv', 'contractors', 'calamity', 'lostsuitcase', 'noreimbursement', 'pita', 'thoughts', 'comeonpeople', 'herman', 'relayed', 'chief', 'difficultieswhat', 'teach', 'officer', 'httptcotfhvaz', 'lh', 'coupled', 'policiescost', 'exacerbates', 'noted', 'longterm', 'issuenot', 'skibootbag', 'awkward', 'generally', 'inbaggage', 'unhelpfulness', 'illogical', 'tpa', 'inches', 'httptcotbsjquw', 'elp', 'emb', 'elpaso', 'httptcomeozboxl', 'curbside', 'teamusa', 'addair', 'cpdone', 'earnedmybusiness', 'msp', 'hundred', 'detail', 'usual', 'cleanliness', 'smells', 'satisfied', 'forgive', 'bgm', 'delayedbecause', 'decided', 'typically', 'kingscollegelondon', 'charity', 'jailbreak', 'rag', 'pek', 'gluten', 'supervisors', 'aviation', 'newyork', 'httptcozvcfpohl', 'paigeworthy', 'rare', 'complimenting', 'servicemost', 'gfc', 'httptconvlnglnmgn', 'danahajek', 'push', 'employeeslack', 'sobbed', 'consideration', 'httptcogegnghmie', 'smoothly', 'worn', 'enoughisenough', 'becoming', 'screenshot', 'wedding', 'irreplaceable', 'milestone', 'repaid', 'brothers', 'copa', 'competing', 'panamerican', 'cup', 'bringyourown', 'kleankanteen', 'httptcodaaarqbxw', 'championship', 'columbia', 'vicky', 'thomas', 'rotten', 'servicessomething', 'atgate', 'exasperating', 'undergoing', 'walking', 'touching', 'scvpools', 'laxm', 'guitar', 'royal', 'commission', 'extension', 'locations', 'seemed', 'situations', 'standbys', 'connectin', 'nyfw', 'brian', 'cheer', 'wmiles', 'liable', 'youretheworst', 'explanations', 'arguing', 'mentioning', 'owner', 'mortified', 'acted', 'yours', 'elses', 'lea', 'facts', 'knownot', 'keepingit', 'weaktea', 'leighemery', 'coshared', 'ordealsigh', 'luggages', 'living', 'weblink', 'notgoodenough', 'ignore', 'avoiding', 'httptcovolmeja', 'remaining', 'validity', 'airlinegeeks', 'httptcoupocmmulun', 'underweight', 'cares', 'pound', 'somebody', 'rapid', 'fallflorida', 'everglades', 'faint', 'sunburn', 'awayhere', 'saddening', 'john', 'wayne', 'wheresthepilot', 'blankets', 'straighten', 'httptcouvieuidf', 'verify', 'wheelchair', 'dildo', 'clearly', 'terriblecustomerservice', 'httptcofecivwq', 'misinformation', 'damages', 'credibility', 'fwiw', 'fc', 'ravioli', 'chickenidiot', 'improved', 'attendents', 'platinummember', 'furious', 'httptcoigdgcttm', 'bankrupt', 'marcus', 'listed', 'unavailableto', 'unsmiling', 'breezy', 'department', 'sydneyairport', 'recognition', 'type', 'dtv', 'flipped', 'google', 'spin', 'opaque', 'basic', 'ted', 'bye', 'swiss', 'lx', 'behaves', 'amy', 'lloyd', 'golf', 'cart', 'former', 'pia', 'quit', 'responsible', 'saved', 'refuel', 'bro', 'bosnia', 'httptcomnywrkbs', 'cpus', 'jfklax', 'blowing', 'proportion', 'significantly', 'goddamn', 'insane', 'resend', 'handy', 'historical', 'society', 'afterall', 'idiot', 'armrest', 'remote', 'resting', 'elbows', 'mix', 'seatmate', 'volume', 'bump', 'insulting', 'alavera', 'youto', 'wins', 'marks', 'turned', 'reallyyou', 'flightstill', 'sfogtbos', 'soda', 'httptcoxhlcmtff', 'tucking', 'transfers', 'milesstatus', 'httptcohhnjjje', 'moneynotspentonunited', 'disunited', 'wpg', 'patient', 'clockwork', 'keepit', 'booze', 'bach', 'ordgtmsy', 'folder', 'incompetentrude', 'untd', 'twelve', 'hoursplease', 'painful', 'battierccipuppy', 'puppy', 'beware', 'maintain', 'cmhord', 'southbendinwhere', 'httptcoqgwkdewv', 'lindsay', 'darn', 'memory', 'tight', 'iflyalot', 'clarification', 'iflyoakland', 'east', 'base', 'embarrassed', 'launched', 'nws', 'warning', 'skywest', 'honululu', 'beg', 'conection', 'letsgo', 'montana', 'waiverskeep', 'frontier', 'httptconwinfuc', 'refreshments', 'wednesday', 'res', 'combine', 'httptcoeishcnpro', 'httptcoewjoklji', 'worseas', 'seatout', 'snacks', 'uhuhgroup', 'tomorrowwhy', 'preemptive', 'httpstcoybvxaowkv', 'friendlyfriday', 'awesomeness', 'paws', 'blood', 'appt', 'httptcouxwpadugs', 'litter', 'waiving', 'harsh', 'resell', 'conveyer', 'belt', 'httptcolyoocxmsh', 'automated', 'therefore', 'unanticipated', 'dgoodspeed', 'wheels', 'dimensions', 'dmangenvisualclubconceptscom', 'flycould', 'entitled', 'transport', 'reeks', 'vomit', 'indicated', 'grossed', 'disappointmentyet', 'againflying', 'httptcoqkquraggoo', 'mad', 'ed', 'num', 'approach', 'checkincorrect', 'o', 'partly', 'delewr', 'flyingretro', 'httptcoasuwxkv', 'troubles', 'gjqxj', 'acw', 'discrimination', 'notimpressed', 'inconveniences', 'reminding', 'expiring', 'june', 'followback', 'miaewr', 'ewriad', 'beingsuckontarmacsucks', 'visibly', 'reassign', 'mainline', 'enjoyable', 'sato', 'unnerving', 'httptcoqdxftqqt', 'refreshes', 'checkouterror', 'dounotwantmybusiness', 'jedediahbila', 'voted', 'title', 'jedediah', 'whatstheholdup', 'chitocle', 'themselves', 'teeming', 'morons', 'thanksseat', 'flightsyearmy', 'path', 'railed', 'bobwesson', 'everybody', 'slight', 'turning', 'recording', 'repeat', 'ethics', 'sir', 'lying', 'splitting', 'quadruples', 'contd', 'trials', 'specific', 'transcontinental', 'pleasurerelief', 'lavatory', 'functioning', 'lining', 'menus', 'winners', 'losers', 'httptcofyvaioul', 'httptcovglxykwqg', 'antkneee', 'wave', 'warmth', 'sentiment', 'groundstill', 'chain', 'expire', 'accruing', 'naming', 'depression', 'familiar', 'unhappytraveler', 'inaccuratemisleading', 'hopethegearmakesitintact', 'regional', 'friendliest', 'hkg', 'bila', 'workin', 'rolling', 'narita', 'tokyo', 'motel', 'played', 'lo', 'gently', 'pile', 'whipped', 'cream', 'canadaair', 'jets', 'abuse', 'overcharge', 'privilege', 'httptcosdylukrpt', 'robthecameraman', 'airfarewatchdog', 'tripitpro', 'accurate', 'standbye', 'potential', 'transparency', 'stocker', 'sarah', 'victim', 'boiled', 'preventative', 'unresolved', 'httptcophqjzapkx', 'narrower', 'bloated', 'mn', 'patiently', 'clarifying', 'yyc', 'lightbulb', 'companion', 'necessary', 'handshake', 'chocolate', 'problemsolvers', 'yhzewr', 'thousand', 'fans', 'utmost', 'tpallini', 'httptcoodlalledh', 'hurricane', 'checkers', 'overkill', 'lrunscupcakes', 'clarkhoward', 'kathryn', 'sotelo', 'arrange', 'pbi', 'stow', 'costing', 'aggravation', 'father', 'kit', 'httptcopdnbaakxh', 'pnr', 'azzf', 'waitlisted', 'jim', 'compton', 'jeff', 'smisek', 'insurance', 'fullfare', 'gsa', 'lifetime', 'wind', 'chill', 'ithica', 'tshirt', 'burn', 'aw', 'words', 'exceptions', 'misplaced', 'fo', 'keepingtraditionsalive', 'thanksunited', 'upgrd', 'kat', 'tasty', 'laguardia', 'tray', 'table', 'size', 'mouse', 'pad', 'httptcofyfrzbk', 'kathrynsotelo', 'httptcoskrlyrzo', 'acts', 'ticked', 'businessfirst', 'amarillo', 'hn', 'sucking', 'rubber', 'issuing', 'surcharge', 'httpstcojpdnsgrt', 'suggestions', 'box', 'hug', 'unmissable', 'bushug', 'format', 'busads', 'thinkbus', 'belfastairport', 'httptcoavbdstjujs', 'httptcoaitzlnd', 'haha', 'hangar', 'screensand', 'adamkarren', 'zj', 'premgold', 'guilty', 'newflight', 'rented', 'donation', 'wth', 'hungry', 'vegetarian', 'shrug', 'learned', 'linkemail', 'irene', 'paxex', 'cunewr', 'education', 'mysteriously', 'ended', 'httptcosjqemdtqma', 'guessflight', 'smallerthinner', 'jam', 'flightu', 'concentrate', 'maint', 'asses', 'chocked', 'unmet', 'abigailedge', 'spite', 'janet', 'believing', 'whatgives', 'dullessucks', 'xdaily', 'embraersa', 'erj', 'evansville', 'jun', 'papers', 'slew', 'galley', 'boardingpass', 'rad', 'hemispheresmag', 'thtimemonthsold', 'httptcokcqnwixucm', 'firstclass', 'londonfashionweek', 'lfw', 'alternatives', 'practice', 'cement', 'httptcondtljzpu', 'massive', 'needtocatchmynextflight', 'alreadyrebookedonce', 'sjoiad', 'traditions', 'alive', 'flightdelay', 'craft', 'nocustomerservice', 'nocompensation', 'despise', 'thee', 'dullestostatecollege', 'runningonthreehoursofsleep', 'delayedovernight', 'ambassador', 'newarktiredandwanttogohome', 'fantastic', 'entry', 'unitedfirst', 'unsympathetic', 'confrontational', 'wating', 'sw', 'predawn', 'annual', 'sobewff', 'exchange', 'senses', 'gg', 'unitedappeals', 'cont', 'httptconkdcsxu', 'stickingtodelta', 'danroam', 'loudly', 'throug', 'lights', 'dimmed', 'resulting', 'stepping', 'oreos', 'dial', 'asus', 'tablet', 'wondered', 'queues', 'reclaim', 'aunts', 'accordingly', 'swapping', 'ont', 'onlyinamerica', 'customerservices', 'transparent', 'char', 'rick', 'clifton', 'seahou', 'dying', 'handbag', 'escorted', 'prebooked', 'jenniferwalshpr', 'dissatisfaction', 'und', 'yup', 'courteous', 'duty', 'die', 'lagos', 'nigeria', 'uncaring', 'ou', 'keepitclassy', 'bragged', 'driver', 'robbogart', 'fib', 'vanished', 'httptcowndceoqlk', 'idaho', 'flow', 'hournever', 'anna', 'pro', 'alerted', 'showsomerespect', 'wcomputer', 'nawww', 'fave', 'formed', 'betting', 'fraif', 'youbag', 'frano', 'shots', 'httptcoipaamztz', 'hd', 'ordsfo', 'abcdef', 'settle', 'perth', 'dest', 'straight', 'anniversary', 'nxt', 'tolerable', 'problemss', 'evry', 'lastflightofthenight', 'breakup', 'httptcodnifcgwe', 'dpt', 'dpted', 'average', 'alert', 'whatstatus', 'compensated', 'spooky', 'spook', 'scare', 'expedited', 'nc', 'aweful', 'bridgewaitingforbagsunitedewr', 'sidewhy', 'heretiredcustomer', 'dmbshows', 'buffalo', 'progress', 'estimate', 'httptcozouowgvq', 'hiltonworldwide', 'caravannyc', 'maysvillenyc', 'join', 'nycas', 'httptcoegaejtrglb', 'z', 'refundable', 'assumed', 'gas', 'cleared', 'mht', 'alb', 'multicity', 'ump', 'httptcohbsjsfh', 'lugging', 'praying', 'justgetmehome', 'hide', 'seek', 'force', 'sbn', 'lgjwb', 'voluntarily', 'shed', 'embarrassing', 'httptcovftuyjhx', 'httptcovtqemli', 'sept', 'ripoff', 'prepared', 'httptcoufafqhsf', 'gc', 'privileges', 'roanoke', 'sous', 'falls', 'doumented', 'ohand', 'crucial', 'youragentshavenoclue', 'httptcoanohokl', 'oversold', 'cloud', 'ru', 'lb', 'worseoh', 'lonflight', 'pointsmileage', 'httptcozpjrkwbk', 'httptcodjhxvjt', 'silence', 'httptcogcwvfuopl', 'agotoday', 'illiterate', 'magic', 'httptcotgcksbh', 'nasty', 'selling', 'stars', 'bars', 'airlineguys', 'httptcomwsogucp', 'confused', 'directed', 'httptcocyprhegok', 'msn', 'rx', 'eyeglasses', 'thick', 'admiral', 'waitstill', 'robcnyc', 'httptcogbiwugfnm', 'experiencing', 'substantial', 'downgrade', 'demonstration', 'corny', 'httptcolwotkiekgu', 'daysofunitedfailures', 'thingafteranother', 'labyrinth', 'swindle', 'considered', 'httptcoymftwuyhr', 'accomidating', 'slower', 'customerservicefail', 'heavy', 'qro', 'alwaysdelayed', 'capable', 'agtb', 'amt', 'incoming', 'impatience', 'partits', 'untruthful', 'systems', 'stick', 'survey', 'overchargedampunderserved', 'rant', 'sonyasloanmd', 'httptcotrgemtebz', 'comedian', 'stage', 'moon', 'puerto', 'rico', 'reboard', 'httptcoeerekdffq', 'duecto', 'willl', 'argentina', 'annricord', 'aok', 'snowforce', 'woo', 'hoo', 'grow', 'close', 'alot', 'complaining', 'smiling', 'bwood', 'surveying', 'nudgenudge', 'vocab', 'sop', 'donna', 'interrogated', 'poorform', 'pet', 'thatisall', 'downgrading', 'boozefood', 'selections', 'golfunited', 'west', 'httptcoxijyrpslzk', 'installed', 'possiable', 'schiphol', 'fr', 'entering', 'typo', 'outin', 'httptcomkpognntyc', 'perfectomobile', 'admit', 'func', 'ups', 'fedex', 'boss', 'httptcobmokxj', 'menu', 'httptcoegkvfokogj', 'pleasantly', 'flightflew', 'lgacleden', 'byod', 'worksnicely', 'replied', 'httpstcocafcxgfi', 'grouchy', 'nap', 'httptcoqdlyuxazg', 'wifes', 'httptcohsmpbsfuf', 'subsequently', 'oregon', 'womens', 'tennis', 'supposedly', 'reminds', 'desks', 'bossf', 'waivers', 'beforeafter', 'flexibilitycompassion', 'forgetting', 'incorrect', 'ignoring', 'cantlogoutofunitedwifi', 'awake', 'logout', 'saddened', 'coast', 'storms', 'fcking', 'inchecking', 'netherlands', 'ams', 'systemsyouareonyourown', 'logging', 'promotions', 'johns', 'antigua', 'burbank', 'extravaganza', 'dobetter', 'httptcovpvphmtzc', 'ec', 'prem', 'deaffriendly', 'review', 'httptcobrtathau', 'httptcowznpqmh', 'shipped', 'weighed', 'whether', 'rear', 'wrote', 'nothanks', 'inampdidnt', 'hime', 'estellevw', 'autoapplied', 'syastem', 'suite', 'keepusguessing', 'isthisyourfirsttry', 'promptly', 'kms', 'ham', 'crash', 'crashes', 'abused', 'lower', 'cabine', 'yesterdays', 'sao', 'suggested', 'iamtedking', 'fsqthg', 'therealaviation', 'instagram', 'sayin', 'inquire', 'itpretend', 'ailing', 'parent', 'custserv', 'heartless', 'term', 'lacking', 'owe', 'camera', 'interrupted', 'whom', 'messaged', 'httptcoojeptw', 'definately', 'employer', 'busiest', 'trafficfuel', 'expedient', 'joni', 'baggagefind', 'pittsburgh', 'orthodoc', 'oncall', 'regains', 'karma', 'sweaty', 'httptcouczzpyphk', 'lounges', 'tab', 'supported', 'sa', 'located', 'dispatcher', 'il', 'centerl', 'httpstcolioocpteq', 'harder', 'tokyonarita', 'sitters', 'earlyon', 'unitedgt', 'incorrectly', 'estimated', 'dep', 'trick', 'wellplayed', 'jokesonus', 'van', 'gogh', 'httptcoeeofthgaj', 'equally', 'rechecked', 'uncvsduke', 'timed', 'areyounew', 'nonumber', 'feeltheheat', 'relevant', 'ritz', 'ramada', 'toddler', 'kidnapped', 'siteapp', 'sellout', 'obsolete', 'boarddeplane', 'angrycustomer', 'unitedairlinessuck', 'jt', 'heathrowairport', 'customs', 'customary', 'uniform', 'somewhere', 'irritating', 'spends', 'beating', 'stranger', 'randomactsofcorporategreed', 'hii', 'ridiculousor', 'refundplease', 'wht', 'appeared', 'err', 'travellers', 'xday', 'loc', 'ruth', 'rerouting', 'punta', 'cana', 'linked', 'rez', 'milage', 'stillwaiting', 'rushed', 'idnumber', 'hopetogetanswersoon', 'slip', 'paperampsaid', 'airporthave', 'medallion', 'probablynot', 'abroad', 'recap', 'thinkdo', 'overseas', 'situationagain', 'goods', 'hotelstonight', 'startingbloc', 'monica', 'unitedfailsworsttripofmylife', 'unitedflyerhd', 'unitedairline', 'bfans', 'httptcoaiyzwtza', 'gj', 'anotherdisappointment', 'ralph', 'naders', 'letter', 'uals', 'httptcooapiau', 'treats', 'specifically', 'discouraging', 'koalax', 'fresh', 'registered', 'selection', 'unaware', 'thier', 'stopping', 'realized', 'inst', 'foodnot', 'grab', 'bite', 'follows', 'threat', 'sue', 'belligerent', 'jerk', 'ranting', 'hoot', 'aaron', 'mission', 'accomplished', 'tellpurchase', 'turkish', 'blanket', 'subpar', 'whiskey', 'flightgotta', 'shortly', 'ric', 'batting', 'reward', 'august', 'blacked', 'clouds', 'twin', 'olds', 'boys', 'lifesaver', 'oversorry', 'preparations', 'kmm', 'breach', 'headache', 'corrected', 'beought', 'unexpactable', 'ecom', 'procedures', 'counters', 'conflict', 'erased', 'parents', 'slapintheface', 'christinebpc', 'versions', 'shin', 'splits', 'sprinting', 'income', 'exams', 'dcaewr', 'fu', 'despicable', 'sydney', 'pref', 'pac', 'hardworking', 'missin', 'vusaaustralia', 'aussie', 'cowgirl', 'lookin', 'cowboy', 'fort', 'estelle', 'failagain', 'thirty', 'reunite', 'usas', 'fashion', 'capital', 'unitedvusa', 'httptcorbnstuij', 'distinguish', 'quantas', 'auckland', 'professor', 'skiplagged', 'startups', 'reinstate', 'negative', 'amateurs', 'awesomebright', 'vibrant', 'habitrails', 'worries', 'cushions', 'sprinted', 'coughed', 'lung', 'tnx', 'loganairports', 'amypoehler', 'oscar', 'bafore', 'simplify', 'communications', 'lhrt', 'remotely', 'yyzua', 'shenanigans', 'invite', 'fallow', 'helacohlc', 'activitiesprevention', 'health', 'condomrito', 'familywe', 'cthanks', 'sticking', 'aaba', 'britishairways', 'repurchased', 'turrible', 'unaccomidating', 'flytpa', 'httptcorvcdannme', 'careyon', 'leah', 'anchorage', 'protected', 'kerry', 'ebokeers', 'informed', 'themon', 'guaranteed', 'cdt', 'tickethotel', 'delayedover', 'dominican', 'apologize', 'neither', 'airside', 'atlhou', 'math', 'fairbanks', 'httptcofjkvqmbmas', 'ewrmco', 'rudest', 'reupgrade', 'overheads', 'itsaaronchriz', 'sortawe', 'aquadilla', 'httptcofmzzoltv', 'parryaftab', 'withheld', 'httptcokvfwajvvid', 'pty', 'separate', 'punished', 'metro', 'laugh', 'accrue', 'cosmetic', 'understandable', 'houstonbogota', 'energy', 'homefamily', 'weigh', 'scale', 'conveyor', 'reported', 'istanbul', 'tkts', 'flighttold', 'nonexistent', 'februaryi', 'lly', 'stacey', 'detailsno', 'began', 'potus', 'dvr', 'insufficient', 'motion', 'httptcomrvblxs', 'httptcololuwfci', 'determined', 'drinking', 'yourselves', 'overpriced', 'sub', 'par', 'overflowed', 'toilet', 'plumber', 'luxurious', 'explains', 'string', 'includes', 'williams', 'edit', 'observation', 'reads', 'nothingand', 'thingwill', 'ypu', 'qlyss', 'creative', 'noodles', 'peas', 'zukes', 'nonvegan', 'yogurt', 'stillmakingmepoorthough', 'hughes', 'trains', 'automobiles', 'beneficial', 'longstanding', 'blah', 'shoulda', 'burningman', 'flightledthor', 'midland', 'em', 'motto', 'idonotcare', 'doc', 'packed', 'pressed', 'staffer', 'cabins', 'en', 'churchmouse', 'grown', 'tears', 'sailed', 'mligtden', 'dengtyeg', 'checkbaggage', 'fay', 'rdureimburse', 'heathrownewark', 'hartford', 'yards', 'retracted', 'reduced', 'certificates', 'amateurish', 'waysilverairwsys', 'affiliated', 'margo', 'houstons', 'intercontinental', 'westjet', 'cats', 'reduction', 'exhorbitantfees', 'apparent', 'outpost', 'incurring', 'customerexperience', 'approved', 'shulemstern', 'dispute', 'provider', 'movies', 'increasing', 'ftlauderdalesun', 'orlandosentinel', 'httptcoateafncr', 'pleasent', 'mke', 'communicating', 'dj', 'scratching', 'referral', 'bonus', 'loud', 'inner', 'lowstandards', 'httptcomwnbglxq', 'boeing', 'finals', 'winters', 'httptcoowmaxoyehz', 'blown', 'httptcojorescfbx', 'warm', 'annnnddddd', 'shuffle', 'nicest', 'delaykilling', 'trade', 'sunkist', 'webbernaturals', 'httptcolscwphph', 'rapids', 'bypass', 'httptcocjuxpk', 'locally', 'confuses', 'content', 'screens', 'technology', 'mailing', 'surliness', 'coworkers', 'speechless', 'monopoly', 'doesntfeellikestatusyet', 'inflexible', 'levd', 'numbered', 'iatanbul', 'suggests', 'cert', 'odd', 'structure', 'dramatically', 'diminishes', 'certs', 'clearvision', 'tvu', 'httptcoqbynpctf', 'deter', 'storage', 'latter', 'package', 'httptcolugmfvwsa', 'preferences', 'ilchp', 'ridic', 'atleast', 'omaha', 'bitch', 'paycheck', 'thingunited', 'crackersnabisco', 'pepperidge', 'farms', 'httpstcormpkogwu', 'daysofhell', 'helpless', 'knees', 'cbcallinaday', 'cbcnews', 'hoped', 'exitrow', 'shades', 'windows', 'rjs', 'lta', 'httptcoaoeaeszdlx', 'wrap', 'amounts', 'apologized', 'sobbing', 'uas', 'actions', 'httpstcohlngbtx', 'answerthis', 'dreadful', 'pretend', 'whacked', 'verifies', 'initial', 'comments', 'harris', 'circulation', 'upgd', 'premiers', 'ft', 'lauderdale', 'alerts', 'mkwlkr', 'ansleyhutson', 'emilydonneiiy', 'neworleans', 'httptcoaxpnxiqb', 'lmao', 'regard', 'expressing', 'lostyou', 'consoled', 'died', 'sfodfw', 'sfoord', 'disappointedunited', 'feed', 'appalling', 'waspaid', 'miriam', 'winnipeg', 'tightconnection', 'coltsmissingbags', 'lightyears', 'precious', 'frightening', 'montego', 'breathe', 'namesdallas', 'borderline', 'letsworktogether', 'dope', 'locked', 'troubleshoot', 'ins', 'earth', 'staffcust', 'lgaord', 'unempathetic', 'fulldont', 'pri', 'opsec', 'leisure', 'masters', 'smf', 'shannon', 'lowest', 'companyi', 'fortunately', 'volumes', 'httptcopkfibttzf', 'aircargo', 'httptcobbjkmtyul', 'bcn', 'accepted', 'forms', 'ltltltltlt', 'shoddy', 'whatsoever', 'ltltltltltlt', 'correspondence', 'laurasbrown', 'lives', 'stone', 'tablets', 'skateboards', 'pgatour', 'court', 'anticonsumer', 'hashtag', 'replying', 'thparty', 'itproblems', 'warnings', 'respects', 'pretending', 'welfare', 'previously', 'associated', 'tracing', 'turquoise', 'upc', 'swimsuits', 'competitively', 'priced', 'identical', 'honored', 'hits', 'httptcozhmfdiw', 'unitedwithivy', 'falseadvertising', 'tons', 'fields', 'addr', 'signin', 'dxb', 'hearts', 'sime', 'flashlight', 'noapology', 'restructured', 'brotha', 'multiplier', 'equal', 'dang', 'teleportation', 'payed', 'directv', 'httptcohqdtkatue', 'httptcotgnknld', 'rtbgtiah', 'headaches', 'neighbors', 'smoking', 'cigarettes', 'federal', 'prohibits', 'bagyet', 'stonewalled', 'passing', 'colliding', 'fella', 'presented', 'couldve', 'wontflyagainwithyou', 'staffers', 'clubs', 'faults', 'isolate', 'icy', 'mtn', 'hemispheres', 'magazine', 'httptcovrqdpqepfw', 'ritacomo', 'understandably', 'edgy', 'chipper', 'ser', 'chatting', 'yelled', 'stdby', 'sivi', 'stewart', 'amid', 'humiliating', 'serves', 'benefit', 'ewrlax', 'seatarmrest', 'fullfa', 'internal', 'httptcozksxitdn', 'contracts', 'dadboner', 'boldflavors', 'bringing', 'bourbon', 'bold', 'flavors', 'ingredients', 'dining', 'csfail', 'milageplus', 'shady', 'holding', 'flyunited', 'phonehung', 'onall', 'greatservice', 'undetermined', 'chicagos', 'hometown', 'savethediagonals', 'flyquiet', 'ordnoise', 'cyndi', 'troy', 'superben', 'rno', 'street', 'staying', 'glance', 'starboard', 'reinstating', 'kosher', 'laxwhen', 'planesplane', 'screenslousy', 'upfare', 'httpstcozgoqoxjbqy', 'connectors', 'rantyou', 'luggagethen', 'moments', 'considerably', 'wise', 'cheeze', 'functionality', 'satisfaction', 'hypocrisy', 'jilted', 'moneyelsewhere', 'tryagain', 'ezee', 'born', 'india', 'wilson', 'httptcotvkpyxqv', 'pvdiad', 'ooh', 'amnt', 'nexus', 'overcarry', 'replaced', 'cheated', 'rudeness', 'indeed', 'httptcofuchzrzjg', 'igiveup', 'signup', 'captive', 'httptconyvvxd', 'nofun', 'jane', 'preselect', 'sfogtyyz', 'httptcoazltjhflv', 'forelock', 'alaskaair', 'convinced', 'vary', 'elingeniero', 'ito', 'teamagain', 'highlight', 'firing', 'loaned', 'httptcobtkyrbyj', 'classic', 'elizabeth', 'qualifies', 'whyany', 'input', 'retweet', 'thousands', 'doublestandards', 'disappear', 'amsterdam', 'disastertravelingwithsmallkids', 'sendingposting', 'surrounding', 'ashamed', 'hidden', 'jetbridge', 'drivermissed', 'gents', 'passenegers', 'allright', 'technically', 'frankpostsecretcom', 'rmoug', 'recheduled', 'decency', 'carerespond', 'closings', 'rewards', 'birthdays', 'fianc', 'httptcouaywrras', 'resending', 'disloyal', 'httptcocevypb', 'huffpostbiz', 'xx', 'taller', 'speedy', 'debating', 'firm', 'protect', 'holy', 'batman', 'speeds', 'insanely', 'upsellladen', 'mrandyep', 'albeit', 'oc', 'toiletries', 'httptcopzalwtrez', 'tissues', 'everywhere', 'programhorrible', 'customersyou', 'wantvirginamerica', 'asks', 'safealone', 'httptcouczplhl', 'offers', 'buytransfer', 'milesthe', 'httptcozzpsywve', 'nonetheless', 'entirely', 'httptcoivgpzsjtkw', 'httptcotzimqzlg', 'vouchercompensation', 'audition', 'ferry', 'quiche', 'tandoori', 'entrees', 'accompaniments', 'equipped', 'wandered', 'txting', 'inbox', 'junkspam', 'refunds', 'success', 'pittsburg', 'honoring', 'assignments', 'untrained', 'crossing', 'boat', 'whispering', 'pointing', 'bitty', 'flightmarch', 'acquire', 'distance', 'httptcoimdckodfx', 'brokeni', 'nynjairports', 'bizarre', 'httptcohlmoksxl', 'outage', 'pricing', 'userperceived', 'bandwidth', 'flightncy', 'gogo', 'hubs', 'outdated', 'thankful', 'fab', 'myers', 'mothers', 'phlord', 'blegh', 'braved', 'shipping', 'febs', 'edition', 'dime', 'headphonesbut', 'kid', 'njvbp', 'httptcootlzakd', 'brandi', 'zabsonre', 'delight', 'httptcotkaopdtsq', 'durango', 'farmington', 'hitting', 'slopes', 'rajuchinthala', 'feck', 'improvements', 'meantime', 'flyanaofficial', 'transpacific', 'survive', 'selfinterest', 'casleah', 'jsumiyasu', 'gist', 'indicating', 'aback', 'squarely', 'shoulders', 'cld', 'disorganized', 'stays', 'sigh', 'timenot', 'cockup', 'httptcoohcfvdhr', 'swag', 'ijustwanttosleep', 'proficient', 'iahhnl', 'reactive', 'proactive', 'juice', 'getphilz', 'httptcosgiqqfvso', 'mot', 'incl', 'clusterfucks', 'overheard', 'moar', 'dropping', 'bully', 'mentality', 'fostering', 'inspiration', 'greater', 'employeerelations', 'btwn', 'ports', 'torture', 'crpe', 'biscuits', 'httptcogzgqdtjj', 'httptcoxmaqcucwzl', 'sentimental', 'heartbroken', 'mp', 'flightsairports', 'bwiewrmco', 'nicer', 'connetion', 'wanting', 'phx', 'teaching', 'research', 'budget', 'httptcoqllrep', 'loooooong', 'sr', 'servicecare', 'prompted', 'prev', 'pregnant', 'glassdoors', 'places', 'snagging', 'notsurprising', 'luvthem', 'leverage', 'meagan', 'fouty', 'brancato', 'wkids', 'jacksonville', 'parentsonboard', 'httptcofxbijlxat', 'ding', 'chromefirefox', 'swell', 'midwaychicago', 'thapril', 'flypbi', 'logically', 'drove', 'sweetheart', 'altonbrownlive', 'sohappy', 'unfollow', 'flyfrontier', 'scramble', 'auction', 'postmasters', 'invitational', 'httptcomrfbjtepef', 'processing', 'throwback', 'bestflightever', 'ffl', 'heavenlychc', 'cocktailor', 'flyaway', 'newsbusiness', 'httptcoowlainimy', 'facepalm', 'httptcopofsxojsy', 'approvals', 'de', 'onlinewas', 'perfectly', 'fml', 'teyana', 'taylor', 'medusafridays', 'httptcoqwfmoqdql', 'httptcokbbbfxmk', 'themenofbusiness', 'vacay', 'playa', 'carmen', 'expiration', 'smiles', 'birmingham', 'christine', 'httptcoxzrkwvq', 'mx', 'dignity', 'redeempoints', 'packages', 'magically', 'baitandswitch', 'callwhats', 'ids', 'brutal', 'chibuf', 'barelyexpired', 'rapidrewards', 'lasttweetaboutthis', 'vallarta', 'groupa', 'honey', 'checks', 'midway', 'portal', 'httptcohuclxluvh', 'httptcoozrqpcr', 'solid', 'length', 'reverted', 'swa', 'flightsdelays', 'rolemodel', 'finger', 'barzegar', 'tourists', 'euros', 'tent', 'village', 'runs', 'httptcoigsvzvrbbn', 'promotion', 'chantilly', 'france', 'agovacationfail', 'frozenwater', 'gettingimpatient', 'theycouldatleastofferfreebooze', 'carol', 'thrower', 'venetia', 'crook', 'oyu', 'alist', 'ivr', 'proceed', 'strives', 'centric', 'anamarketers', 'rr', 'marriott', 'checkinout', 'spiritairlines', 'smalls', 'traditionally', 'sledge', 'hammer', 'scalpel', 'data', 'science', 'americas', 'largest', 'bible', 'vipliveinthevieyard', 'intuit', 'jhamilton', 'careers', 'intuitlife', 'leanin', 'httptcoqjbcvjzq', 'southwestairlines', 'resource', 'delayscancelled', 'reboarding', 'kta', 'vip', 'vineyard', 'oscarworthy', 'entrance', 'httptcotmthvfdc', 'affordable', 'happycamper', 'ellamae', 'phlairport', 'penguin', 'als', 'httptcomyywafkfi', 'kevinswan', 'alstdi', 'alifestory', 'smoooothest', 'southwestsmoothie', 'httptcovrklai', 'charleston', 'stepup', 'makeitright', 'wewillsee', 'throughout', 'httptcoaaumkazy', 'sol', 'shifts', 'raps', 'partnerrewards', 'openin', 'tip', 'evolved', 'httptcofornpfky', 'heart', 'aimed', 'satisfy', 'nanosmattering', 'urgently', 'receipts', 'etd', 'birth', 'lynn', 'cb', 'httptcorlpjchb', 'sauna', 'nephew', 'midlandflight', 'buisness', 'hail', 'lindsey', 'schoolgirl', 'typing', 'clever', 'bagsflyfree', 'badpolicy', 'allows', 'cheatcustomers', 'principle', 'mugged', 'wrongiswrong', 'badbussiness', 'theft', 'httptcozaqltf', 'uncool', 'larger', 'httptcohujcjg', 'bwiand', 'terribleno', 'arehis', 'gear', 'attempts', 'httptcoklbaimes', 'poc', 'partnerships', 'nonprofit', 'organizations', 'husbands', 'filmjobnoequipment', 'nowarmclothes', 'mdw', 'tus', 'lostbags', 'cistudios', 'youdidit', 'higgs', 'boson', 'discounts', 'nonprofits', 'donate', 'thebachelor', 'wah', 'floridavacation', 'smoothflight', 'flutter', 'fullprice', 'bethonors', 'honorable', 'economic', 'cdn', 'towns', 'customerappreciation', 'gaincustomers', 'keepem', 'peanut', 'allergy', 'lovedflyingwiththem', 'notanymore', 'lubbock', 'tmobile', 'combination', 'texting', 'crooked', 'shouldwearmasks', 'fneqm', 'rule', 'fell', 'httptcoynczutzz', 'luvswa', 'httptcoelhxuvuj', 'lou', 'ann', 'rocks', 'ourguest', 'destinationdragons', 'httptcoaygidcfa', 'httptcoycvsiod', 'enrolled', 'katie', 'temp', 'httptcotxutsfkj', 'canthurtasking', 'imaginedragons', 'sweepstakes', 'nutsaboutsouthwest', 'vinyl', 'brooding', 'httptcoxblwgwa', 'monkey', 'mdwmci', 'homeandreadyfornexttrip', 'httptcoxjvunzz', 'voice', 'satisfactorily', 'justsayin', 'sass', 'genuinely', 'comparable', 'shittydeal', 'taylorlumsden', 'responsiveness', 'thevery', 'escaping', 'maltese', 'mdwfll', 'capacity', 'meanit', 'professionals', 'improving', 'httptcohhtoz', 'fuyukaidesuyo', 'hugeeeee', 'evennotified', 'theflight', 'isdelayed', 'emailtextphone', 'callif', 'wererunning', 'unreliable', 'closes', 'tests', 'chemistry', 'melissa', 'albums', 'accidents', 'fistfights', 'applications', 'fall', 'positions', 'httpstcogmlotimh', 'honesty', 'httptcoeueyxawcv', 'briughy', 'comclassic', 'aif', 'agcommunity', 'aprilmay', 'feature', 'plants', 'productivity', 'healthbenefitsofplants', 'gardening', 'httptcobvfaxdubaq', 'httptcoiqnvyfpgp', 'bae', 'darrel', 'contest', 'entertain', 'lifting', 'spirits', 'strip', 'stoked', 'httptcotopqmvqnjp', 'proving', 'clues', 'mkt', 'whathappend', 'devalued', 'httptcomdbdyomrs', 'scavenger', 'hunt', 'detective', 'insult', 'injury', 'profile', 'sadie', 'httptcomrawqdwd', 'kelsey', 'locals', 'parking', 'bellagio', 'httptcoyccitaeps', 'sports', 'httptcoxtdydbh', 'destinationdragon', 'booo', 'givethemraises', 'crabby', 'earlybird', 'grrrrrr', 'television', 'nycfeltthelove', 'netneutrality', 'prioritize', 'streaming', 'sites', 'northern', 'httptconmvnnfkb', 'httpstcoiitojhuikh', 'paradise', 'httptcokdzqczlpyr', 'entertained', 'gin', 'tonic', 'toyingwithouremotions', 'apologizing', 'personally', 'waits', 'kristicapel', 'toughtomakeplans', 'gettingthirsty', 'terry', 'hero', 'cellphone', 'dice', 'signal', 'hooking', 'grateful', 'businesstrip', 'reflect', 'est', 'hdsportsguy', 'dos', 'donts', 'announcer', 'httptcosbaaricyq', 'broad', 'weatherrelate', 'stops', 'flightedsent', 'notsatisfied', 'georgia', 'dons', 'ri', 'lotbut', 'hopeful', 'motions', 'intercom', 'integration', 'preboards', 'station', 'nsw', 'httptcowqzztiemx', 'allgood', 'chg', 'onlineapp', 'rncahill', 'ideserveareward', 'httptcolhsnlgie', 'rudely', 'partnering', 'hilton', 'genius', 'flgt', 'purchaseerrorinvalidloyaltymemberaccountstatus', 'antonio', 'marriage', 'scene', 'thanksare', 'dnt', 'sld', 'lukewyckoff', 'matthewebel', 'coachgs', 'helloare', 'noon', 'unveils', 'ohio', 'httptcogrkbjbxlk', 'ftlauderdale', 'aug', 'ftmyers', 'orangecounty', 'columbus', 'oakland', 'bostonlogan', 'spam', 'clinicpolly', 'uxzj', 'sellmypointssoon', 'minno', 'body', 'downs', 'meat', 'punishedforflying', 'fri', 'equip', 'flamethrowers', 'plow', 'httptcourzvbpjko', 'linking', 'furryfiesta', 'tok', 'possession', 'httptcovudwjmlyb', 'airtran', 'qvnmb', 'emailcall', 'displays', 'pleaseeee', 'nakedmeetings', 'fron', 'banning', 'allergic', 'ignores', 'pnut', 'oil', 'dust', 'sighed', 'heavily', 'nelsjeff', 'interaction', 'ing', 'interest', 'lin', 'series', 'mdwsan', 'websites', 'lasalle', 'httptcovzvugmkjw', 'kkwhb', 'arrangements', 'arizona', 'httptcofinqfhue', 'directional', 'dislexia', 'triple', 'looped', 'nwn', 'enroute', 'phxskyharbor', 'httptcobdtvrgcy', 'gis', 'soaking', 'httptcodzegapfqw', 'httptcovhgkitzsaw', 'whatd', 'flightplease', 'ewk', 'pseudovoucher', 'daysinn', 'existence', 'lease', 'empathetic', 'monika', 'mwa', 'ambivalence', 'patricia', 'httptcommcwkqpgy', 'ranging', 'jparkermastin', 'passive', 'rethinking', 'stroller', 'nbd', 'workaround', 'muchas', 'grassy', 'fired', 'dissaponted', 'robot', 'conversation', 'knowledge', 'wn', 'sansfo', 'rita', 'specialolympics', 'athletes', 'olympic', 'athlete', 'akron', 'wretched', 'mdwgtmem', 'suspended', 'allegiantair', 'ar', 'companionpass', 'flymidway', 'dendal', 'tue', 'daytona', 'httptcosbgbnouxy', 'offices', 'ichangedyourdiaper', 'megelizabeth', 'alt', 'signs', 'eom', 'credited', 'inconsistent', 'mates', 'tru', 'thatthis', 'contingencies', 'huntsville', 'mitchellairport', 'httptcoljydkorq', 'mighty', 'countryshes', 'marchand', 'httptcoenhkeuutd', 'retiring', 'httptcosxvagbrtli', 'lasairport', 'miracle', 'gtsouthwestair', 'canx', 'weatherless', 'md', 'anderson', 'sweeps', 'httptconofgtqhyn', 'precludes', 'pleasemy', 'southwestluv', 'httptcounxqotzik', 'carpet', 'tx', 'destroy', 'amponly', 'wthem', 'sweethearts', 'companions', 'aim', 'pleasehow', 'functionally', 'gimme', 'combat', 'aruba', 'discontinued', 'dontmakemebeg', 'cp', 'memorial', 'aka', 'httptcoqjklabprg', 'secrets', 'brighter', 'combined', 'qualified', 'hollymais', 'mines', 'amazed', 'obtain', 'httpstcooquksoso', 'subscribe', 'minenow', 'investment', 'fransisco', 'sale', 'saleim', 'fasten', 'businessso', 'telephone', 'tiday', 'httptcokjkuvjcmo', 'slowing', 'planing', 'httptcoxmztfix', 'bur', 'gettingbetter', 'ring', 'sfogtsna', 'infinity', 'band', 'homeless', 'unpleasant', 'angering', 'slowness', 'ack', 'httptcoqrxvzfrdz', 'wentook', 'sometimes', 'shouldhaveflownjetblue', 'mario', 'bros', 'gameboy', 'color', 'props', 'opposed', 'chaotic', 'crappiest', 'enemy', 'compassion', 'handicapped', 'strandednyc', 'graders', 'project', 'loves', 'httptcobayepzkmiz', 'ohk', 'inexpensive', 'airfares', 'httptcoojrsdwpkk', 'notmadeofmoney', 'curse', 'lucky', 'deed', 'smashed', 'httptcopdntgbxc', 'essentials', 'theacademy', 'hotlanta', 'httptcoxzqssjtrb', 'galaxy', 'zoom', 'scroll', 'letitgo', 'httptcoqxteqzmyz', 'rumor', 'peanutsonaplatter', 'elderly', 'planefirstclass', 'msgs', 'phxgtdal', 'danihampton', 'dani', 'boooo', 'httptcowhagpknnlf', 'gent', 'flightingdelaying', 'flyswa', 'denverairport', 'firstboth', 'stowaway', 'jamaica', 'defective', 'sweepstakesit', 'chalk', 'loss', 'dragons', 'sunny', 'nolove', 'noexcuses', 'cali', 'httptcokumtbger', 'coldly', 'neveryamind', 'httptcovnjjiao', 'tear', 'seam', 'soaked', 'busted', 'zippers', 'httptcolhwfbkfyni', 'uninformed', 'unapologetic', 'dynamite', 'comped', 'quietly', 'irate', 'justsaying', 'promofly', 'rnd', 'spring', 'arkansas', 'gov', 'governor', 'sb', 'legalizes', 'lgbtcan', 'lend', 'boycott', 'harbor', 'expeditious', 'onechildfourbags', 'conflicting', 'specials', 'redirects', 'aarp', 'tfw', 'jimcramer', 'audience', 'rscheduling', 'tyspent', 'battery', 'useopen', 'holds', 'complimentarybeveragesneeded', 'earlybirdmeansnothing', 'yday', 'gtmin', 'drenched', 'bwilax', 'httptcogkyufqh', 'consumermarketing', 'cxed', 'nev', 'sisterampbrother', 'safetyservice', 'httptcoxeqyahfvz', 'impression', 'alison', 'bobbi', 'flightledtried', 'unprecedented', 'httptconustgpelsf', 'httptcobebkxbt', 'dallasnext', 'getmeouttahere', 'southwestsucks', 'slaycancerwithdragons', 'noluv', 'goin', 'httptcozjlztua', 'alex', 'monfr', 'asshole', 'orl', 'photos', 'ebook', 'tips', 'httptcodmjhm', 'httptcoxedeckgmw', 'httptcofrghglmkqf', 'happend', 'blames', 'flightlationyou', 'fixedcertain', 'tracks', 'mashing', 'tones', 'themestimated', 'suitcases', 'sd', 'holdup', 'delacy', 'compassionate', 'professional', 'priorities', 'pilotsamp', 'iflyswa', 'az', 'muh', 'baltimore', 'laps', 'laughing', 'httptcodqzlrjop', 'dilemma', 'valentines', 'daynot', 'tomorrowwould', 'bfs', 'diabetic', 'insulin', 'greenville', 'usair', 'indy', 'seatac', 'grandcanyon', 'photography', 'httptcodpqouatdf', 'baggagefail', 'bagsflyfreebutnotwithme', 'november', 'grabbed', 'northeast', 'epitimeoffail', 'jamie', 'mckinnie', 'owning', 'maiden', 'retroactively', 'flightsmilespoints', 'balance', 'poteettj', 'couponsi', 'coupons', 'trees', 'optout', 'httptcocxrzhcdtvz', 'freejust', 'furnish', 'talents', 'spirit', 'tmadcle', 'xmost', 'stopclaim', 'mcogtcmh', 'swas', 'wld', 'relax', 'avon', 'doug', 'dcoadavon', 'outgetmeoutofhere', 'concert', 'httptcogbeasz', 'rating', 'suddenintlcheckin', 'restroom', 'sink', 'sanitizer', 'homegirl', 'stuckintampa', 'chicagomidway', 'mgmt', 'cmon', 'httptcocpiosphm', 'cavalli', 'calves', 'interfering', 'mccarran', 'southwestfail', 'httptcorxzmyy', 'qmfd', 'el', 'paso', 'coordinate', 'wills', 'loser', 'insubstantial', 'blackhistorymonth', 'musician', 'blacklivesmatter', 'recruiting', 'internships', 'jindalcmc', 'davidson', 'auditorium', 'jsom', 'utdallas', 'vitaminwater', 'bravo', 'leinenkugels', 'dosequis', 'fattire', 'fehqne', 'dcarsw', 'opening', 'tomorro', 'fwwef', 'ant', 'tn', 'loose', 'brag', 'totalfail', 'letdown', 'servicing', 'forgiven', 'highhopes', 'presidential', 'fszyo', 'lasbuf', 'alas', 'books', 'kc', 'hv', 'spoken', 'omagtden', 'sev', 'getyourlife', 'wounded', 'vets', 'manchesterbwi', 'vet', 'healing', 'idols', 'sooooo', 'callmestanley', 'flysw', 'particular', 'urged', 'forty', 'finish', 'minflight', 'beenhours', 'celebration', 'heck', 'windy', 'httptcoirynmbdu', 'ticketing', 'unorganized', 'craziness', 'stations', 'unmanned', 'tweak', 'skip', 'microsecond', 'httptcovlcikvip', 'corner', 'pleasehelp', 'whenitsnowsitpours', 'tgcyalate', 'library', 'wheelsup', 'httptcooryeegek', 'portion', 'opinion', 'grandmothers', 'positionhow', 'colleague', 'anhour', 'httptcomhaxxaed', 'bgr', 'insist', 'werenot', 'chng', 'tld', 'whch', 'trvl', 'advsry', 'removes', 'indianapolis', 'readily', 'imjustsaying', 'httptcotfyybhjhl', 'mouth', 'cable', 'mans', 'portable', 'httptcoqwtilya', 'httpstcoucvnilmbx', 'ryand', 'happybirthday', 'httptconsusfsbpv', 'profitable', 'venture', 'isitthegarykellyway', 'httptcobjnzeix', 'disrespectful', 'cutoff', 'countingjust', 'httptcosiczxoez', 'kay', 'chapman', 'designs', 'artluggage', 'httptcofxnvba', 'bnardu', 'getmorehands', 'indian', 'aunties', 'aruna', 'httptcoaypyaduya', 'airlineive', 'southwestoliver', 'worknogood', 'tremendously', 'cspkcats', 'velour', 'showentered', 'theellenshow', 'kdepetro', 'httptconlrfouay', 'que', 'complicated', 'dalmdw', 'winterweather', 'httptcopgwukrpmox', 'invited', 'cockpit', 'getmeoffthisbird', 'crutches', 'httptcoaycflalxv', 'resched', 'tmw', 'backroads', 'stlbos', 'ne', 'httptconggnwiar', 'ticketsforjax', 'olive', 'directs', 'okcdirects', 'okcprofessionals', 'competitors', 'minutesi', 'customerloyalty', 'pulse', 'httptcoaufmxdaj', 'batteries', 'httptcoiwoigrlhxb', 'flynashville', 'httptcoidrakenoh', 'launder', 'dale', 'phoneridiculous', 'portcolumbuscmh', 'waitin', 'hiremorepeople', 'approximate', 'cxld', 'keepitmovin', 'grandkids', 'httptcobhooiytzq', 'jumped', 'gun', 'louisville', 'supvsr', 'sally', 'gr', 'timedout', 'horror', 'implement', 'httptcoliqwoblfbt', 'hyperlinked', 'httptcoihwnfkz', 'handing', 'sleet', 'evedidnt', 'clarence', 'frank', 'childrens', 'seatstray', 'sanitized', 'purifier', 'troubadour', 'httptcorklqxxawhc', 'wee', 'baking', 'blue', 'sourhwest', 'airlinehave', 'httptcoeczhcmmvi', 'salted', 'vote', 'dread', 'httptcorhwktqfo', 'surveys', 'tifffyhuang', 'httptcolfwafad', 'sac', 'betch', 'fortunemagazine', 'nationwide', 'bone', 'alls', 'httptcoaavvoreph', 'kmdw', 'httptcocpypgfnd', 'stretch', 'jasonwhitely', 'emer', 'albuquer', 'condition', 'maverick', 'divert', 'adjusting', 'snowstorms', 'airpt', 'httptcozfroinpszi', 'luved', 'purely', 'swagglikebean', 'nolaorlando', 'applauded', 'takemeback', 'httptcooqzwclla', 'lunch', 'stlatl', 'whens', 'fwhei', 'wifiless', 'buzz', 'anxious', 'ahah', 'annamarie', 'norris', 'recognized', 'changesdeval', 'nmaryland', 'morrw', 'inclement', 'dultch', 'scumbag', 'wouldve', 'sacintlairport', 'bestinclass', 'takemehome', 'rndtrp', 'djqkc', 'djimpact', 'horse', 'radish', 'receiving', 'noc', 'marry', 'lamp', 'desperate', 'promotionscodes', 'nashvilledenver', 'intend', 'julgood', 'miscommunicated', 'popped', 'aminaur', 'students', 'prospective', 'schools', 'graduate', 'eternally', 'bless', 'blatimore', 'httptcottxrsynlxr', 'songs', 'hoom', 'soul', 'interferes', 'wellen', 'concerts', 'alway', 'treasure', 'liveatfirefly', 'httptcoosrlhfho', 'range', 'defcon', 'weathered', 'stacy', 'gary', 'kelly', 'himself', 'corporation', 'rip', 'buyer', 'wernicke', 'lacma', 'fairfax', 'noone', 'thetroubadour', 'rn', 'ripme', 'disneyland', 'httptconkafbjyari', 'heyo', 'arrivals', 'headlines', 'liveonfox', 'februaryfreezefox', 'httptcotgsbdfps', 'httptcoztkeeup', 'pleasecan', 'httptcoeqqinfszh', 'okaaaaay', 'franks', 'httptcoxijifymvqp', 'jacquie', 'plitt', 'gal', 'httptcovbuxfpckfa', 'fouryrolds', 'capn', 'httptcocmqezxvdh', 'httptcoqxwwpa', 'httptcobbzijwfdl', 'manana', 'stlouis', 'httptcorcdhqj', 'lefteven', 'bradley', 'wway', 'spvsr', 'blows', 'httptcoujtvtcpa', 'stupid', 'stories', 'summer', 'labor', 'httptcoysqbvqmgb', 'cash', 'padresst', 'httptcoiquppvqs', 'teamspirit', 'httpstcoxjenanye', 'samoore', 'acknowledgement', 'southwestrocks', 'cocktails', 'httptcokeyrpflhil', 'bestairlineever', 'neverchange', 'controllove', 'unhappycustomer', 'mytimeismoney', 'roundtrips', 'refer', 'southwestverity', 'wmnlifehotmailcom', 'printed', 'deficiency', 'luvagent', 'planesnot', 'assuring', 'guessweflyingdelta', 'apples', 'ipodtouch', 'httptcoxxsaombdgs', 'needtogethome', 'buck', 'southwestairs', 'draws', 'crowd', 'bwiairport', 'partnership', 'httptcocvbaolcbl', 'httptcowtapxa', 'httptcohrvuktpvn', 'httptcomydnvbzaz', 'carryonbagssloweverybodydown', 'volleyball', 'httptcotncxcldm', 'laws', 'graduation', 'velourlive', 'utah', 'absoulutely', 'manufactured', 'quirkiness', 'mmm', 'captiveaudience', 'triflight', 'ashevilleair', 'functional', 'thth', 'midb', 'murraysawchuck', 'luxuries', 'expireswhy', 'nowmightmismybrosgraduation', 'shhhh', 'steal', 'deborah', 'raisegreat', 'wantcharge', 'srsly', 'accommodating', 'extending', 'creditwhats', 'daysnotahappytraveler', 'enforcing', 'obey', 'luvits', 'imdetermined', 'httptcooxmcwgab', 'relay', 'howwhy', 'allowabl', 'horizon', 'gosh', 'forfeited', 'kats', 'geekstiel', 'vindictivetk', 'larry', 'moveaboutthecountry', 'fjbfsc', 'amex', 'isp', 'frigidfriday', 'httptcobfpfweyku', 'httpstcoqvsffrdu', 'stlaus', 'ahhhhh', 'jackpot', 'httptcozoicegli', 'devaluation', 'bestfriends', 'retire', 'excruciatingly', 'happiness', 'inbrowser', 'hover', 'intrusive', 'responsive', 'repeating', 'pockets', 'tarmack', 'selfie', 'goingtovegas', 'paypal', 'getconnected', 'achieving', 'wx', 'luxury', 'missedflight', 'releasing', 'lbb', 'tripofalifetime', 'gracias', 'provo', 'baitampswitch', 'laguardiadal', 'sorta', 'sinuses', 'contend', 'landings', 'preregistration', 'eould', 'wannaa', 'flipping', 'whiny', 'accommodated', 'httptcololghpcdu', 'betsy', 'besty', 'mostbut', 'homewardbound', 'bringin', 'mor', 'parhetic', 'bagawim', 'httptcongxaloml', 'memo', 'buttons', 'bands', 'veryloyalcustomer', 'itd', 'vaca', 'httptcotrvfncedl', 'useable', 'xxvm', 'tos', 'nascar', 'bebetter', 'invalid', 'android', 'mrn', 'disupdates', 'budweiserduels', 'unacceptablei', 'lined', 'cattle', 'desirable', 'jason', 'stellarservice', 'michaelbcoleman', 'byebyeusairline', 'knowexpect', 'eb', 'nearby', 'medically', 'perform', 'southwestairgive', 'avb', 'xw', 'brd', 'nowfrustrated', 'rocif', 'gng', 'messcng', 'overbk', 'chiberia', 'miracles', 'execution', 'overbookedgng', 'destfeel', 'bec', 'amiltx', 'customerits', 'll', 'weekends', 'carolina', 'resort', 'wilco', 'nvm', 'rescue', 'sundown', 'httptcorqbpmwettq', 'subterfuge', 'rid', 'hhp', 'httptcoljzdthdbv', 'panchojoe', 'mustve', 'mixtapethough', 'recordi', 'loveeee', 'empathize', 'capitalized', 'lowercase', 'gotcha', 'oopsno', 'bathrooms', 'fairly', 'excitement', 'livvyports', 'became', 'bcuz', 'sammijons', 'awaywhy', 'setting', 'heroes', 'southwestrally', 'bestemployees', 'swaculture', 'httptcojtxyhqhfjj', 'gmail', 'swapic', 'auscun', 'dresparkles', 'luvin', 'presceo', 'therofo', 'addressing', 'cbsbaltimore', 'httptcooiuqttz', 'bowl', 'oak', 'pleaseeeeee', 'hrl', 'unobaseball', 'singing', 'luvintheair', 'joy', 'videos', 'heartlanta', 'noticed', 'fist', 'bumphigh', 'igotmonte', 'hopin', 'reviewing', 'oversize', 'hardcase', 'golfbags', 'instruments', 'saianel', 'ifthesneverstopped', 'rocking', 'charttopping', 'pwm', 'saturdays', 'permanent', 'ineligible', 'forgotten', 'answersno', 'fiancee', 'protocol', 'evrytime', 'rolled', 'nasbwi', 'bz', 'bwisjd', 'prettyplease', 'customerstime', 'goto', 'airliner', 'cache', 'hayleymad', 'exclusive', 'seasonal', 'bottom', 'heartdestinationdragons', 'bosbna', 'cmhoak', 'daydreaming', 'bayespecially', 'ohioprobz', 'origami', 'oldpolicieswaybetter', 'park', 'yeehaw', 'vent', 'ensured', 'malfunctioning', 'brittanyobx', 'quirky', 'archaic', 'accommodates', 'onelove', 'bestairline', 'favoriteairline', 'luvforsw', 'unserved', 'httptcovqtyzamzu', 'dialup', 'childish', 'remain', 'constructive', 'criticism', 'feesbut', 'bringbacktheluvtordu', 'directflights', 'httptcopvczxthm', 'dispatchalerts', 'httptcoesmmnizek', 'wholly', 'consultant', 'yearly', 'accumulation', 'phishing', 'cheapest', 'personallyabout', 'atlno', 'superb', 'raving', 'glitches', 'ctr', 'timerest', 'areas', 'ragandisney', 'jlittle', 'nonstops', 'mbps', 'wmy', 'infanttoddler', 'whyso', 'fewdirectflights', 'bestfriend', 'recovery', 'ownerhelp', 'presenting', 'httptcoznmwxdiu', 'roadmap', 'intelligent', 'embed', 'enterprise', 'thirtylives', 'integrating', 'milwaukee', 'httptcoxhcacjax', 'supporter', 'jesus', 'portrayed', 'homosexual', 'judas', 'performs', 'atlaus', 'whoot', 'gap', 'lasted', 'redeeming', 'races', 'aww', 'wknd', 'england', 'logo', 'airplanes', 'lovetotravel', 'chaching', 'college', 'luxclark', 'laura', 'shortlycb', 'weekmakes', 'onlywaytofly', 'leathery', 'faaaannntastic', 'httptcojmgqkgrf', 'airwe', 'thaw', 'horribleattitudes', 'players', 'chgd', 'acoustic', 'disneyprincesshalfmarathon', 'girlsweekend', 'bffs', 'co', 'agt', 'rich', 'westagard', 'att', 'nancy', 'airportheld', 'customersfirst', 'mvp', 'kicking', 'httptcosbehibmk', 'qualification', 'httptconwvxdgmf', 'flightspots', 'mobileboarding', 'bridesmaid', 'tbuccherifrnce', 'beijing', 'understands', 'unpredictable', 'tiks', 'aside', 'herb', 'laflying', 'guest', 'canplease', 'willie', 'nelson', 'impersonator', 'sang', 'peanutsandtoons', 'httptcokcddoduff', 'skymalls', 'ripskymall', 'passngr', 'physically', 'flythroughs', 'tonightgreat', 'timieyancey', 'httptcotkvcmhbpim', 'httptcoqnodugfqk', 'misleading', 'httptcoadfulmh', 'sporadically', 'uncharacteristic', 'httptcotxhyjllg', 'aired', 'bets', 'bookofnegroes', 'sests', 'savannah', 'ga', 'pleeeease', 'chicagolaxphx', 'spotting', 'sweatshirt', 'craftbeer', 'httptcotgsljjng', 'httptconbzjcdr', 'knoxville', 'filing', 'transports', 'monthly', 'httptcocyoonzftdc', 'caution', 'dependents', 'eligible', 'phoneinperson', 'chimid', 'woohoo', 'whyyy', 'damion', 'damionflight', 'internjohnradio', 'mrerickv', 'threatening', 'kaneshow', 'whoa', 'specifics', 'anticipate', 'httptcocexrk', 'leeannhealey', 'beatsmusic', 'personalized', 'snapchat', 'demolish', 'imessage', 'bloody', 'reservationwe', 'witty', 'repartee', 'bso', 'attentive', 'bicycles', 'criteria', 'bikes', 'faq', 'austinbergstrom', 'lanes', 'luvsw', 'curb', 'alistey', 'bingo', 'noah', 'postcode', 'ireland', 'messaging', 'loveluv', 'swvyilxklrogfsja', 'giant', 'require', 'stewardesses', 'sing', 'humphrey', 'httpstcomavigetbbw', 'yearslate', 'maybeijustlost', 'whyyounoloveme', 'lovedragonss', 'lauren', 'ahhhh', 'sets', 'httptcoskkewqhssg', 'taylormdowns', 'flowers', 'karajusto', 'fkqw', 'httptcoosoxhfwy', 'worstthingever', 'fedexed', 'httptcowrwqrublps', 'ubergizmo', 'courtney', 'lgabwi', 'expedite', 'vinylvegas', 'anni', 'httptcobaperumne', 'jamesasworth', 'brent', 'additonal', 'cantblametheweather', 'mhtforlife', 'swadiversity', 'shortlysouthwestair', 'brendanpshannon', 'brendan', 'shortlyrs', 'announcing', 'kindly', 'mardigras', 'httptcowbzorrnc', 'lemme', 'university', 'straying', 'thingsishouldknow', 'ifeeldumb', 'httptcolednocdqee', 'craving', 'roadtrip', 'httpstcocfiekxa', 'sureill', 'southwestairswadiversity', 'httptcoseswagum', 'pastmypatienceexpirationdate', 'inclusion', 'popping', 'ohing', 'jackass', 'kirkwoodtiger', 'hmmm', 'caribbean', 'httpstcoaayavgb', 'ld', 'saysorrychris', 'swfollowed', 'lead', 'customerservicewin', 'itravelalot', 'httptcozznfwkkwp', 'oki', 'costa', 'rica', 'government', 'approval', 'companionpasses', 'residing', 'httptcomdnedze', 'sooo', 'compete', 'fuckinf', 'sht', 'gain', 'httptcoilqzmmjiyq', 'deltanews', 'screakjmf', 'emerging', 'leader', 'development', 'httptcojlhmxukb', 'pv', 'forecasted', 'display', 'httptcoknpjelzl', 'flysouthwest', 'lovesouthwest', 'mybday', 'sagerooski', 'undignified', 'behavior', 'freedrinkcoupons', 'mltple', 'pmcan', 'jaxbna', 'notokay', 'lastly', 'letters', 'balt', 'babies', 'cried', 'vomited', 'chaos', 'caroline', 'superhero', 'bnasnow', 'astounded', 'contempt', 'purse', 'wendell', 'holton', 'na', 'httptcozstyuqj', 'secondly', 'packingayak', 'brianregancomic', 'cockroaches', 'crawling', 'traps', 'displeased', 'httptcoryxbplgmnk', 'fsve', 'nutsamp', 'deltapoints', 'unlike', 'policyfees', 'devotedyyours', 'nl', 'disappointments', 'discusses', 'possibilities', 'nhl', 'arena', 'httptcoteshxng', 'smusportmgt', 'sportsbiz', 'closetoverhead', 'cakairport', 'winner', 'httptcoprrtow', 'octavia', 'httptcobohmhcb', 'downnnnn', 'courtsnod', 'hillaconlin', 'solar', 'charger', 'amazon', 'changer', 'plug', 'usb', 'tryin', 'bicycle', 'bike', 'fla', 'tinaisback', 'unloaded', 'neveind', 'modelodenegocio', 'innovacion', 'businessmodel', 'flightchecked', 'oakgtmsy', 'johnwayneair', 'divadapouch', 'thepoopqueen', 'httptcoxxydimnp', 'wonderfully', 'film', 'yesnot', 'reload', 'txt', 'emp', 'wide', 'phi', 'freecomedyshow', 'newlifetimecustomer', 'engadget', 'theverge', 'wired', 'reddit', 'bigger', 'dick', 'iusedtoloveu', 'httptcotefhpuwmdj', 'emerg', 'communicated', 'erw', 'commit', 'kisses', 'snacksthank', 'httptconklozcntto', 'disheartening', 'familyand', 'covered', 'smaller', 'requirements', 'backpacks', 'shotwest', 'fvfyw', 'swrr', 'codes', 'serviceopen', 'acting', 'shortshorts', 'assistanceyou', 'reachable', 'thrueverything', 'interviews', 'uneventful', 'outline', 'scenarios', 'travelportland', 'mt', 'hood', 'httptcoysahvxzk', 'nashvilleshould', 'snag', 'nas', 'pumped', 'essential', 'attire', 'monthwill', 'grant', 'majority', 'test', 'tomoro', 'feelingtheluv', 'profitbeforepeople', 'imo', 'httptcoqefkfwzod', 'rubs', 'wigs', 'michele', 'rocked', 'natures', 'goodhumored', 'noairport', 'httptcofdsnvkiem', 'poisonpill', 'snowbama', 'pieces', 'promos', 'evaluate', 'dealsmay', 'undefined', 'workingfamily', 'cgroup', 'comeon', 'matteboss', 'predict', 'disney', 'httptcopivxeanjy', 'iiiii', 'slowfi', 'timeand', 'costarica', 'pennies', 'vacatime', 'denbna', 'reopens', 'fattuesday', 'awwweesssooomee', 'prchase', 'retailer', 'keepmy', 'swamped', 'mardi', 'gras', 'dealt', 'fastest', 'instrument', 'involved', 'deicer', 'bushleague', 'weakservice', 'nochill', 'httptcoesdxdvr', 'mcogtdca', 'msydca', 'swamistake', 'electric', 'skateboard', 'regular', 'fpmy', 'jennifercascinogmailcom', 'becuz', 'swfan', 'httpstcojurhzrqc', 'gsp', 'dsm', 'separately', 'spreading', 'nftyconvention', 'httptcottbtyilo', 'gtmins', 'store', 'necessities', 'tulsa', 'southwestluvsweeps', 'runways', 'waitingcan', 'tomvh', 'httptcohmmqczkcf', 'starving', 'spilled', 'hahayeah', 'elevator', 'southworst', 'girlfriends', 'grades', 'create', 'desparately', 'bnagt', 'tul', 'annebevi', 'paulbev', 'mikeabramson', 'lodge', 'bummed', 'callbacks', 'wresos', 'fraud', 'vegaschicago', 'caller', 'cbssoxfan', 'offcalls', 'phonedied', 'alistpreferred', 'httptcotzzvbmbs', 'soured', 'thu', 'screencap', 'unspecified', 'paytontaylor', 'payton', 'swair', 'tortured', 'assisted', 'incidents', 'willmake', 'guidance', 'bham', 'conffgkxv', 'bernhardtjh', 'attitudes', 'adjustment', 'bool', 'niggaz', 'imma', 'loyalrrmember', 'lovesouthwestair', 'notpghtimothy', 'national', 'valentine', 'gruber', 'dontchangeathing', 'snowing', 'snowfall', 'httptcoaprzspxige', 'fhkte', 'measles', 'outbreak', 'frzz', 'challemann', 'jvstatus', 'streamline', 'commute', 'condescension', 'serenitynow', 'hournot', 'insight', 'laxgtjfk', 'octaviannightmare', 'chart', 'alleviate', 'graded', 'eqp', 'modifications', 'fusturated', 'httptcoiyuzmpuvs', 'himy', 'tuldal', 'southwestairsouthwest', 'httptcoxmrvrlgeg', 'httptcowjocfsutorileggieri', 'hangup', 'disconnectednew', 'daycare', 'httptconosvli', 'harass', 'mistakefurious', 'inability', 'temporary', 'geg', 'answerthephone', 'sju', 'staffing', 'ballsturn', 'jetbluesofly', 'httptcoxkiykqj', 'httptcosywlmtzek', 'aisles', 'evermoreroom', 'jetbluebos', 'marty', 'george', 'nobaggagefees', 'httptcotjdzamhpew', 'pgfryz', 'tied', 'proposal', 'gala', 'org', 'boundless', 'readers', 'sameday', 'republic', 'tan', 'rejecting', 'canister', 'powder', 'formula', 'divider', 'thatd', 'optin', 'verified', 'sxsw', 'fleek', 'pointsme', 'jb', 'overchging', 'bg', 'herded', 'cattleslaughter', 'rainy', 'poop', 'signing', 'trueblue', 'credentials', 'baejet', 'amirite', 'terrybrokebad', 'askamex', 'plat', 'airspace', 'destin', 'walton', 'beach', 'catfoodbeerglue', 'fleets', 'httptcothcrkurt', 'yer', 'nycgtpdx', 'nycgtpghwish', 'lbc', 'napkins', 'httptcooxyjnpjm', 'httptcobttnoxu', 'ruthslobodin', 'justdoit', 'youknowyouwantto', 'versa', 'longing', 'firstlove', 'flyfi', 'leatherseats', 'hipunis', 'httptcownlaybl', 'guyana', 'eatgregeat', 'wowthx', 'greg', 'teamnkh', 'annnndddd', 'httptcoclupdprhp', 'glowing', 'sparkled', 'nokidhungry', 'jetbluecheeps', 'foodnetwork', 'tummy', 'snack', 'sunrises', 'httptcojgduusdz', 'jetbluehatesbtv', 'trublue', 'answeringdont', 'veterans', 'mcokeep', 'vieques', 'gopuregrenada', 'discovergrenada', 'httptcombcehcszx', 'caribbejan', 'islandexpert', 'httptcozmjkalzl', 'occasion', 'jannasaurusrex', 'janna', 'weappreciateyou', 'jetbluefame', 'sosmart', 'frequentflyerappreciates', 'alsoyayforsnacks', 'transportation', 'deplorable', 'prbound', 'njb', 'uvf', 'weekday', 'httptcoiimtjxcvlg', 'natca', 'atct', 'httptcohpsieaokwh', 'lane', 'jblu', 'westchester', 'county', 'httptcoxxmjxqep', 'flightline', 'marinadomine', 'ericbradleypt', 'httptcojhbjdver', 'briansumers', 'suffered', 'fifth', 'persistence', 'httptcowezumdimyf', 'pooling', 'soooooo', 'sleepy', 'noplacelikehome', 'eventhoughitsdegreesathome', 'setup', 'pid', 'dim', 'maatkare', 'tatianaking', 'thewayoftheidhaa', 'blushing', 'container', 'totes', 'httptcomjtksfuhg', 'redirect', 'httptcovxnjmv', 'stole', 'discovered', 'stealing', 'cameras', 'syr', 'hitch', 'hike', 'passengersarepeople', 'adv', 'companies', 'madness', 'httptcoxusbjfv', 'comfortably', 'civilized', 'datingrev', 'lag', 'infants', 'aiecraft', 'httptcobbmpabort', 'ltltnow', 'fuckin', 'lbairport', 'longbeachcity', 'establish', 'facilities', 'httptcojbyvmsod', 'httptcoatdsmhf', 'navigating', 'rebooks', 'flu', 'possibility', 'gonenow', 'charlestonvery', 'pricy', 'zombie', 'welp', 'httptcokwuekukbc', 'httptcouimypzh', 'wsj', 'thy', 'httptcoxmavgw', 'httptcoelatntcir', 'sc', 'chging', 'isit', 'redemption', 'barbados', 'cuba', 'httptcoftvnwwqf', 'froward', 'httptcomwsgolgo', 'workednot', 'deny', 'httptcoenxvrkbu', 'httptcodsdebodmel', 'httptcoghabyep', 'sway', 'httptcotqctkci', 'um', 'wut', 'httptcomuwcpxtxj', 'httptcolchvjolidg', 'httptcoeulsdurbu', 'transferring', 'contributiontopool', 'arc', 'rely', 'extractions', 'abducted', 'lessening', 'parts', 'agencies', 'httptcoqrxzbgbtq', 'wmcactionnews', 'mem', 'httptcogbdrolsi', 'httptcovoeqsepqh', 'httptcopeefzwzc', 'herewhen', 'httptcoirixaifjjx', 'bucketobolts', 'httptcoimrhivyr', 'httptcotnkixxrxhb', 'ceos', 'appease', 'columbian', 'httptcopgysasw', 'weepysweetmonty', 'compartments', 'mrjustyn', 'studying', 'lingo', 'depressing', 'lololololol', 'httptcoyxswfqtgp', 'httptcompiyuojr', 'overreacting', 'httptcokshtueq', 'chips', 'tails', 'relieved', 'neighboring', 'httptcogsnqsqz', 'httptcolsybglfj', 'omgee', 'onfleek', 'jetblues', 'battles', 'waterbury', 'republican', 'httptcofwcyhgdj', 'httptcoajmbhjvaa', 'foh', 'httptcotejrntfw', 'noooooooooooooooooo', 'chats', 'httptcorkorhvrz', 'contentmarketing', 'staring', 'blank', 'httpstcogwwrvbrq', 'httptcozqutusepw', 'mag', 'kangaroos', 'rectified', 'httptcobswrpmq', 'httptcobbaonxtxd', 'deemed', 'httptcowbqiwaou', 'toledo', 'blade', 'httptcorxjxqrxz', 'httptcohovuaisg', 'httptcoiuxrgc', 'httptcoxxqscjll', 'brandssayingbae', 'freberg', 'httptcolsxjiouvr', 'httptcoproebcn', 'httptcoxilzqdwe', 'httptcollwioxvo', 'lmfaooooo', 'httptcofvyzjldton', 'planewide', 'yrold', 'nassau', 'greatgranny', 'flyingitforward', 'yasssss', 'da', 'fuccc', 'httptcooajmnucha', 'httptcowepflly', 'sm', 'httptcolifnzku', 'httptcoerzhtkqz', 'unfollowing', 'fustrated', 'preciation', 'lord', 'whyjetblue', 'httptconlzsehnee', 'httptcopadcjxlzl', 'httptcoizfofgjzui', 'httptcocrfrwpcsx', 'fedora', 'httptcoqqlzkjkzr', 'nojetblue', 'httptcougfckermrw', 'httptcorlwbjma', 'httptcohprppcvhx', 'httptcorinzyskki', 'httptcoincncavn', 'lolol', 'smyc', 'tongueincheek', 'etiquette', 'httptcogguaajvdf', 'httptcogoyxtmj', 'httptcowhoaewhws', 'fights', 'httptcoqxvwgl', 'httptcodxnrxdksjameskraw', 'stahhppp', 'httptcovhfjgneozo', 'httptcombipgszq', 'brands', 'httptcoskebqktxvx', 'httptconjgagds', 'thisjetblue', 'httptcokhzrccypa', 'httptcopeqpqmpp', 'httptcoanvbjipx', 'jetbae', 'httpstcoyzxfeau', 'welllllll', 'httptcodhhomgkix', 'httptcoghjbpgg', 'peak', 'caucasity', 'httptcocsnrpvyb', 'httptcoutdfqfwpa', 'moves', 'httptcotskorsn', 'httptcofixywxyb', 'httptcoaczwmuoon', 'httptcolvirtdtqly', 'httptcoqajtkik', 'httptcoukmedz', 'lmaoooo', 'httptcoyqehcqzt', 'hired', 'lmfaooo', 'httptcogrnmyuqe', 'thewayoftheid', 'assuage', 'indignation', 'records', 'exits', 'wens', 'okayd', 'httptcoknuvuovhub', 'agojetblue', 'httptcolycarltfhl', 'httptcoudpqfliqo', 'cultural', 'appropriation', 'httptcoambsig', 'httptcovqwkyxsw', 'community', 'managers', 'httptcoeaxlqzwvh', 'martysg', 'ballin', 'httptcojmgeyxbylol', 'httptcocpzbo', 'bostongarden', 'welcoming', 'httptcozhgqprsg', 'awww', 'manbut', 'thisor', 'httptcovwvgvngq', 'httptcokhmkotz', 'toss', 'ticketits', 'wit', 'httptcowjyasdn', 'httptcovosizhsl', 'httptcoksrfnw', 'httptcoxaspqdsqhe', 'httptcokvkdyrxa', 'brink', 'bankruptcy', 'httptcoldxnqqq', 'laxnyc', 'httptcoxxppzoj', 'laxnycarea', 'httptcocxttxvlmp', 'httptcoarvaylmfc', 'httptcohiflaxe', 'httptcoxgnyhgafz', 'sporting', 'httptcofraqdpkyga', 'hellobrittney', 'httptconfjauwvzlt', 'stahp', 'httptcobmunraoni', 'httptcotqbgamfpc', 'httptcowbjawxxd', 'httptcoqavvlaxlkl', 'bops', 'newspaper', 'httptcoyyzdpbvu', 'httptcogodfaknb', 'httptcombhvfqbtsee', 'ihop', 'httptcorkwugmanm', 'httptcogialyl', 'multimedia', 'httptcouhumaskldv', 'httptcopkiqhi', 'httptconcguzdgdaq', 'httptcooscrefw', 'httptcohezjkzsk', 'httptcotlgoihqkvs', 'httptcolqjtjvoys', 'courteroy', 'lolz', 'tweeter', 'usingthisword', 'httptcofdtnyctrb', 'httptcojmnkjbmc', 'blizzue', 'hizouse', 'httptcolvhwqdka', 'mint', 'httptcohuezhcv', 'httptcoyzhzrqmi', 'petty', 'httptcohjglwlayyy', 'hahah', 'httptcoveemacm', 'httptcomfsshuhue', 'httptcovouufrnjs', 'yasss', 'reconsidering', 'httptcoylngxqx', 'woof', 'thatlol', 'httptcoiutzvhco', 'httptcoltxjkbo', 'httptcowgyztnjcxm', 'httptcouaicfjrms', 'httptcopulpiw', 'httptcooxsabtvtb', 'bruhreal', 'httptcodqnyaktg', 'httptcoshhtvioti', 'httptcosrmqbrzd', 'httptcobbhtlzghc', 'httptcogdzadxzbya', 'httptcoaiycwvoq', 'digg', 'httptcokmanldqbh', 'httptcokvxslcqlp', 'alynewton', 'donut', 'designer', 'httptcoycodikpt', 'ducttaped', 'ohboy', 'shouldigetoutandpush', 'httptcorzsvzurlw', 'httptcoimvmpnqxai', 'chairs', 'tlc', 'universalorl', 'httptcotnyuipha', 'citystrangeand', 'alternatively', 'charter', 'pitt', 'gladly', 'httptcoqygxgmdsn', 'drawing', 'irina', 'flipside', 'eatup', 'cafe', 'buggy', 'mons', 'abassinet', 'gerne', 'methods', 'debit', 'billmelate', 'timeseverytime', 'vmsgyour', 'sudden', 'httptcokkeixifp', 'nantucket', 'glass', 'dig', 'heels', 'novel', 'jeffhofmann', 'denisejtaylor', 'laurieameacham', 'multix', 'strollers', 'ems', 'environment', 'surely', 'misspelled', 'junsep', 'joanna', 'geraghty', 'nyjets', 'gopatriots', 'westpalmbeach', 'flybetter', 'chasing', 'selfcheck', 'redsox', 'catsanddogslivingtogether', 'httptcokfuyyokufv', 'pearl', 'complex', 'pulldown', 'suboption', 'formsmaddening', 'waldorf', 'astoria', 'outfit', 'liking', 'opposite', 'robert', 'shocker', 'mosaic', 'attended', 'daniel', 'webpage', 'sittin', 'birder', 'trap', 'rats', 'sloooooow', 'jfksfo', 'pure', 'tim', 'separating', 'safetyconcerns', 'httptcoztrdwvnl', 'idk', 'httptcotrypzebc', 'emaleesugano', 'odds', 'reunited', 'delinquent', 'homeward', 'specified', 'monsoon', 'selfies', 'amybruni', 'devastated', 'bridges', 'gatestill', 'httptconcboncsi', 'measured', 'extralight', 'zakkohane', 'ricoh', 'happytohelp', 'worlds', 'maimi', 'cosmopolitan', 'blacklist', 'goodwill', 'contactless', 'emv', 'testing', 'younger', 'siblings', 'diffused', 'perks', 'inflation', 'nexttime', 'andthewinneris', 'httptcoxnruovts', 'terms', 'httptcojipggom', 'abcnetwork', 'permissions', 'whyabcwhy', 'shannonwoodward', 'nerds', 'geeks', 'dressed', 'informs', 'julesdameron', 'accessibility', 'equality', 'missingtheoscars', 'ooookay', 'reactions', 'tap', 'shiver', 'forevercold', 'sdq', 'httptcogbhgwt', 'dissapointed', 'paseengers', 'santo', 'domingo', 'surfboard', 'bqn', 'gif', 'thng', 'httptcomljacpmch', 'forecast', 'prechk', 'costumers', 'disorganization', 'getittogether', 'medium', 'tanked', 'justwrong', 'sj', 'alamo', 'tatiana', 'aha', 'smith', 'oust', 'accurately', 'finleybklyncfs', 'mgood', 'sayas', 'dissatisfiedthanks', 'preciate', 'wellmy', 'essentially', 'focus', 'psgrs', 'httptcokfkjfztgi', 'nikon', 'reliablefriendly', 'repexper', 'smell', 'undrstnd', 'wlcm', 'onbrd', 'bulb', 'cabcelled', 'apologizes', 'byebyejetblue', 'token', 'stairs', 'distances', 'itboarding', 'untz', 'untzlike', 'httptcoljlarive', 'jetbluefail', 'httptcovsbrbicx', 'httptcovpdrplxja', 'snowbound', 'scent', 'tht', 'httptcolaiggefkj', 'deli', 'customerservicenot', 'prefference', 'httptcoxsywmdvu', 'httptcohdoximnz', 'httptcoclvlhfguzw', 'criminal', 'httptcoqgtcaoju', 'httptcolkfhhyhw', 'httptcomzzfgqfhu', 'jfkeven', 'inconceivable', 'httptcoqnnzyspk', 'syracuse', 'ishouldhavedriven', 'httptcohxsdpha', 'httptcoflbgzzkd', 'chrishasmadeusblush', 'trending', 'increments', 'httptcoiidrblnoox', 'pics', 'bluecarpet', 'seabos', 'hayes', 'uschamber', 'summit', 'ought', 'perspective', 'expressed', 'communicationiskey', 'hawaiian', 'hawaiianair', 'ventilation', 'hunkydory', 'broinlaw', 'garage', 'replyingi', 'dobut', 'timethatll', 'expediatheres', 'httptcoktkhsmgy', 'luggagegate', 'yoga', 'edits', 'msbgu', 'mbas', 'justify', 'endless', 'srq', 'pto', 'mintyfresh', 'brandmance', 'fourhour', 'ctg', 'littlebirds', 'captured', 'brittany', 'newburgh', 'loweredexpectations', 'yest', 'amtoday', 'txtemail', 'inform', 'enzo', 'setorii', 'pooch', 'httptcodlhhbg', 'directing', 'httptcolenaowfyvu', 'httptcoepqqonhoh', 'bevies', 'alcohol', 'cookjaycook', 'amagrino', 'wiyh', 'jetbluerocks', 'newborns', 'hpn', 'inebriated', 'league', 'closure', 'httptcoufbdraxeo', 'quickie', 'cartagena', 'praises', 'pact', 'organizational', 'chartering', 'sugar', 'idlovetoask', 'httptcodpxyogtej', 'startled', 'description', 'expanded', 'bonnie', 'gorgeous', 'httptcodbesbnzg', 'httptcoobqirobuj', 'newburg', 'rly', 'gracious', 'belti', 'investigation', 'tux', 'umosaicmecrazy', 'httptcohapgbostu', 'cannedtweet', 'autoresponse', 'demanded', 'handles', 'waved', 'inserted', 'truebluecolors', 'circling', 'timesomeone', 'updateyourwebsite', 'lil', 'desires', 'httptcowmxfzc', 'dobetterjetblue', 'ideal', 'carta', 'wat', 'apnea', 'httptcobtvpxtzju', 'glenn', 'coles', 'buffaloniagara', 'direction', 'httptcoseulpvfn', 'airportwide', 'unlucky', 'nowsunshine', 'woulda', 'haning', 'mosaicmecrazy', 'nofilterneeded', 'httptconycsjruv', 'circle', 'upstate', 'miraculously', 'liftin', 'higherandhigher', 'httpstcoxgfstjtmo', 'httptcoixmtmizc', 'resources', 'brandloveaffair', 'soulandinspiration', 'httpstcoigkogywksr', 'acy', 'takr', 'httptcozvfmxnuelj', 'httptcoiegobcepp', 'erie', 'fllairport', 'kill', 'nine', 'port', 'authority', 'scheme', 'badairline', 'pitts', 'mde', 'tf', 'tfgreenairport', 'wore', 'protection', 'sylvie', 'yourock', 'mxo', 'henrikwagner', 'followup', 'eternity', 'ammisery', 'animal', 'hella', 'bumper', 'americanairbr', 'surprises', 'misbehavior', 'dubai', 'controllers', 'equalizer', 'dgruber', 'shucks', 'engagements', 'tarmat', 'minimum', 'pandoras', 'backhome', 'relationships', 'httptcovgqoihtrkh', 'maddieflood', 'hesitant', 'sized', 'stuckonaplane', 'babyfood', 'rum', 'coke', 'cushy', 'helplindsey', 'motherinlaw', 'nhlonnbcsports', 'jfkyou', 'rethink', 'pbijfk', 'hatch', 'flite', 'interupt', 'staduim', 'release', 'ijustwanttobeinboston', 'thanksdc', 'suckwe', 'lburley', 'praise', 'chs', 'callbackthe', 'concerning', 'hasshe', 'loststolen', 'ada', 'sex', 'goodcustomerservice', 'sxmgtjfk', 'morrow', 'compd', 'cory', 'greatcustomerservice', 'incase', 'charles', 'cave', 'glasses', 'heinekenusacorp', 'distributor', 'livethelegend', 'mercy', 'playlist', 'seeks', 'journal', 'httptcobzqzqxdc', 'httptcoltwhmoldr', 'rainsleet', 'instant', 'lipstick', 'pig', 'belttoolong', 'restless', 'maarten', 'exciting', 'httptcoxfmpnaaje', 'tempting', 'sodone', 'treacherous', 'rockers', 'knock', 'johnnosta', 'sxm', 'httptcoerntotr', 'httptconrpwmgyve', 'allowances', 'lizaapproved', 'predicted', 'httptcoufyxxkisa', 'pgashow', 'mosaiccant', 'weathers', 'phew', 'pant', 'wheeze', 'httptcozpzpoeon', 'warmer', 'pricewise', 'cough', 'compact', 'folding', 'httptconivwftzw', 'redo', 'thismosaicnothappy', 'httptcokubotmrr', 'regularly', 'asleep', 'bestdressed', 'giggled', 'goodgenes', 'ilookyoung', 'itslaloca', 'jumping', 'downthanks', 'airlinehate', 'condolences', 'viraltech', 'institutional', 'predictive', 'analytics', 'alicia', 'exceptionalservice', 'lauderdalebogot', 'colombian', 'disapptment', 'bdng', 'tad', 'earthquakehaiti', 'rebuilding', 'chatted', 'lowdown', 'paulgordonbrown', 'httptcoltpykfvrq', 'gether', 'confs', 'session', 'beloved', 'paulgordonbrowni', 'httptcovvcfyhkvb', 'itenary', 'heckbooked', 'foreverrrrrr', 'marathon', 'analyst', 'nasdaq', 'httptcodwesexidr', 'nixchangefees', 'portauprince', 'haiti', 'orphan', 'httptcofnqxybtk', 'villages', 'httptcoltfqudxc', 'booksampmedicine', 'orphanage', 'httptcopgoeuxnspi', 'dakota', 'httptcowowxhpuqv', 'monthold', 'foldup', 'crib', 'campaign', 'httptcoyhkzkyzrr', 'httptcowmotkqhxp', 'usatodaytravel', 'dualcam', 'redreserve', 'vetr', 'inc', 'httptcoqwebeemvg', 'foolish', 'waiver', 'benjaminokeefe', 'coatunfortunately', 'werenotincalianymore', 'beverages', 'nyers', 'happytweet', 'tuftsenergyconf', 'barriers', 'iata', 'httptcoffczygjs', 'httpstcodbcvepnqc', 'bluemanity', 'corevalues', 'passion', 'aerojobmarket', 'lifeisgood', 'nigga', 'guacamole', 'weatherhere', 'westpalmbeachbound', 'mideast', 'httptcoymmhkcbr', 'zackscom', 'httptcogouzrdtzf', 'incidentals', 'anyways', 'nomoreaggravation', 'bossju', 'flywhonotblue', 'wailing', 'nov', 'kin', 'ping', 'ferrissalameh', 'likelihood', 'httptcoebxckfjd', 'delayforwhat', 'sittingonthetarmac', 'decide', 'httptcolxwbsfxfj', 'nix', 'dlewis', 'inflght', 'thre', 'abcletjetbluestreamfeed', 'cavs', 'nooooo', 'bein', 'loosing', 'disturb', 'dl', 'httptconhizlzmk', 'pura', 'vida', 'sharktank', 'toplay', 'vainglorygame', 'httptcocmjriwopo', 'makingthingseasy', 'feelbetter', 'lgb', 'cal', 'httptcovpkdsi', 'effect', 'markiepost', 'markie', 'mayweather', 'pacquiao', 'terra', 'mommy', 'daddy', 'insider', 'trading', 'hill', 'httptcovvzksmfkvw', 'airportsst', 'fitbit', 'flexes', 'hgeronemus', 'completing', 'installation', 'httptcosgckbopata', 'sooooooo', 'ridiculously', 'checkinbag', 'blueblackish', 'httptcomthmwaobu', 'pbiboston', 'nasdaqjblu', 'streetwise', 'httptcoctpdkqulm', 'underway', 'query', 'scrum', 'learnt', 'mont', 'sondo', 'certificatess', 'exceptionally', 'uncourteous', 'reality', 'dare', 'burger', 'butnot', 'grumpy', 'diverting', 'inflatable', 'savethoseseats', 'httptcotpzhjxhbt', 'grasshopper', 'twitterz', 'kung', 'httptcomwitrikf', 'discontinue', 'negroni', 'bitcoin', 'dec', 'lucia', 'natural', 'beefjerky', 'muscles', 'frown', 'flyin', 'jdhadp', 'joe', 'howhardcanthatreallybe', 'nogearnotraining', 'warmest', 'negativedegrees', 'snowwillnevermelt', 'hanneslohmann', 'httptcojwlglrw', 'pandora', 'steward', 'sunshine', 'escape', 'bliss', 'indenial', 'whatfrozenpipes', 'httptcottzejvhy', 'dontflythem', 'alarm', 'older', 'misread', 'httpstcoswwhyhen', 'lovesongfriday', 'cheesy', 'sweresomuchfun', 'colder', 'httptcoptsbkacdj', 'lay', 'bedofroses', 'colored', 'httpstcoqyezhjgsb', 'guns', 'iwoulddoanythingforlove', 'httpstcoyxdqjnnl', 'smart', 'partnered', 'digital', 'httptcoliwecasoe', 'miamore', 'iadore', 'httpstcofwzclbvug', 'idontwannalivewithoutyourlove', 'httpstcoikcgaxxfa', 'itwasminttobe', 'bestinclasssocial', 'httptcoucfbbqr', 'stevie', 'jetgreen', 'jetred', 'flightlanding', 'sunscreen', 'feelsgood', 'httptcopvghjxkp', 'stacycrossb', 'saharasams', 'flawless', 'blueheros', 'disabledtraveler', 'httptcourungy', 'finder', 'wikipearl', 'natprodexpo', 'expowest', 'evenmorespace', 'evenmoreview', 'httptcodxuxdbfd', 'firsttimeflyingwamo', 'internship', 'tke', 'div', 'sis', 'mega', 'evenings', 'wager', 'isitsummeryet', 'wylie', 'httptcojgorvdis', 'dre', 'snoop', 'classes', 'thanksjetblue', 'princess', 'httptcodergpdwsj', 'trivia', 'httptcoaucsykfuhd', 'wsjplus', 'makingloveoutofnothingatall', 'httpstcokdhrufsw', 'taxiing', 'patienceiswearingthin', 'americanairs', 'admirals', 'slide', 'itscostingmeincome', 'mintalicious', 'truebluelove', 'shelleyandmarcrock', 'httptcoxdjzkcgb', 'gtgtgt', 'lostinlove', 'httpstcobzwgpadve', 'wemosaictogether', 'httptcolazaoay', 'whod', 'bearable', 'notwheelsup', 'bosmco', 'sleekmoney', 'httptcozdkxnktou', 'steamed', 'conjunction', 'complainer', 'wyou', 'shanese', 'bryantmelton', 'grandmother', 'bucket', 'flyitforward', 'tb', 'httptcoyxnpnoav', 'httptcoofpfvqpoy', 'holdon', 'everythingsgonnabealright', 'httpstcokngeep', 'serviced', 'crewmember', 'ccndjp', 'cling', 'hrdelay', 'countless', 'strips', 'workhard', 'playsoon', 'thevdt', 'httptcovdtlomtwu', 'denverboston', 'bostondenver', 'crumbs', 'seven', 'hip', 'sirius', 'xm', 'sounded', 'sttimeflyer', 'httptcoosifhprt', 'contain', 'herself', 'ricardo', 'olavarria', 'nny', 'kitties', 'countingdown', 'erring', 'broadway', 'httptcodsceeenj', 'upwherewebelong', 'httpstcoktawbiuuro', 'httptcoasyqetdjp', 'suuuuper', 'ardent', 'poughkeepsie', 'httptcozsdgzydnde', 'wkrb', 'httptcoxvbjczlmda', 'jfksea', 'core', 'config', 'island', 'samchampion', 'httptconsuiipvw', 'marketwatch', 'httptcoyiwguktr', 'schedules', 'havana', 'pictures', 'muchneeded', 'slowest', 'cflanagian', 'httptcoebxwgt', 'scenario', 'camp', 'toolittletoolate', 'httptconzhqoazo', 'predictable', 'icyflight', 'poorcommunication', 'waitingsince', 'carsl', 'comedic', 'othr', 'incomprehensible', 'fromthefrontseat', 'jetblueblues', 'anku', 'yaffasolin', 'pereira', 'cartago', 'streets', 'misunderstanding', 'kgonzales', 'scandal', 'tower', 'inoperable', 'sox', 'livery', 'capture', 'httptcoljzxznkg', 'angel', 'loyalmosaicmember', 'gettingoffplane', 'buffaloairport', 'maro', 'currentlysittingontarmac', 'mosiacfail', 'helene', 'reevaluate', 'httptcopeucbmij', 'ninadavuluri', 'lopezlaymari', 'patronizing', 'gangway', 'massages', 'hurts', 'lovejetblue', 'bottles', 'static', 'novemberdecember', 'markets', 'bureau', 'httptcoapyzlsquu', 'airbusintheus', 'arubaairport', 'warmweather', 'httpstcokaejgchd', 'tvsmusic', 'syscon', 'httptcozofwldqxbe', 'hopes', 'firefighters', 'al', 'bugging', 'expand', 'doubled', 'inquiring', 'mcogtjfk', 'disclose', 'httptcopucbvlve', 'orlandoridiculous', 'notbabysitters', 'whrsthecoach', 'coffeeat', 'httptcourcyfcplx', 'semantics', 'dictionary', 'heated', 'itscold', 'rack', 'latte', 'disappoints', 'rtjetblue', 'peaches', 'qualify', 'bdldca', 'httptcowvgppymz', 'pages', 'lick', 'ahoy', 'allyoucanjetpass', 'mosiac', 'itthis', 'ruins', 'okie', 'doke', 'acces', 'hub', 'vino', 'receives', 'coverage', 'analysts', 'legacy', 'httptcodoruxbqla', 'oveur', 'murdock', 'julian', 'substitute', 'disneys', 'magical', 'ami', 'httptcofmipwdhi', 'rockys', 'milehighselfieclub', 'httptcoachoxkpjp', 'reassigned', 'physical', 'telephones', 'nhlbruins', 'repping', 'bruins', 'roll', 'hof', 'jetbluebruins', 'httptcojknwugj', 'marked', 'reposted', 'jetscrew', 'awfulcustomerservice', 'gifting', 'wendi', 'noting', 'dealings', 'stubborn', 'demanding', 'unwilling', 'choices', 'laish', 'comparing', 'dunkin', 'donuts', 'hazard', 'thingsyoucantmakeup', 'switchsbux', 'remembers', 'excusegeez', 'coffeeneeded', 'hourhope', 'relying', 'needcoffee', 'ineedcoffee', 'princesses', 'glassslipperchallenge', 'wdw', 'onlyblue', 'jetblueforever', 'descent', 'truebluememberlife', 'rifle', 'hunting', 'pistol', 'themed', 'tsanightmare', 'transferable', 'acquired', 'kravitz', 'xs', 'zkatcher', 'bored', 'convo', 'fixthis', 'bretharold', 'isthisreal', 'nevertoldus', 'lile', 'fancy', 'saxonandparole', 'lobstermac', 'bloodymary', 'jetsetter', 'httptcozfwjgtxzt', 'telleveryone', 'justifythissupport', 'lostrevenue', 'angryandsober', 'bachelorpartymishap', 'sham', 'httptcovyuanhiqr', 'diversions', 'nottrue', 'httptcooqtohjl', 'nosupport', 'httptcockzbvfh', 'infuriated', 'ionlyflyblue', 'thelodge', 'yeniettelswood', 'andrewbiga', 'codycleverly', 'heidimacey', 'motherpollock', 'fi', 'staticy', 'ithelpsabit', 'disneyworld', 'rundisney', 'httptcostqyv', 'brazil', 'bestplanesever', 'airlineadviser', 'sayget', 'lessme', 'seeampeter', 'dissatisfied', 'rqstd', 'bcz', 'httpstcodfmvmibhx', 'pillow', 'skyw', 'httptcophumlxur', 'tailfinthursday', 'httptconceself', 'httptcohcemwcqj', 'reveals', 'travelpulse', 'httptcofttfyfmvco', 'httptcoueggknza', 'httptcoenaxbues', 'httptcoklxivnbcyh', 'miboston', 'icelandair', 'ozs', 'sexy', 'tattoo', 'httptcooxwktsgi', 'stbernard', 'comm', 'gnight', 'jua', 'jorge', 'cri', 'closepwcs', 'samantha', 'bossan', 'evasive', 'kylecomer', 'marthas', 'african', 'festival', 'attendees', 'mv', 'significant', 'gripeo', 'httptcofcopxfvj', 'tsparrow', 'birds', 'fed', 'swift', 'programming', 'teamtreehouse', 'httptcogqpgzgw', 'httptcofefhpmfple', 'youth', 'refresher', 'courses', 'fridgethat', 'dorm', 'lovedoll', 'pattonoswalts', 'themhence', 'huxleyesque', 'reliability', 'allergies', 'bottle', 'benadryl', 'epipens', 'httptcoesuuhiajm', 'sand', 'balls', 'warriors', 'sofly', 'firststari', 'seetonight', 'httptcopyjaoaynx', 'waters', 'annnnnd', 'hall', 'crewsignage', 'headphone', 'memgrizz', 'spurs', 'okcthunder', 'triedconsiderable', 'confusionno', 'announcementno', 'dcabos', 'pointer', 'nba', 'skytrax', 'corpgreed', 'nevertakeno', 'httptcombvjflpbm', 'wallstreet', 'scope', 'httptcoofwabws', 'teaampnot', 'nvr', 'bwiboston', 'sch', 'dads', 'wrestle', 'target', 'stafford', 'httptcovqmdmzafuj', 'italy', 'ath', 'airlinequality', 'httptcotujxjazn', 'cty', 'httptcojixksjkk', 'jetbluesucks', 'gears', 'grinding', 'highest', 'httptcoxzyphkfgr', 'patriarc', 'httptcobduauzfhw', 'affects', 'entrusted', 'portsmouth', 'postpone', 'prfriendly', 'cometoaustin', 'marie', 'harf', 'iraiq', 'marieharf', 'earthquake', 'relief', 'httptcovuxswjkiy', 'registers', 'httptcohxsnvfbbh', 'xd', 'laptoplarge', 'swap', 'fool', 'feelings', 'happythem', 'pilyoc', 'thefutureisweird', 'incidentally', 'sheila', 'grandpas', 'ashes', 'naples', 'lived', 'serving', 'usnavy', 'swooped', 'helpfaith', 'restored', 'stockhouse', 'httptcoobfjbpca', 'lgafllpoor', 'applicable', 'foodallergy', 'insensitive', 'foodallergies', 'lifethreatening', 'unsolicited', 'uneducated', 'opinions', 'reckless', 'dangerous', 'httptcolzfgutxiyn', 'daytonabeach', 'httptcooyllrzqum', 'httptcotfpcgrej', 'extraspeed', 'engaging', 'personable', 'tore', 'hid', 'badge', 'valued', 'lisapal', 'httptcofrhuxibii', 'eight', 'steered', 'sensitive', 'jbeatz', 'consult', 'httptcosjveelween', 'httptcokneqe', 'interns', 'greatest', 'truebluepoints', 'jetbluemember', 'sliced', 'bread', 'beatriz', 'susan', 'xjareds', 'ais', 'ftl', 'pizza', 'easter', 'depends', 'udub', 'cameronroe', 'httptcokbhymgkap', 'caymanislands', 'httptcolyqrbhcyu', 'seattlebound', 'controller', 'agianand', 'cinnabon', 'cinnabons', 'bonsinthesky', 'httptcojcedikyu', 'hotter', 'celebrates', 'httptcopskxzvea', 'smitten', 'slog', 'likeagirl', 'smm', 'httpstcontglwnqvm', 'lekvhg', 'lift', 'itsthelittlethings', 'compounded', 'jetbluemess', 'exists', 'httptconsjwvttjgo', 'drwinston', 'philpete', 'suddenly', 'argh', 'okayim', 'nogood', 'dumps', 'httptcodzgjfiik', 'justdippin', 'thetakeover', 'produced', 'yponthebeat', 'httpstcoikqbdzatn', 'httptcowhufmiytd', 'httptcofbtemfwrsp', 'blumanity', 'paint', 'httptcolfgrnifut', 'httptcoemextq', 'bloombergnews', 'httptcoreddvc', 'lasfllsju', 'career', 'italian', 'robbed', 'ocean', 'flightledrebooked', 'daydelayed', 'httptcoskwxqaqb', 'httptcouhxricrx', 'awe', 'impressedand', 'brushing', 'valentinesday', 'loveisintheair', 'httptcodocmvotwti', 'geraldine', 'centerworst', 'jetbluejfk', 'httptcobtbawqtln', 'kleinerin', 'pastor', 'homeschool', 'spirited', 'prefundiahttptcojrbzlhrwy', 'controllableirregularity', 'fluid', 'shoutout', 'bosgtjfk', 'jfkgtroc', 'applepay', 'hacked', 'alaska', 'highway', 'httptcotynchoelac', 'kate', 'spade', 'spiced', 'leopoldsic', 'phillip', 'heller', 'ifc', 'delicious', 'gum', 'httptconhmcrjchb', 'chillycvz', 'thankgoodness', 'mypompanobeach', 'httpstcosoiqrnaj', 'httptcoibvvtzlse', 'fitz', 'bwibos', 'invitation', 'participate', 'erewards', 'humiliated', 'uncompromising', 'blindsided', 'pp', 'flatiron', 'sil', 'declined', 'accused', 'activity', 'warehouse', 'ohno', 'bundleup', 'leastthebeverageswillbecold', 'analystdoc', 'fashioned', 'accessing', 'becomes', 'httptcoczornyhn', 'structures', 'hated', 'targeting', 'vulnerable', 'thieves', 'citi', 'safetyfirst', 'httptcocicfrlqbe', 'towed', 'corrupt', 'supertzar', 'httptcoqranzimhtr', 'whilst', 'delivering', 'tinmanironman', 'meggersrocks', 'penalized', 'lightly', 'unloading', 'writes', 'backpack', 'satellite', 'crewmembers', 'httptcoragncwbk', 'httptcoqeadamw', 'professorpaul', 'profits', 'cramming', 'planeno', 'tsapre', 'delayedl', 'peanuttreenut', 'ellahenderson', 'freeconcert', 'httptcouyduegx', 'httptcovjfvksgcq', 'hp', 'printers', 'mfps', 'vincenzolandino', 'cbarrows', 'cantlike', 'httptcoswzmfxnu', 'httptcoeigajyzcw', 'enraging', 'wellpriced', 'oahu', 'anybody', 'httptcossbaujtouw', 'style', 'rings', 'mailbox', 'forwarding', 'nightlife', 'wires', 'httptcoswbgrcc', 'oui', 'awesomeee', 'ment', 'quoting', 'effective', 'keepitup', 'httptcobkmfeyqol', 'cinziannap', 'bluetiful', 'lifeneedsfrosting', 'generated', 'hint', 'painted', 'httptcovtfmknad', 'constitution', 'declaration', 'independence', 'navy', 'tailfin', 'httptcoqxvmvug', 'httptcokkayxaps', 'httptcomcsidzpnz', 'geekandahalf', 'slash', 'engagement', 'cooler', 'pdw', 'ilovejetblue', 'connecticut', 'stpatricksfoundation', 'rotary', 'httptcoznsujpbv', 'httptcochnmjymgh', 'pamgrout', 'backtodelta', 'kylejudah', 'tighter', 'colonist', 'httptconzdxrvszwv', 'meaning', 'mcgraw', 'embody', 'thanksdave', 'httptcoinnpkkyby', 'learning', 'famous', 'asset', 'phdmama', 'sxu', 'inspiring', 'vegecomgirl', 'jayvig', 'jvmchat', 'roxydigital', 'realtime', 'rockingthetweets', 'alittle', 'weyburn', 'httptcortqyjcvtq', 'okayyyy', 'irons', 'nzherald', 'httptcoqamiwfsw', 'flightwouldve', 'liked', 'ella', 'simultaneously', 'wishmyflightwaslonger', 'didflyfi', 'foodso', 'httptcofrrfxccwz', 'httptconklwssvrq', 'knowledgeprovide', 'jbi', 'squished', 'peggy', 'lft', 'hemophilia', 'rudeservice', 'httptcowmtmspry', 'bleed', 'leeds', 'selectionchange', 'nycgtbos', 'httptcoduhbjjhx', 'weighs', 'chronicleherald', 'registration', 'httptcovkjsjrm', 'oversleeping', 'uncontrollable', 'irregularity', 'stocking', 'vt', 'httptcolneghdgn', 'nerves', 'greenfield', 'reporter', 'httptcolmopxkxch', 'deedee', 'badwebsite', 'ripping', 'tixs', 'deboards', 'crummyservice', 'whydidntiflysouthwest', 'goodluckamericanair', 'cathy', 'pho', 'impossibly', 'lesscustomer', 'travelpurchased', 'cheapoairchat', 'xtra', 'donotflyusair', 'germany', 'iowa', 'lifes', 'srv', 'carolinas', 'alsonodrinkcartcomingaround', 'ashleykatherton', 'dmoukdarath', 'leakingwhats', 'httptcochgyyrvka', 'httptcocwhyfoow', 'diamond', 'challenging', 'friendlyteam', 'httptcojjtxyxg', 'pump', 'disciplined', 'divided', 'sympathy', 'breast', 'pumps', 'referred', 'phlbos', 'impressions', 'reverse', 'presentation', 'pandu', 'dividend', 'chairman', 'youi', 'spain', 'israel', 'whining', 'openskies', 'overcharged', 'minsthank', 'beamske', 'wrecked', 'yorkshire', 'lengthy', 'retweeted', 'mystery', 'spelling', 'iv', 'cxd', 'availableyour', 'ux', 'impaired', 'jetblueanyone', 'weathercall', 'outofbusiness', 'ruiningmy', 'cap', 'revision', 'casual', 'httptcojieycatek', 'earlyconnecting', 'thete', 'employ', 'grandparents', 'qd', 'sarita', 'statusdelays', 'httptcovuxfrunu', 'flaw', 'insanity', 'semester', 'chkd', 'httptcombltalrbs', 'statusawaiting', 'asgmnt', 'listsomeone', 'wouldt', 'yellow', 'herba', 'citizen', 'flexibility', 'flexible', 'forgets', 'ricky', 'utterly', 'courtsey', 'illness', 'forfeits', 'swallowed', 'picks', 'solves', 'dmscusairwayscom', 'helpcomplaint', 'applies', 'forfeit', 'inactivity', 'csm', 'daryl', 'httptcouldhwfkfo', 'louder', 'army', 'sine', 'initiated', 'glitchy', 'grace', 'rwg', 'powers', 'charac', 'shortcomings', 'wiil', 'agency', 'wrongfully', 'weary', 'frustrations', 'socialtantrum', 'tonightnot', 'bougth', 'mc', 'caren', 'mccaren', 'cltgtsfo', 'basket', 'transf', 'supv', 'fing', 'skyscanner', 'bosclt', 'narrow', 'httptcowsgyckciio', 'usaw', 'responsivethoughts', 'vm', 'joyadventuremom', 'breastfeeding', 'mommas', 'dividendrewards', 'fulfilled', 'reqs', 'mediocre', 'combo', 'switchingboth', 'dividendmiles', 'cardholder', 'fligths', 'steering', 'disconnecting', 'schooler', 'flyknoxville', 'established', 'noclothesnoinfo', 'failingyourcustomer', 'philacarservice', 'delaymissed', 'connectionand', 'usairwaysfailscustomers', 'guinea', 'pigs', 'chairmans', 'missedupgrades', 'customerrelationsaacom', 'hopkins', 'intel', 'mitchsunderland', 'mitchell', 'dissemination', 'argue', 'convey', 'emailmailtocustomerrelationsusairwayscom', 'unmonitored', 'argued', 'exec', 'itfits', 'httptcoaurnpwd', 'toes', 'candy', 'exe', 'vincesviews', 'gregm', 'scenes', 'noaccountability', 'rachel', 'httptcohgveqhghy', 'grandcayman', 'httptcogxqbtckbr', 'againlate', 'tailwinds', 'greeted', 'welcomes', 'drinksnack', 'detailed', 'httpstcozaxbh', 'httptcolftqdsy', 'moveup', 'terminology', 'brings', 'verbiage', 'priv', 'httptcowbhbljjks', 'queries', 'airway', 'hhagerty', 'cbsnews', 'shined', 'inout', 'thur', 'tlh', 'lostandforgotten', 'ctl', 'httptcoxdlbibclp', 'nailed', 'exchangecredit', 'shadier', 'nines', 'shutting', 'flydelta', 'flyjetblue', 'theyareallbetter', 'exhaustion', 'runnin', 'killin', 'shock', 'derrick', 'bussey', 'reiterate', 'misunderstood', 'unreasonable', 'women', 'offended', 'notourfaultyoudontuseyourgatesright', 'sided', 'owes', 'tammy', 'winstonsalem', 'logistically', 'desition', 'nade', 'weatherbackup', 'goodgriefpeople', 'parizad', 'voucherconfirmation', 'manifests', 'wedontcarebecauseyoupaidalready', 'backs', 'cltdouglas', 'takeresponsibility', 'diane', 'eyw', 'dulleswe', 'onmultiple', 'kim', 'enters', 'deteriorating', 'assurances', 'marvinatorsb', 'thnk', 'responseall', 'wother', 'shorts', 'german', 'deplanes', 'jealous', 'auf', 'wiedersehen', 'flywere', 'nonprofitcant', 'planets', 'applaud', 'mel', 'sticker', 'endlessly', 'gatwick', 'periods', 'dividendsmember', 'httptconuhplnxriq', 'publicity', 'cargo', 'httptcohqhdadfvk', 'resorting', 'afterward', 'avduffy', 'ivebeen', 'nbr', 'waa', 'fathers', 'gnv', 'depot', 'wd', 'squeaks', 'restrooms', 'inconvenienced', 'faced', 'inputted', 'sittingontheplane', 'readded', 'asha', 'wilmington', 'involve', 'removing', 'lists', 'initiative', 'minefits', 'mnth', 'bcs', 'ticketnow', 'ownership', 'breathing', 'aye', 'oneworld', 'buys', 'bracket', 'problemive', 'callguys', 'jhughes', 'grrrrrrrr', 'twist', 'plot', 'unsecured', 'taping', 'httptcoivwfbtue', 'attach', 'lxa', 'ekvm', 'thansk', 'bosdca', 'flightedrescheduled', 'stare', 'chillpill', 'hutchinsjim', 'workout', 'await', 'height', 'prompting', 'stepitup', 'lightning', 'struggling', 'downhow', 'pleads', 'grrrr', 'proactively', 'dominick', 'guardia', 'thanku', 'chosen', 'offline', 'rodeo', 'acnewsguy', 'acarlhotmailcom', 'wk', 'delayedcancelled', 'ricdfw', 'bora', 'oprah', 'httptcotjuumdd', 'minors', 'httptcoklfywwmq', 'finnair', 'phomia', 'documentation', 'itineraryconfirmation', 'fendurself', 'tonnes', 'maam', 'laughter', 'recordings', 'cincy', 'phoneonline', 'merging', 'burned', 'contagious', 'virus', 'restrictions', 'measurements', 'tia', 'americanairlnes', 'sport', 'bashing', 'unproductive', 'pumping', 'freeflight', 'relied', 'weighing', 'affecting', 'referring', 'httptconuvclmada', 'gloves', 'verification', 'quintana', 'roo', 'pamper', 'fendyourself', 'youareonyourown', 'httptcopweudlczg', 'hegshmeg', 'elaborate', 'httptcohbccot', 'wannagohome', 'jail', 'sections', 'differently', 'bailed', 'negatively', 'integrity', 'tallahassee', 'gainesville', 'reflection', 'extinct', 'ringling', 'barnum', 'bailey', 'peeled', 'clown', 'trivialize', 'pst', 'communist', 'russia', 'ben', 'phxfor', 'legitimately', 'mundane', 'qs', 'pdquigley', 'patrick', 'landonschott', 'likes', 'inconsiderate', 'pride', 'httptcocdxroae', 'upholding', 'alwayshappensthere', 'angrytraveler', 'todaygiving', 'httptcopsqrpsil', 'theworstairline', 'ultimately', 'flightno', 'flightrexcept', 'rescued', 'carts', 'handicap', 'todaythis', 'phlmia', 'eventprof', 'merged', 'departments', 'recover', 'managing', 'undelayed', 'offload', 'bwahahaha', 'notafanofyourmerger', 'wewanttoknow', 'sauce', 'flightits', 'clarion', 'renhotels', 'marriottrewards', 'peterpiatetsky', 'ummmm', 'airs', 'computersweredown', 'instructions', 'meright', 'hindered', 'snapped', 'fudgin', 'justwantmybed', 'billed', 'phonenot', 'denphl', 'synch', 'fudgers', 'pattonoswalt', 'longbeachairport', 'onholdwith', 'followdm', 'httptcovqnpdoi', 'poorplanning', 'flightdincompetence', 'farmy', 'abcnetworks', 'whatcustomerservice', 'flyrepublicair', 'nma', 'httptcooscoflol', 'httptcooylgeaoy', 'teen', 'southern', 'sav', 'hrsampwaiting', 'transported', 'stupidity', 'compliments', 'goingforgreatnessfail', 'httptcoxfwxsrwkha', 'waaaaaaiting', 'httptcoeqepkkpsxm', 'gregwallace', 'cents', 'drunks', 'efficencies', 'sexually', 'elmira', 'detectors', 'specialist', 'plains', 'agentthen', 'disconnects', 'csrs', 'httptcokmhzrjfe', 'charlote', 'lexington', 'istead', 'funflightattendants', 'sundayfunday', 'solate', 'bozos', 'smarter', 'mooks', 'godelta', 'brokenpromises', 'jetways', 'planepisspoor', 'pissing', 'nofood', 'nodrinks', 'nohelp', 'elm', 'todayall', 'issuesshe', 'grounds', 'failover', 'truthh', 'locating', 'phltoslc', 'unansweredquestions', 'aflame', 'rumors', 'sabre', 'printer', 'aurorabiz', 'improves', 'angryairtravel', 'usairwayscenter', 'danbury', 'servers', 'bufclt', 'emily', 'gso', 'drunkpilots', 'httptcozirazudc', 'islands', 'stuckintheloop', 'httptcoirtih', 'crashedeverywhere', 'valuables', 'outtage', 'regretting', 'hotterandlongerthanhell', 'confirmedso', 'shameonyou', 'downright', 'hostile', 'httptcobgtjfmneot', 'cbsphilly', 'dcamanual', 'ystrdy', 'tryng', 'rsrv', 'unsuitable', 'preventing', 'rett', 'cavan', 'gofundme', 'breath', 'deferring', 'behave', 'offensively', 'particulars', 'usaa', 'realistic', 'bosphl', 'httptcorxhomm', 'helpinfo', 'sampgs', 'cstsvc', 'honors', 'rcd', 'usaireays', 'httptcovulbzxtrx', 'eating', 'unload', 'interpreting', 'sarcastic', 'kphl', 'excellentcustomerservice', 'waitinginphilly', 'usdelayways', 'letsgoalready', 'phil', 'wonderingirritated', 'whyisusairalwaysdelayed', 'emotional', 'incurred', 'approximately', 'superiors', 'barclaycardus', 'emplid', 'appealing', 'influx', 'httptcotyxaztmqu', 'sum', 'wlil', 'wthat', 'utilize', 'theuso', 'nocommunication', 'nocrew', 'httptcohfjynvtvj', 'housing', 'httptcogiennyqn', 'claudoakeshott', 'milesneed', 'httptcodroctpdy', 'dividends', 'sympathize', 'reweather', 'httptcoclobqwmxr', 'httptcojehw', 'wtop', 'bradleyairport', 'fas', 'httptcoeeqwvammiy', 'lodging', 'cha', 'planeso', 'firevan', 'effortless', 'tory', 'rivets', 'churn', 'httptcowdaktmrmj', 'nondelayed', 'todayno', 'americanairother', 'fear', 'takingthistothetop', 'overhaul', 'baggageridiculous', 'httptcobrcsjbxgs', 'stuffing', 'sweat', 'mrrenevendez', 'httptcognpkqb', 'scoop', 'accomplish', 'aadvantage', 'corybronze', 'thehaileytate', 'aboout', 'josephtreis', 'mhtt', 'hrsminonhold', 'weekampinbound', 'lastnight', 'careless', 'httptcojnvkqgv', 'overloads', 'brush', 'sorude', 'delayshandling', 'bze', 'httptcoawgjkjiiac', 'httptcovskxyamnom', 'httptcolpvfhkyf', 'fm', 'sby', 'nose', 'flightglobal', 'httptcoyfnhmwyff', 'reinforcements', 'conditioning', 'phoneeeee', 'malcome', 'replicate', 'dayi', 'contingency', 'assholes', 'empl', 'greatjob', 'boggling', 'melting', 'httptcojjdosfyibm', 'luggagecancelled', 'agentsno', 'tense', 'attndt', 'wrecking', 'havoc', 'smugsmirk', 'norush', 'alfamilyoffour', 'flightrfor', 'exhibited', 'newamericanairline', 'cheapslogannotmotto', 'attdt', 'decides', 'aggravating', 'httptcowxstvpzg', 'overwhelming', 'msscottwg', 'unusual', 'mellani', 'superstars', 'nburnside', 'mellie', 'vouchersany', 'icecream', 'collectively', 've', 'percentage', 'yout', 'sectionturn', 'reaccommodation', 'liza', 'idiotic', 'diet', 'cokenice', 'bizness', 'colleagues', 'inlaws', 'suggesting', 'podium', 'tiffany', 'httptcohhoxqpsuba', 'usairsucks', 'autoreflight', 'nanceebing', 'momentand', 'infrastructure', 'massivefail', 'failphone', 'flgjt', 'pops', 'dozens', 'brizzyberg', 'httptconehnsdckty', 'uhi', 'grief', 'loans', 'flowerssmfh', 'travelpoints', 'abounds', 'evv', 'sxmclt', 'missedconnection', 'forcedovernight', 'lodgingfood', 'worstflightexperienceever', 'getmehome', 'loanr', 'canld', 'resch', 'opt', 'cng', 'httptcocgfvgzb', 'lapse', 'exercise', 'miserably', 'cots', 'poorlyhandled', 'usairheads', 'httptcofmrmn', 'onhold', 'gifts', 'revers', 'vacationing', 'estplatinumeventually', 'tabitha', 'minssss', 'processes', 'anotherfail', 'hanged', 'cgqueen', 'vows', 'smoothtransition', 'secs', 'jabevan', 'httptcoguywqh', 'flightamp', 'jtrexsocial', 'midght', 'fkn', 'unbelieavle', 'unaccpetable', 'failback', 'actualy', 'situationsyour', 'hostel', 'fakesnow', 'airmiles', 'xna', 'fwd', 'stillbagless', 'departuredealing', 'des', 'moines', 'commitments', 'excusable', 'lynchburg', 'httptcodkzlupqi', 'noexcusesaccepted', 'kieranmahan', 'usuck', 'httptcopdrllre', 'pleading', 'crackers', 'grt', 'uppp', 'imtired', 'abandoned', 'flierssomeone', 'saveface', 'showup', 'professors', 'classwrite', 'midterm', 'whichever', 'hooray', 'ebhset', 'caterobbie', 'pleasehurryup', 'answerphone', 'reschedulemyflight', 'fiousairways', 'tools', 'prayerdisappointed', 'mishaps', 'lotttttttt', 'chmom', 'nmagoodlife', 'synergy', 'robprice', 'httptcopxfhqkps', 'idontwanttocallback', 'becuase', 'disappearing', 'tovery', 'followers', 'allready', 'fulleven', 'voucherno', 'traveloneworld', 'amend', 'ow', 'emerald', 'dumped', 'needlessly', 'wronganswer', 'reaganairport', 'unnoticed', 'yroldtwins', 'chl', 'faulty', 'worstairlineinamerica', 'mod', 'hosp', 'trys', 'sys', 'cuts', 'hlp', 'kitchen', 'mewhat', 'hasty', 'unwise', 'pushback', 'plows', 'pullin', 'sh', 'obj', 'httptcoavrffhmcv', 'trbl', 'terriblecommunication', 'httptcoqgmfcbyt', 'essence', 'reschedules', 'cherry', 'topflight', 'truthful', 'ontarmac', 'donaldarobertsgmailcom', 'phlmco', 'srvc', 'workforces', 'eyyyy', 'drift', 'httptcoisfmizat', 'gmas', 'af', 'clog', 'alreadycrowded', 'vegetarianproblems', 'ontario', 'informationstill', 'tripnever', 'depending', 'determination', 'cabinfever', 'hve', 'flght', 'nw', 'dmqf', 'respectful', 'hourwait', 'cesspool', 'germs', 'undelay', 'rylietolbert', 'tequila', 'recorded', 'stopover', 'flustered', 'kristy', 'kristiesp', 'promotethatgirl', 'tomrw', 'key', 'flightcancelled', 'custservicehasnonumber', 'horriblecustomerservice', 'backanother', 'minhour', 'httptcoaygaoebuu', 'joined', 'cltnyc', 'notion', 'versace', 'biceps', 'toll', 'nght', 'flightedmechprobs', 'flightedsnow', 'cls', 'sche', 'genious', 'preggo', 'hormones', 'httptcoemrubuwzd', 'curvygirltravels', 'digit', 'diversion', 'familys', 'okee', 'stats', 'nick', 'comin', 'thankjesus', 'thankme', 'ladys', 'amppraying', 'hubbys', 'httptcofupfuayir', 'callers', 'sweetingr', 'eaten', 'usairwayssuck', 'ute', 'dulleswashington', 'effin', 'shitting', 'respondi', 'iusair', 'multi', 'differ', 'weatherflight', 'attendantcan', 'thisgreen', 'acu', 'httptcojutcdrljl', 'timbennettg', 'assed', 'httptcouadoual', 'dmv', 'noshadetothedmv', 'pregame', 'kentuckymbb', 'amtrak', 'flightsrefunds', 'httptcorkvczbpdce', 'tamara', 'badcustomersrvice', 'whereismybag', 'itis', 'poorcustumerservice', 'veg', 'flightnever', 'httptcoutfdhxapu', 'eagle', 'ew', 'httptcobxhirugzv', 'undermines', 'intelligence', 'template', 'flightget', 'httptcocmroiypc', 'enormous', 'httptcoffanixjhwh', 'cltbna', 'inaccessibility', 'marccopely', 'discourteous', 'frequentflyers', 'chuckhole', 'issuesmy', 'delayedconnection', 'menow', 'shivadelrahim', 'aal', 'httptcosdyttzd', 'retweets', 'dedicated', 'nuw', 'httptcottlwzgiyag', 'feeyou', 'aligned', 'mobay', 'sapphire', 'profsolutions', 'represent', 'urgentlyget', 'seanvrose', 'sean', 'callplan', 'largesize', 'owen', 'usairwaysfflyer', 'fdk', 'xzmscw', 'quarter', 'weatherbut', 'basketball', 'wheresmyrefund', 'jerks', 'leak', 'getmeoffthisplane', 'ineedabeer', 'franchise', 'mbj', 'callnow', 'hourswhat', 'stating', 'timehave', 'fltkeeping', 'delaygreatcustomerservice', 'selves', 'reativation', 'backed', 'hospice', 'soc', 'dontflyusairways', 'shitshow', 'destinationrude', 'weights', 'jobfail', 'guesstimate', 'incapable', 'airbusseatfproblems', 'httptcozkoeclgiu', 'prepare', 'scareways', 'neverfails', 'aumilo', 'fracat', 'zigzagging', 'movements', 'havin', 'shuttles', 'authorize', 'gtk', 'billing', 'wasteoftime', 'alreadygot', 'dadeland', 'misery', 'lawsuit', 'lawyerup', 'disbelief', 'stephenrodrick', 'themagicalstranger', 'zip', 'pmtold', 'cr', 'advisorynow', 'gohelp', 'timesenough', 'dumping', 'theworstairlineever', 'httptcoyqhkljabn', 'winclement', 'lostfound', 'delightful', 'professionalism', 'pulls', 'pleeeeeeeease', 'corporatepaid', 'jeanine', 'sailor', 'wsomeone', 'keithlaw', 'propositioned', 'attendanttrue', 'creditcardsales', 'naval', 'commands', 'slogan', 'recharging', 'anyhelp', 'fresno', 'jammed', 'dontmakemegooutside', 'httptcowjiigztiwg', 'reservationexplain', 'incedentals', 'noworstairline', 'worstever', 'httptcomynzitcovn', 'daddyshome', 'notnice', 'tellyourstory', 'terrifyingly', 'jwa', 'shade', 'reachingnewlows', 'smelly', 'waitingagain', 'misjudging', 'deliberate', 'expens', 'burroughs', 'yourairlinesucks', 'triage', 'personality', 'prepurchase', 'travelfail', 'nightmarish', 'patiencerunningout', 'barclay', 'freeze', 'avp', 'tgif', 'httptcowxowzhpgfl', 'findurgrip', 'offeringat', 'advis', 'missingstollen', 'anyones', 'mobil', 'wishing', 'yousuck', 'prn', 'planebroken', 'neverontime', 'paymytab', 'cho', 'httptcokhgjofgpx', 'myrcltord', 'problematic', 'shavon', 'evn', 'dayreward', 'satmorrow', 'choclt', 'squashed', 'notmy', 'nrhodes', 'httptcoocqkjfxua', 'miamii', 'itthen', 'achieve', 'yield', 'navigate', 'congratulation', 'nationalairpor', 'nothini', 'bout', 'ghettofab', 'httptcomaqwnlniu', 'proceeded', 'tricities', 'appreciates', 'boyfriends', 'iwas', 'amsound', 'emphasize', 'vape', 'opportunities', 'saddens', 'mini', 'nofee', 'upinairclaire', 'timei', 'melinda', 'greensboro', 'jewel', 'workng', 'et', 'pushy', 'gagent', 'danny', 'dfwclt', 'sarahpompei', 'beareavement', 'bttr', 'lunchtime', 'httptcobyvdiosua', 'andrewfallis', 'stillnotonmyflight', 'mimosa', 'kinder', 'breavement', 'sync', 'reschedulereplane', 'youcandobetter', 'groan', 'marys', 'valuing', 'curt', 'eternal', 'mergerdisaster', 'comms', 'crowded', 'dcapit', 'httptcojaskyplwt', 'weds', 'api', 'flightedflight', 'yvonne', 'happyfriday', 'tier', 'burning', 'httptcoqjlzrywfj', 'complainers', 'inperson', 'robyn', 'manch', 'sprawled', 'grossedout', 'nicedismissive', 'recycle', 'bagtag', 'thks', 'httptcopkyzhnnrh', 'scotch', 'crosswords', 'oldseatnocushion', 'worstflight', 'nohelponboard', 'coathanging', 'obama', 'frozentoilet', 'medicalissue', 'mechanicalissue', 'dispatchissue', 'gassing', 'finalstretch', 'execplat', 'mileagerun', 'httptcoddqqgqni', 'dcazero', 'faithful', 'willsunday', 'offloading', 'jdbwaffles', 'dishonest', 'exicted', 'psychological', 'tricks', 'colors', 'embarrassment', 'worldwide', 'usairwayssucks', 'guyssee', 'circles', 'dcagthpn', 'prof', 'takerswe', 'minnow', 'mvmt', 'occupied', 'ripoffquick', 'unemployment', 'consumer', 'affairs', 'ffstatusdontmatter', 'thenewaa', 'grandbabies', 'births', 'geeeeezzzzz', 'phltolas', 'cinci', 'thinkof', 'baggagelost', 'zfv', 'askpaypal', 'httptcokigfkvxxdq', 'minutesand', 'clearance', 'paypals', 'tedious', 'overfilled', 'lavoratories', 'phxgtord', 'ab', 'httptcoaxryeiwzh', 'vueloes', 'vueloses', 'madnyc', 'webs', 'anarchy', 'knowhockey', 'sticks', 'pleeeeease', 'pits', 'babys', 'httptconvgenpib', 'httptcokcqebeejs', 'stillbut', 'ihatemergers', 'monterey', 'fog', 'veggies', 'olives', 'velcro', 'footrest', 'shelf', 'httptcozlbvexmcj', 'realizing', 'mask', 'polite', 'habitually', 'fuk', 'salad', 'fuking', 'uncertainty', 'undue', 'reqing', 'wewantcomps', 'strandedattheairport', 'meds', 'sponsorship', 'httptcoqxedzvhh', 'valleys', 'garywerk', 'sandwiches', 'yuma', 'montereyregionalairport', 'alanbledsoe', 'alan', 'lve', 'wopen', 'httptcoetfjqiwuvt', 'onlinerep', 'inferior', 'mergers', 'irony', 'barking', 'cocktail', 'chathes', 'everleft', 'mastercard', 'scattered', 'backwards', 'destroying', 'gastoncounty', 'lively', 'nostalgic', 'benes', 'problemjust', 'cak', 'scheming', 'lmaooo', 'httptcomfmnkmvotrrt', 'ho', 'httptconbpcjcpew', 'dreading', 'httptcowbmhrlbvl', 'albertbreer', 'interchangeably', 'player', 'usage', 'httptconvkirgkp', 'lilly', 'badcustomerexperience', 'candice', 'dothatd', 'onion', 'tbt', 'tiredampfrustrated', 'cakendeath', 'ethan', 'revive', 'laundry', 'tabs', 'pipes', 'skys', 'imagined', 'stubbornly', 'phf', 'flyus', 'mphx', 'accts', 'flighthis', 'holz', 'labeled', 'occupy', 'musical', 'correlate', 'hirasmusbidragi', 'dublinairport', 'loveloughneagh', 'httptcofrdcayda', 'rswwebsite', 'httptcoslbdrxfn', 'ideasshe', 'todayat', 'petition', 'namemarried', 'docs', 'tys', 'gtclt', 'gth', 'usaiways', 'coded', 'trumping', 'booster', 'problemhad', 'brochure', 'touting', 'mergedbaggage', 'cincyjust', 'landedyou', 'cteam', 'notevenjv', 'recvd', 'sucksi', 'tckt', 'phxphl', 'pointy', 'anyonemin', 'flightrcould', 'annettenaif', 'roberto', 'cheapoair', 'smoothoperation', 'misplace', 'httptconpsuejdc', 'freaky', 'dcadsm', 'httptcommmqffa', 'ckin', 'allegianttravel', 'crewand', 'evenlate', 'thereisafirstforeverything', 'attendanteliz', 'crosswinds', 'eliz', 'yell', 'amateur', 'barclays', 'myrtle', 'transactions', 'wallstslumlord', 'pkg', 'notfriendly', 'devs', 'wdeicingthree', 'sill', 'usexpresspsa', 'reopened', 'secondary', 'screenings', 'tomorrowhelp', 'tsaprecheck', 'disconnection', 'prompts', 'desired', 'tarmacthanks', 'marciaveronicaa', 'uncles', 'considerate', 'marsha', 'thankyouforeverything', 'awol', 'lite', 'httptcomtsplmv', 'pity', 'misguided', 'preparedhonestly', 'nothings', 'creating', 'iti', 'vrm', 'ignorant', 'staffamericanair', 'fallen', 'farthanks', 'parker', 'vile', 'moneywhy', 'portlandjetport', 'httptcokdmqjps', 'pple', 'httptcoribqrcyd', 'countingphoto', 'daysand', 'worstnever', 'betty', 'ilm', 'drvrugby', 'blizzard', 'surprisingly', 'strandedinnashville', 'againlost', 'livepersonplease', 'occasions', 'encounter', 'outright', 'upsetting', 'disguised', 'httptcouhuwuosc', 'coffeemaker', 'coma', 'requiring', 'tvmovie', 'installing', 'muzak', 'samsonite', 'totaled', 'baked', 'replys', 'usairwaysssuck', 'comforting', 'stationary', 'waitlol', 'sucksusairwayssucks', 'lucycat', 'scm', 'httptcostktjxan', 'timbit', 'reassess', 'thatbut', 'numberthe', 'rejected', 'fendforyourself', 'locator', 'kj', 'dnxv', 'hourconnected', 'systemtransferred', 'flailing', 'httptcojhxwmutxg', 'severally', 'chairmanlove', 'httptcomeoalcipdd', 'monetary', 'overloaded', 'emergencies', 'whatajoke', 'httptcoqsbdavuy', 'isabelle', 'gramp', 'divident', 'httptcoefphishb', 'systemic', 'spf', 'disallows', 'makeovertimecustomerserviceplease', 'donthavehighhopes', 'noreplyusairwaysmobilecom', 'filters', 'dns', 'admin', 'httptcohajlkqjw', 'antitrust', 'unprofessionalism', 'dayslate', 'httptcojhaukyv', 'itin', 'httptcowajkeyt', 'httptcobuwjtvuwkm', 'secret', 'pordes', 'helpfulim', 'holdtime', 'httptcouppabxrq', 'bohnjai', 'verbally', 'cussed', 'sdfairport', 'peeved', 'pascucci', 'httptcoyiwlhqhzgp', 'mumbled', 'uses', 'httptcoedgctbls', 'svllindia', 'provides', 'logistics', 'mumbai', 'surat', 'navimumbai', 'forsythfactor', 'passengerslose', 'gthour', 'dsearls', 'gooutofbusiness', 'fispahani', 'disruptions', 'httptcoekejbv', 'worsttraveldayever', 'maddening', 'unexplained', 'httptcopkaxunyfn', 'dallasraisenow', 'tweetin', 'doin', 'anythin', 'wiser', 'leads', 'crewi', 'neverflyusairways', 'heel', 'clicks', 'redheaded', 'thislinehasntmovedforanhour', 'shaquille', 'tysvm', 'fate', 'tyvm', 'hectic', 'husainhaqqani', 'husain', 'shld', 'protest', 'rehman', 'malik', 'httptcollwjazioa', 'noltnancy', 'bewhat', 'issucks', 'jokeboston', 'ladyone', 'httptcodhrfuijyp', 'erickofiejones', 'cycles', 'httptcodphqrgkdoa', 'spreadtheword', 'borrow', 'fish', 'praised', 'barklays', 'bookin', 'throne', 'conn', 'executiveplatinummeansnothing', 'iwantcoffee', 'eh', 'powered', 'longday', 'waivethefee', 'neptune', 'reposting', 'imateacher', 'neptunewaivethefee', 'notmyfault', 'vmail', 'techcontd', 'httptcobcwckwtnle', 'schedulecontact', 'snaps', 'cups', 'steaming', 'wheresthecustomerserviceat', 'httptcophiifnjit', 'emilylyonss', 'ordeal', 'deadhead', 'versus', 'hungary', 'daysno', 'usairway', 'satesq', 'phlcrw', 'httptcohhctie', 'hts', 'theend', 'goodday', 'ernievigil', 'fd', 'sickcrew', 'uncalled', 'bostonbbb', 'tanpa', 'tic', 'waivefee', 'unprofessionally', 'fmjtyl', 'anticipation', 'freddie', 'sibling', 'wether', 'approproately', 'tooooo', 'command', 'absorb', 'deceiving', 'reprehensible', 'winkwink', 'intimate', 'firefox', 'gray', 'submits', 'httptcohlzahxkdsn', 'travis', 'rush', 'jetwaywhy', 'apx', 'closing', 'nobackup', 'begun', 'jackkairys', 'lineoh', 'lgaiah', 'customerfriendly', 'accessible', 'planestrainsandautomobiles', 'preparedness', 'snowballed', 'couldwanted', 'httptcoxgpaayfdwt', 'aforementioned', 'patron', 'hoodlums', 'httptcoccefapl', 'doi', 'speciifc', 'character', 'aaus', 'hogs', 'impediment', 'duke', 'hat', 'mason', 'registering', 'httptcoayosjhzmc', 'researching', 'wclass', 'contaced', 'eyewitness', 'unheard', 'manned', 'hsv', 'crickets', 'ubetter', 'smth', 'seet', 'offwish', 'dating', 'edreamsen', 'optimistic', 'oy', 'tara', 'delayedthats', 'gem', 'someoneawesome', 'coin', 'upsmh', 'onehouronhold', 'senseless', 'reactivate', 'casimir', 'nocareforcustomers', 'mold', 'filthyplane', 'hopeidonotgetsick', 'httptcozikuoxgnw', 'httptcoywxrfngr', 'frustratingit', 'nexttimeiwillflysouthwest', 'tpadfwlax', 'grk', 'lex', 'xt', 'faus', 'addl', 'prolonged', 'prds', 'httptcodnmsblzumr', 'chef', 'miguel', 'allende', 'httptcotrdrcre', 'horriblewent', 'buttonthatcalled', 'ampwait', 'minsampput', 'calledampit', 'hungupnohelp', 'cot', 'andrewwasila', 'andrew', 'sma', 'rollercoaster', 'yesso', 'guysfor', 'killeen', 'wcustomer', 'droped', 'rwrd', 'aano', 'aadv', 'narrowly', 'standbylots', 'snags', 'pbpinftworth', 'gb', 'robertdwyer', 'choppiest', 'whiplash', 'americanairlinesfail', 'iwantmymoneyback', 'reversed', 'trustget', 'okyou', 'stuckinmemphis', 'texasisclosed', 'httptcovmquurzupw', 'httptcoipgeicsm', 'faves', 'thenewamerican', 'sheesh', 'espinosa', 'httptcohxlnvzknp', 'crated', 'wouldbe', 'pets', 'painfully', 'inexperienced', 'paged', 'spaced', 'httptcoaceboelpa', 'mattersits', 'clarkey', 'biggie', 'itunesmusic', 'spagnuolo', 'coached', 'rams', 'whammie', 'httptcooumclrxdn', 'robocalls', 'onplane', 'twitterdm', 'gems', 'origindestinationdates', 'ordpvg', 'arbitrary', 'pafe', 'aadfw', 'amso', 'trvlove', 'boatstyle', 'swivel', 'dietcoke', 'happyflier', 'rampers', 'marshaled', 'retired', 'resoled', 'kax', 'beantownmatty', 'grievance', 'maria', 'beanie', 'httptcoaneqxzrbp', 'lpalumbo', 'sexual', 'assult', 'laguardiaair', 'diapers', 'manners', 'dfwairport', 'fyicall', 'stilling', 'dialing', 'souljacoy', 'obscene', 'acquisition', 'youyou', 'dwell', 'encouragement', 'logical', 'timejust', 'wear', 'xxx', 'costwhy', 'vastly', 'httptcovoxcghciji', 'bundle', 'applause', 'freezes', 'nitrogen', 'inflating', 'fligt', 'httptcowcsazzqpae', 'beaches', 'temorrishotmailcom', 'goldsapphire', 'httptcotycgaeo', 'greati', 'mddc', 'ods', 'httptcohepknpuzwu', 'cdg', 'httptcofgjbexd', 'brrr', 'chilly', 'probls', 'wcomm', 'rtrn', 'nickeled', 'dcs', 'tt', 'planb', 'upgrademe', 'httptcogxmmmubb', 'httptcowdyekvbze', 'wichita', 'httptcoibkyjbcjm', 'animals', 'americandairlinessucks', 'experts', 'httptcompliodygn', 'preventable', 'wcompanies', 'foru', 'allowable', 'admitted', 'wconnection', 'daysplans', 'delaypending', 'hormonal', 'teenager', 'wastedeffort', 'reappeared', 'avios', 'undone', 'mce', 'respondingmy', 'utevgw', 'bragging', 'js', 'donedeal', 'talktoahuman', 'strength', 'mauererpower', 'reached', 'guysi', 'rnodfw', 'tomorrowplane', 'amshould', 'froute', 'struts', 'nozzle', 'calibrated', 'waybig', 'groundoutside', 'hellomy', 'absorber', 'ksml', 'enhance', 'dooronly', 'fuelamplikely', 'fuelcycle', 'communicationcompetition', 'yucki', 'httptcoromzqavi', 'americanairstill', 'prerecorded', 'httptcohyraoauu', 'milesthank', 'ordwe', 'refundprocedurenottoopainful', 'tmr', 'lala', 'leather', 'ay', 'seams', 'marsh', 'cityandsand', 'handoff', 'nutella', 'veryimportantproject', 'refurbish', 'exeu', 'haulba', 'intraeu', 'drain', 'fearing', 'potable', 'mcigtdfw', 'recommendation', 'burrito', 'overzealous', 'parentthey', 'pns', 'frequently', 'advisories', 'httptcodzkcauzu', 'wiggle', 'sliver', 'dumasttg', 'cannoxtralegroom', 'nocoatcloset', 'faail', 'yayayay', 'wack', 'bueno', 'cheque', 'unknowledgeable', 'potatoes', 'httptcomphoavrxc', 'dcastl', 'httptcoifespcbztm', 'ballbag', 'worrisome', 'preoccupied', 'flagging', 'observer', 'counterparts', 'bsuxlu', 'whereas', 'sgf', 'tyr', 'crewnow', 'outta', 'mebe', 'mikes', 'tk', 'spk', 'chk', 'sufficiently', 'presumably', 'reproach', 'reform', 'pretsa', 'bitchy', 'wayi', 'cater', 'superyan', 'happenedwhat', 'usxlon', 'weekly', 'hs', 'nofunatall', 'uwont', 'memake', 'mesit', 'excess', 'timesampstill', 'chasefoster', 'celebs', 'press', 'clunky', 'motor', 'cvgairport', 'rising', 'httptcovahdekvoke', 'awheelchair', 'miasfo', 'nonewplanes', 'httptcotwetpxuppn', 'countingthanks', 'noshow', 'scoot', 'miserablemorning', 'restaff', 'commence', 'dpdfpp', 'regina', 'argg', 'aas', 'bpdfpp', 'trite', 'platitudes', 'embassy', 'suites', 'woodland', 'herndon', 'virginia', 'neededwhy', 'tcf', 'laxogglax', 'infobag', 'thefaaonline', 'jayfranceschi', 'machines', 'pouting', 'attitudeissues', 'abilities', 'httptcomqfmxebxt', 'extenuating', 'downstairs', 'elise', 'ees', 'chking', 'schd', 'plainly', 'compmech', 'httptcoxbkvcraokn', 'reboarded', 'makers', 'mindset', 'httptcodqnnrfv', 'journalist', 'medication', 'daysampapologise', 'slacksoftuk', 'colours', 'skippers', 'walkaround', 'veers', 'httptcodwvdvqxbb', 'ife', 'timemoney', 'suprise', 'vanity', 'httptcofanygnux', 'gah', 'disorganised', 'timeshand', 'letterwent', 'airportcalledplease', 'abcnewsbayarea', 'onafter', 'inhumane', 'humanity', 'terror', 'roomsthat', 'twicegot', 'bills', 'helpphone', 'xox', 'subscription', 'hopingpraying', 'daysampcharging', 'toarrange', 'upin', 'argentinaclaiming', 'tollfree', 'emxlyy', 'swear', 'earrings', 'earring', 'dayjustgotworse', 'httptcouiesrghho', 'winks', 'auh', 'commutation', 'dialogue', 'drives', 'worstcustomerserviceever', 'flightrs', 'outtoo', 'bagits', 'curfew', 'notahappycustomer', 'leavingtomm', 'bleh', 'onlineis', 'crjs', 'airstairs', 'valet', 'brave', 'conferencewe', 'spiritairpr', 'chicagosmayor', 'noise', 'norahm', 'httptcocfzdjmnui', 'djevolutionhd', 'ep', 'lawyer', 'wrath', 'planelooks', 'laxshe', 'drag', 'gerrielliott', 'chronological', 'mispurchase', 'footage', 'filmcrew', 'latimes', 'chicagotribune', 'abi', 'httptcoqpownuv', 'cowboycerrone', 'figures', 'megentripodi', 'jordnnicole', 'retaining', 'clueless', 'midnite', 'whisper', 'react', 'responsibilitytoo', 'httptcoatwyifhzy', 'reread', 'joanne', 'flightnightmare', 'dart', 'dendfw', 'dartmedia', 'gunna', 'suntimes', 'cameragear', 'delayedstill', 'waitingyou', 'httptcomntptr', 'dub', 'injuries', 'periolodicly', 'snowice', 'tu', 'pmwe', 'leeway', 'snaord', 'geez', 'unserviceable', 'swu', 'jfkman', 'onei', 'yestwicefor', 'twa', 'yikes', 'httptcoivdiwqsf', 'thanksm', 'louprice', 'aacustomerservice', 'cabs', 'wsmall', 'slides', 'taxiway', 'httptcoponjjide', 'httptcodcwerzkr', 'outoftouchwithreality', 'nrosenb', 'aafail', 'appointment', 'deactivated', 'deactivate', 'acctits', 'inv', 'successful', 'wbuses', 'rizzilient', 'ridicules', 'httptcoxggcntcom', 'infinite', 'loop', 'hamsters', 'rabbits', 'agentbooked', 'pregnantwithtwins', 'httptcoimrlauih', 'thecandacesmith', 'candace', 'krescate', 'posting', 'fourth', 'contactcej', 'bqonpa', 'posmia', 'displeasure', 'bbbmedia', 'donotflywiththem', 'fidencio', 'kybilc', 'isle', 'gabriela', 'employeeworking', 'mialga', 'lip', 'maryellagreen', 'continuesstill', 'directbag', 'shafted', 'twins', 'abandon', 'pensacola', 'jokerunning', 'lima', 'cuzco', 'saidi', 'buenos', 'ares', 'jfknot', 'sre', 'hon', 'sauvignon', 'blanc', 'pronounce', 'multibillion', 'multimillion', 'barrettkarabis', 'httptconxzhbbmt', 'btr', 'agts', 'unamericanairlines', 'southwestairwasthere', 'envoys', 'envoy', 'reallythey', 'ofi', 'wudda', 'americanview', 'unfold', 'wrench', 'apron', 'suree', 'grnd', 'jeans', 'suits', 'tpadfwaus', 'iahdfw', 'nbc', 'httptcofwkjble', 'pounds', 'amen', 'meelan', 'rec', 'funerals', 'httptcoinbpbdw', 'unaccommodating', 'capability', 'httptcopzgcjchn', 'hitawall', 'newplanesmell', 'httptcodjjjnslht', 'pissedvery', 'evil', 'anythingjust', 'chariot', 'angle', 'httptcozzkqwwbjz', 'oldplanes', 'damageluggage', 'httptconbzkhizfv', 'httptcouqoopjpwg', 'originating', 'chge', 'americans', 'ecuador', 'httpstcoonklzvmt', 'httptcosfpcbyym', 'triedits', 'yepfiled', 'ud', 'chnge', 'retrn', 'pickng', 'phoneonly', 'complaintquestions', 'preparation', 'commend', 'rubbed', 'pn', 'deflator', 'chapter', 'amm', 'httptcokfdwqrklw', 'airportcardio', 'httptcooilncfweyg', 'refunddm', 'travelproblems', 'entree', 'nosedived', 'newamerican', 'httptcoessfoowt', 'delaney', 'shawn', 'kanne', 'httptcosedmjhiw', 'aateam', 'rigorous', 'minutewere', 'brownsville', 'hardtodo', 'hrsthere', 'problemsbtwthe', 'miamiphl', 'hoursi', 'hah', 'hahahah', 'liar', 'pacify', 'foolthats', 'span', 'daysnone', 'un', 'fin', 'believable', 'elwoodblues', 'americant', 'reuse', 'httptcolehgtzxz', 'aaadvantage', 'balloons', 'needknow', 'todayrather', 'maf', 'httptcogvgkhbxrb', 'hardest', 'agentwhats', 'httptcopfsenjkpw', 'minutessaid', 'httptcoxrsvagijn', 'providenciales', 'httptcocfhtkr', 'httptcosdlynmss', 'becky', 'piela', 'orange', 'httptcocehroeurc', 'ish', 'aadavantage', 'lan', 'lessand', 'bankruptcies', 'probability', 'uhmmm', 'jcolenc', 'dallastx', 'dogs', 'helpline', 'holler', 'gtsvyb', 'unprepared', 'lacked', 'booklet', 'revs', 'ystday', 'angrybird', 'wheresmybag', 'mxpjfk', 'svu', 'gang', 'pats', 'doyourjob', 'extraordinary', 'goingforgreat', 'acpt', 'trickling', 'httptcokbtzvjub', 'buses', 'wakinginmemphis', 'maxfitgirl', 'specially', 'carlton', 'goodbye', 'httptcoroqaveoi', 'gladys', 'es', 'amiga', 'fllight', 'bussines', 'genuine', 'shortage', 'natt', 'panam', 'neverflyaaagain', 'evoucher', 'fluctuated', 'backended', 'mattthomasnews', 'siberia', 'woase', 'helsinkiairport', 'winterops', 'prebook', 'midoexhibition', 'derekc', 'nastiest', 'yesterdayrubber', 'slime', 'backfas', 'meit', 'congested', 'dissapointing', 'edplotts', 'httptcotjbnwztq', 'thanksamericanairlines', 'talent', 'bdsm', 'porn', 'httptcouqgwqsffu', 'dungeon', 'httptcoplsopihu', 'op', 'tulsanot', 'servicelooks', 'raft', 'httptcodtheyofxrb', 'yessir', 'yourlocalnyer', 'rob', 'botched', 'absurdity', 'tug', 'meetingoutraged', 'memorize', 'fiveword', 'phrase', 'numerical', 'shortcuts', 'tywinter', 'thingsthe', 'detailsthat', 'ohi', 'itover', 'nbsnewsr', 'cnnbrk', 'protocols', 'laughed', 'reservationchange', 'mikehertzgmailcom', 'phrased', 'fakeawards', 'luvisbetter', 'justynmoro', 'automatic', 'attendent', 'terriblebeen', 'mty', 'agenti', 'surfer', 'noloveforsurfers', 'laxmad', 'iberia', 'escalate', 'adjustments', 'seemless', 'surfboardbag', 'nomoaa', 'mait', 'formality', 'rudelyreturning', 'reader', 'nohotel', 'ahem', 'frowny', 'httptcorkprxtgvfl', 'unsat', 'sjcgtlax', 'angelo', 'lucymay', 'discussing', 'hfjkto', 'unimpressed', 'dallasairporti', 'clewould', 'howdy', 'erroring', 'skycaps', 'thousandth', 'mistreated', 'weekthats', 'guru', 'ease', 'evidently', 'meetingsinterviews', 'rides', 'circuit', 'breaker', 'busfirst', 'milesaaver', 'whyfly', 'hourwaitsucks', 'madhouse', 'skycap', 'responsetough', 'montrose', 'allrepresentativesbusy', 'nooption', 'packermama', 'bademployeeproblem', 'surgeryhelp', 'flightupset', 'irrlcd', 'unamerican', 'cathaypacific', 'cathaypacificus', 'airsouthwest', 'httptcownytzsrn', 'dehydrated', 'httptconwffkafy', 'oaaret', 'ciddfw', 'beis', 'chaperone', 'rldelahunty', 'loaaret', 'againestimated', 'mrobinson', 'crazybitch', 'andyellwood', 'delk', 'halfthought', 'httptcoktsskj', 'pie', 'meerikangas', 'hahahaha', 'hoagy', 'pasting', 'wreservations', 'anticipating', 'honeymooni', 'bride', 'attending', 'earlieror', 'notreceive', 'brooklyn', 'jacqueline', 'amexserve', 'witnessed', 'denise', 'rtn', 'noworse', 'morninghow', 'airat', 'rudestaff', 'incompetentmanagers', 'eleonora', 'tisk', 'httptcoxhsuupheze', 'awfully', 'unclear', 'audio', 'pir', 'cud', 'wong', 'marisol', 'pimentel', 'reasonably', 'alternative', 'mallowfairy', 'cnext', 'kthxbai', 'strict', 'statuswill', 'lacks', 'doorclose', 'drinkssnacks', 'selfupgraded', 'jaipur', 'dehli', 'ccwhy', 'murphyjulie', 'abcs', 'basics', 'stiiiil', 'malhoit', 'hating', 'cac', 'familyfriends', 'httptcohfajzffl', 'lmk', 'mwangbickler', 'michael', 'thehours', 'flighttherere', 'infuriating', 'riedel', 'activealy', 'usairwis', 'kaha', 'teamit', 'americanairif', 'itamericanairlines', 'qsvgru', 'stmt', 'getyouracttogether', 'painandsuffering', 'emrey', 'loctjycqh', 'nitenot', 'pu', 'unt', 'aft', 'remained', 'callbag', 'insanehelp', 'unreachable', 'datetime', 'revieving', 'agreed', 'httptcorxmjwooqi', 'chkin', 'wsupervisor', 'mtg', 'baggagedrama', 'httptcocshrqq', 'squawked', 'admiralsclub', 'worstcustservice', 'zurichnew', 'flightsthis', 'nationalized', 'nations', 'declared', 'squawking', 'fligth', 'somthing', 'dayneed', 'dawn', 'nickcunningham', 'qqbmug', 'reticketed', 'loganex', 'epicfailure', 'unsettling', 'emeyerson', 'ggreenwald', 'walmart', 'httptcogkzrei', 'koalaxphlord', 'savr', 'awrd', 'koalaxphxord', 'apologise', 'blameshiftoverload', 'helpthanks', 'jfklas', 'shirt', 'visiting', 'languages', 'latinamerican', 'ithaca', 'xld', 'rulesshouldbend', 'sheer', 'reigning', 'gd', 'sloooowresponses', 'robinreda', 'twenty', 'prank', 'plt', 'karaax', 'neuer', 'flyingflighttravel', 'reebooked', 'lvdfw', 'champagne', 'ordnrt', 'tokyomarathon', 'httptcoijxltkx', 'somethingwhich', 'nothinghoping', 'waynot', 'insure', 'fricken', 'responsibilityamp', 'americanaireveryone', 'weeksampthose', 'dickheads', 'methey', 'callings', 'finale', 'rebookplease', 'instance', 'unsuccessful', 'nonperformance', 'onholdfordays', 'plebes', 'youredoingitwrong', 'tree', 'foresight', 'tahiti', 'kevolt', 'sozldj', 'httptconcrmqibiwo', 'cll', 'importantflight', 'sample', 'chargersclothescoatcontact', 'lenses', 'scareair', 'callcentre', 'whoooo', 'hooooo', 'pace', 'passengersstranded', 'nashinmypants', 'quitting', 'cars', 'sounding', 'bitchslapped', 'juliasinton', 'dmstill', 'waitingso', 'interestingagent', 'refers', 'autorebooked', 'trial', 'crystal', 'toby', 'holdcan', 'lieslieslies', 'arminrosen', 'bensonhenderson', 'bmi', 'reciprocate', 'dogbuckeye', 'txfd', 'onholdforever', 'suboptimal', 'incompetency', 'tusdfw', 'wcx', 'centre', 'itwhy', 'forgotmiahe', 'willneverflywithyou', 'lesliewolfson', 'ltr', 'nlrphoto', 'espncoachmack', 'conv', 'ticks', 'pigeon', 'warn', 'mdbeei', 'mcmullen', 'whyareyouyelling', 'httptcovradykep', 'doll', 'virtual', 'httptcoupazefdl', 'agostill', 'users', 'emailtext', 'ratchet', 'watson', 'jennings', 'greyhoundbus', 'els', 'queuing', 'quickest', 'exboyfriend', 'maps', 'electronics', 'httptcohcnnwxqqr', 'mentions', 'gratitude', 'httptcojiclvdts', 'ltaljx', 'goodthingscome', 'ti', 'shiz', 'barrier', 'racist', 'barcodes', 'betterother', 'whereisthelove', 'whybeaaff', 'duanenclark', 'citynot', 'sizer', 'apathetic', 'organized', 'breeze', 'httptcouoaryqpu', 'plse', 'methe', 'httptcocsddccmvbd', 'equivalent', 'dirt', 'sfojfk', 'httptcombkmdnw', 'programmers', 'instantly', 'avenue', 'jal', 'cathay', 'marshall', 'tracker', 'americanairsucks', 'hiremorepoeple', 'hints', 'wnothing', 'wtw', 'waitabout', 'perhr', 'burden', 'kys', 'oxgen', 'tank', 'cincinnati', 'informing', 'aircraftrunways', 'todaytomorrow', 'combative', 'hury', 'miacur', 'detailsu', 'httptcogtumhbh', 'httptconopqxisbs', 'texarkana', 'shouldhavedriven', 'dallasfort', 'psych', 'customersshafted', 'yourphonesystemsucks', 'phldfw', 'blessed', 'adolfo', 'garcia', 'twiiter', 'vcp', 'banana', 'undies', 'mall', 'httptconexdbcrhg', 'vanessaannz', 'inclemental', 'strtd', 'pummeled', 'slcairport', 'arpt', 'activated', 'destn', 'nosecuritylines', 'poorest', 'httptcomfrabgna', 'alabama', 'thickens', 'aaalwayslate', 'dandy', 'httptcofvlxirhf', 'lookforwardtoflywithaa', 'helper', 'motvida', 'aged', 'internally', 'profiting', 'billions', 'hurting', 'covert', 'tactics', 'jeopardy', 'daipresident', 'hoursgot', 'cncdld', 'snuck', 'cookie', 'spectacularfed', 'cinedrones', 'httptcoocjsvssqf', 'carlw', 'nan', 'httptcojmhmkdivl', 'bear', 'retains', 'cstmr', 'httptcoucveuhurz', 'grossthe', 'cancld', 'discnctany', 'abidfw', 'ticketi', 'cheat', 'horribly', 'stray', 'praywinn', 'understaffing', 'slowdown', 'spectacular', 'lhrdfw', 'priceline', 'troubleshot', 'paranoid', 'jaynegelman', 'howabout', 'moreblacklist', 'retrieved', 'flightive', 'httptconageakpa', 'insisted', 'heymynameissean', 'newairplanes', 'kconti', 'berlin', 'jameswester', 'james', 'wflights', 'cjdjpdx', 'multinational', 'unmoving', 'httptcoaswqwufz', 'kaps', 'totallyconfused', 'httptcodvsltqzkmq', 'freaks', 'surreal', 'rio', 'rcmoficial', 'representing', 'cisnerosmedia', 'yourstoryhere', 'cyncyn', 'dfword', 'watered', 'patrichruben', 'maximization', 'dinosaurs', 'cnbc', 'bloombergradio', 'httptcohpgxyzrwo', 'derekaustincenturyca', 'manuelc', 'ezemanalyst', 'impersonal', 'impatient', 'skillful', 'flightness', 'snafu', 'httptcoypvpvdltys', 'untrue', 'cncld', 'httptcoqkkjdfobos', 'everythings', 'brothaaaaaa', 'repaired', 'sarahzou', 'translation', 'reinvest', 'colossal', 'infringement', 'jimdaytv', 'unannounced', 'fingerscrossed', 'pleasegod', 'missmykids', 'aex', 'overflow', 'rem', 'ensued', 'marcos', 'concierge', 'gru', 'sorting', 'chargesi', 'sleepless', 'worthy', 'useles', 'siss', 'dfwgtgtmke', 'allll', 'convenience', 'joplin', 'jln', 'temper', 'weeklycommuteonaa', 'httptcojqhgjtmw', 'sour', 'taste', 'saveus', 'hassles', 'patheticcx', 'compares', 'shortstaffed', 'adress', 'spontaneously', 'overtime', 'bershawnjackson', 'ampamp', 'ddean', 'deoderant', 'httpstcoomviega', 'teco', 'reclameaqui', 'tripadvisor', 'httptcoaugjscmolu', 'sabotaging', 'advan', 'unloads', 'supvrs', 'fruit', 'mistreatment', 'austic', 'changemassive', 'numberphone', 'ege', 'ordgtcdg', 'delayednot', 'replyour', 'repainted', 'passengerbillofrights', 'httptcogxvfumniz', 'foodnothing', 'parameters', 'usable', 'sharon', 'saviour', 'rtw', 'planner', 'spec', 'iceday', 'gather', 'flightledcant', 'thxu', 'abcnews', 'httptcoooejdjop', 'sacraig', 'hinted', 'abandonment', 'phillypm', 'platinums', 'stupidly', 'nothelpful', 'badmgmt', 'aggravated', 'dawndavis', 'hospitals', 'flightchange', 'hoops', 'tofrom', 'delayedwow', 'cncled', 'arrangement', 'dotnetnate', 'exps', 'seguinej', 'nevergettinghome', 'mk', 'warrants', 'yeseniahernandez', 'peculiar', 'fixyourstuff', 'complt', 'lav', 'pln', 'lnded', 'inedible', 'shrimp', 'httptcosotlxqsrp', 'theydontanswer', 'sentierimelinda', 'httptcoypbkcirbxu', 'pasta', 'tastes', 'consumption', 'hateful', 'spell', 'gobankrupt', 'httptcoamcuiewo', 'usvi', 'httptcodndoepqukz', 'niece', 'sitecomplicated', 'ordering', 'volumecan', 'httptcobttgmyna', 'lhrord', 'skypewell', 'viracopos', 'httptcofheslpmu', 'travisamex', 'fuckoff', 'minsrescue', 'lgasat', 'ususdo', 'inventory', 'americanforlife', 'fiscal', 'guc', 'backattempt', 'gvn', 'httptconxqijcojnj', 'customercant', 'tcunningham', 'jacquelyn', 'tomo', 'onlineuseless', 'stucked', 'aadelay', 'junction', 'amazingflightcrew', 'aftr', 'bng', 'hstg', 'refsd', 'med', 'fnd', 'cnceld', 'downloaded', 'cop', 'fcuk', 'vacancies', 'foreveranyone', 'httptcoyokkhhqcmp', 'karabuxthomps', 'renewed', 'pe', 'thnkx', 'bt', 'sux', 'httptcoottyrymzd', 'macario', 'golfwithwoody', 'woody', 'prerookie', 'miatoiah', 'russellswriting', 'russ', 'slammed', 'advisoryreally', 'nail', 'coffin', 'chicagothanks', 'deane', 'norma', 'sedholm', 'aacom', 'authoritative', 'stagnant', 'doubletriple', 'metars', 'topdown', 'thenatek', 'luz', 'calderon', 'king', 'struggle', 'httptcohqdbiruvg', 'securing', 'cheerupdates', 'helpaa', 'naomicooper', 'bdindallas', 'neglected', 'boofin', 'httptcoxpmigqjn', 'emmaclifford', 'attackingbabymomma', 'crazinessintherockies', 'ejacqui', 'russelneiss', 'guatemala', 'canadians', 'ringing', 'appleton', 'eliza', 'airtahitinui', 'httptcopfsluxegw', 'sweetmel', 'communicateor', 'oranything', 'evidence', 'ils', 'caexhibitions', 'incompetenceunderstaffing', 'compounding', 'tennetexan', 'marxsterbcow', 'aaso', 'actingoutmgmnt', 'brewcrewfan', 'emailingcallingdming', 'unavoidable', 'controllable', 'yvonneokaka', 'twitterhug', 'shesaidrun', 'messes', 'wthis', 'nthin', 'evr', 'natl', 'dfwno', 'hourflight', 'httptcosdmwvrzr', 'manuel', 'sapgtmia', 'disconnections', 'chewey', 'oatmeal', 'cst', 'golden', 'tops', 'custy', 'pvr', 'shannonbloom', 'duck', 'httptcoeiwsybfu', 'robertsamps', 'stuffy', 'ky', 'arbitrarily', 'passengersdont', 'retribution', 'dump', 'cxldprotection', 'amenities', 'function', 'nocharge', 'httptcodrwdjhai', 'nycbuenos', 'aires', 'jlhalldc', 'tilleymonsta', 'httptcogrsdl', 'blackberry']\n"
     ]
    }
   ],
   "source": [
    "unique_words=[]\n",
    "for i in range(len(df)):\n",
    "    for word in df[\"text\"][i].split():\n",
    "        if word not in unique_words:\n",
    "            unique_words.append(word)\n",
    "\n",
    "print('list of unique words',unique_words)"
   ]
  },
  {
   "cell_type": "code",
   "execution_count": 17,
   "id": "recognized-fetish",
   "metadata": {},
   "outputs": [
    {
     "data": {
      "text/plain": [
       "array([1., 1., 1., ..., 0., 0., 0.])"
      ]
     },
     "execution_count": 17,
     "metadata": {},
     "output_type": "execute_result"
    }
   ],
   "source": [
    "feature_matrix=np.zeros((len(df[\"text\"]),len(unique_words)))\n",
    "for n,review in enumerate(df[\"text\"]):\n",
    "    for word in review.split():\n",
    "        feature_matrix[n][unique_words.index(word)]=review.count(word)\n",
    "        \n",
    "max(feature_matrix[0])"
   ]
  },
  {
   "cell_type": "code",
   "execution_count": 18,
   "id": "threaded-package",
   "metadata": {},
   "outputs": [
    {
     "data": {
      "text/plain": [
       "(14640, 14562)"
      ]
     },
     "execution_count": 18,
     "metadata": {},
     "output_type": "execute_result"
    }
   ],
   "source": [
    "feature_matrix.shape"
   ]
  },
  {
   "cell_type": "code",
   "execution_count": 28,
   "id": "silver-investigation",
   "metadata": {},
   "outputs": [],
   "source": [
    "from sklearn.naive_bayes import GaussianNB"
   ]
  },
  {
   "cell_type": "code",
   "execution_count": 39,
   "id": "cellular-orlando",
   "metadata": {},
   "outputs": [],
   "source": [
    "from sklearn.model_selection import train_test_split\n",
    "\n",
    "X_train, X_test, y_train, y_test = train_test_split(feature_matrix, df[\"airline_sentiment\"], test_size=0.30, stratify=df[\"airline_sentiment\"])"
   ]
  },
  {
   "cell_type": "code",
   "execution_count": 40,
   "id": "furnished-afternoon",
   "metadata": {},
   "outputs": [],
   "source": [
    "model  = GaussianNB()"
   ]
  },
  {
   "cell_type": "code",
   "execution_count": 41,
   "id": "annual-swaziland",
   "metadata": {},
   "outputs": [
    {
     "data": {
      "text/plain": [
       "GaussianNB()"
      ]
     },
     "execution_count": 41,
     "metadata": {},
     "output_type": "execute_result"
    }
   ],
   "source": [
    "model.fit(X_train,y_train)"
   ]
  },
  {
   "cell_type": "code",
   "execution_count": 42,
   "id": "functional-sunrise",
   "metadata": {},
   "outputs": [
    {
     "data": {
      "text/plain": [
       "0.5022768670309654"
      ]
     },
     "execution_count": 42,
     "metadata": {},
     "output_type": "execute_result"
    }
   ],
   "source": [
    "model.score(X_test, y_test)"
   ]
  },
  {
   "cell_type": "code",
   "execution_count": 53,
   "id": "resident-giant",
   "metadata": {},
   "outputs": [],
   "source": [
    "from sklearn.metrics import classification_report, confusion_matrix\n",
    "from sklearn.metrics import accuracy_score"
   ]
  },
  {
   "cell_type": "code",
   "execution_count": 54,
   "id": "ranking-parts",
   "metadata": {},
   "outputs": [
    {
     "name": "stdout",
     "output_type": "stream",
     "text": [
      "Confusion matrix\n",
      "[[1453  540  760]\n",
      " [ 201  299  430]\n",
      " [ 151  104  454]]\n",
      "              precision    recall  f1-score   support\n",
      "\n",
      "    negative       0.80      0.53      0.64      2753\n",
      "     neutral       0.32      0.32      0.32       930\n",
      "    positive       0.28      0.64      0.39       709\n",
      "\n",
      "    accuracy                           0.50      4392\n",
      "   macro avg       0.47      0.50      0.45      4392\n",
      "weighted avg       0.62      0.50      0.53      4392\n",
      "\n"
     ]
    }
   ],
   "source": [
    "pred = model.predict(X_test)\n",
    "accNB = accuracy_score(y_test, pred)\n",
    "y_pred_prob = model.predict_proba(X_test)\n",
    "\n",
    "print(\"Confusion matrix\")\n",
    "print(confusion_matrix(y_test,pred))\n",
    "print(classification_report(y_test,pred))\n"
   ]
  },
  {
   "cell_type": "code",
   "execution_count": 55,
   "id": "nearby-tutorial",
   "metadata": {},
   "outputs": [],
   "source": [
    "from sklearn.naive_bayes import BernoulliNB\n",
    "from sklearn.naive_bayes import MultinomialNB"
   ]
  },
  {
   "cell_type": "code",
   "execution_count": 57,
   "id": "intense-furniture",
   "metadata": {},
   "outputs": [],
   "source": [
    "BNB = BernoulliNB()\n",
    "MNB = MultinomialNB()"
   ]
  },
  {
   "cell_type": "code",
   "execution_count": 58,
   "id": "postal-degree",
   "metadata": {},
   "outputs": [
    {
     "name": "stdout",
     "output_type": "stream",
     "text": [
      "Confusion matrix\n",
      "[[2628  103   22]\n",
      " [ 466  407   57]\n",
      " [ 308   84  317]]\n",
      "              precision    recall  f1-score   support\n",
      "\n",
      "    negative       0.77      0.95      0.85      2753\n",
      "     neutral       0.69      0.44      0.53       930\n",
      "    positive       0.80      0.45      0.57       709\n",
      "\n",
      "    accuracy                           0.76      4392\n",
      "   macro avg       0.75      0.61      0.65      4392\n",
      "weighted avg       0.76      0.76      0.74      4392\n",
      "\n"
     ]
    }
   ],
   "source": [
    "BNB.fit(X_train,y_train)\n",
    "BNB.score(X_test, y_test)\n",
    "pred = BNB.predict(X_test)\n",
    "accNB = accuracy_score(y_test, pred)\n",
    "y_pred_prob = BNB.predict_proba(X_test)\n",
    "\n",
    "print(\"Confusion matrix\")\n",
    "print(confusion_matrix(y_test,pred))\n",
    "print(classification_report(y_test,pred))\n"
   ]
  },
  {
   "cell_type": "code",
   "execution_count": 60,
   "id": "hairy-concept",
   "metadata": {},
   "outputs": [
    {
     "name": "stdout",
     "output_type": "stream",
     "text": [
      "Confusion matrix\n",
      "[[2619   90   44]\n",
      " [ 477  357   96]\n",
      " [ 278   66  365]]\n",
      "              precision    recall  f1-score   support\n",
      "\n",
      "    negative       0.78      0.95      0.85      2753\n",
      "     neutral       0.70      0.38      0.49       930\n",
      "    positive       0.72      0.51      0.60       709\n",
      "\n",
      "    accuracy                           0.76      4392\n",
      "   macro avg       0.73      0.62      0.65      4392\n",
      "weighted avg       0.75      0.76      0.74      4392\n",
      "\n"
     ]
    }
   ],
   "source": [
    "MNB.fit(X_train,y_train)\n",
    "MNB.score(X_test, y_test)\n",
    "pred = MNB.predict(X_test)\n",
    "acMNB = accuracy_score(y_test, pred)\n",
    "y_pred_prob = MNB.predict_proba(X_test)\n",
    "\n",
    "print(\"Confusion matrix\")\n",
    "print(confusion_matrix(y_test,pred))\n",
    "print(classification_report(y_test,pred))"
   ]
  },
  {
   "cell_type": "code",
   "execution_count": null,
   "id": "italic-prompt",
   "metadata": {},
   "outputs": [],
   "source": []
  }
 ],
 "metadata": {
  "colab": {
   "name": "Task 1.ipynb",
   "provenance": []
  },
  "kernelspec": {
   "display_name": "Python 3",
   "language": "python",
   "name": "python3"
  },
  "language_info": {
   "codemirror_mode": {
    "name": "ipython",
    "version": 3
   },
   "file_extension": ".py",
   "mimetype": "text/x-python",
   "name": "python",
   "nbconvert_exporter": "python",
   "pygments_lexer": "ipython3",
   "version": "3.7.10"
  }
 },
 "nbformat": 4,
 "nbformat_minor": 5
}
